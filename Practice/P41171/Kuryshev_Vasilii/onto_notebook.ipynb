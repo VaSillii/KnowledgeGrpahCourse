{
  "nbformat": 4,
  "nbformat_minor": 0,
  "metadata": {
    "colab": {
      "name": "Untitled1.ipynb",
      "provenance": [],
      "collapsed_sections": [],
      "toc_visible": true
    },
    "kernelspec": {
      "name": "python3",
      "display_name": "Python 3"
    },
    "language_info": {
      "name": "python"
    }
  },
  "cells": [
    {
      "cell_type": "markdown",
      "metadata": {
        "id": "o3SEIPLfwJZB"
      },
      "source": [
        "# Install library"
      ]
    },
    {
      "cell_type": "code",
      "metadata": {
        "colab": {
          "base_uri": "https://localhost:8080/"
        },
        "id": "xShgIasCwAsc",
        "outputId": "3538b83f-d1d1-4773-9e8e-32e26a12da52"
      },
      "source": [
        "!pip install rdflib\n",
        "!pip install PyDrive"
      ],
      "execution_count": null,
      "outputs": [
        {
          "output_type": "stream",
          "text": [
            "Collecting rdflib\n",
            "\u001b[?25l  Downloading https://files.pythonhosted.org/packages/d0/6b/6454aa1db753c0f8bc265a5bd5c10b5721a4bb24160fb4faf758cf6be8a1/rdflib-5.0.0-py3-none-any.whl (231kB)\n",
            "\r\u001b[K     |█▍                              | 10kB 13.3MB/s eta 0:00:01\r\u001b[K     |██▉                             | 20kB 18.9MB/s eta 0:00:01\r\u001b[K     |████▎                           | 30kB 10.8MB/s eta 0:00:01\r\u001b[K     |█████▊                          | 40kB 8.5MB/s eta 0:00:01\r\u001b[K     |███████                         | 51kB 5.4MB/s eta 0:00:01\r\u001b[K     |████████▌                       | 61kB 5.9MB/s eta 0:00:01\r\u001b[K     |██████████                      | 71kB 6.4MB/s eta 0:00:01\r\u001b[K     |███████████▍                    | 81kB 6.2MB/s eta 0:00:01\r\u001b[K     |████████████▊                   | 92kB 6.1MB/s eta 0:00:01\r\u001b[K     |██████████████▏                 | 102kB 6.5MB/s eta 0:00:01\r\u001b[K     |███████████████▋                | 112kB 6.5MB/s eta 0:00:01\r\u001b[K     |█████████████████               | 122kB 6.5MB/s eta 0:00:01\r\u001b[K     |██████████████████▍             | 133kB 6.5MB/s eta 0:00:01\r\u001b[K     |███████████████████▉            | 143kB 6.5MB/s eta 0:00:01\r\u001b[K     |█████████████████████▎          | 153kB 6.5MB/s eta 0:00:01\r\u001b[K     |██████████████████████▊         | 163kB 6.5MB/s eta 0:00:01\r\u001b[K     |████████████████████████        | 174kB 6.5MB/s eta 0:00:01\r\u001b[K     |█████████████████████████▌      | 184kB 6.5MB/s eta 0:00:01\r\u001b[K     |███████████████████████████     | 194kB 6.5MB/s eta 0:00:01\r\u001b[K     |████████████████████████████▍   | 204kB 6.5MB/s eta 0:00:01\r\u001b[K     |█████████████████████████████▉  | 215kB 6.5MB/s eta 0:00:01\r\u001b[K     |███████████████████████████████▏| 225kB 6.5MB/s eta 0:00:01\r\u001b[K     |████████████████████████████████| 235kB 6.5MB/s \n",
            "\u001b[?25hRequirement already satisfied: six in /usr/local/lib/python3.7/dist-packages (from rdflib) (1.15.0)\n",
            "Collecting isodate\n",
            "\u001b[?25l  Downloading https://files.pythonhosted.org/packages/9b/9f/b36f7774ff5ea8e428fdcfc4bb332c39ee5b9362ddd3d40d9516a55221b2/isodate-0.6.0-py2.py3-none-any.whl (45kB)\n",
            "\u001b[K     |████████████████████████████████| 51kB 5.2MB/s \n",
            "\u001b[?25hRequirement already satisfied: pyparsing in /usr/local/lib/python3.7/dist-packages (from rdflib) (2.4.7)\n",
            "Installing collected packages: isodate, rdflib\n",
            "Successfully installed isodate-0.6.0 rdflib-5.0.0\n",
            "Requirement already satisfied: PyDrive in /usr/local/lib/python3.7/dist-packages (1.3.1)\n",
            "Requirement already satisfied: PyYAML>=3.0 in /usr/local/lib/python3.7/dist-packages (from PyDrive) (3.13)\n",
            "Requirement already satisfied: google-api-python-client>=1.2 in /usr/local/lib/python3.7/dist-packages (from PyDrive) (1.12.8)\n",
            "Requirement already satisfied: oauth2client>=4.0.0 in /usr/local/lib/python3.7/dist-packages (from PyDrive) (4.1.3)\n",
            "Requirement already satisfied: google-api-core<2dev,>=1.21.0 in /usr/local/lib/python3.7/dist-packages (from google-api-python-client>=1.2->PyDrive) (1.26.3)\n",
            "Requirement already satisfied: six<2dev,>=1.13.0 in /usr/local/lib/python3.7/dist-packages (from google-api-python-client>=1.2->PyDrive) (1.15.0)\n",
            "Requirement already satisfied: google-auth-httplib2>=0.0.3 in /usr/local/lib/python3.7/dist-packages (from google-api-python-client>=1.2->PyDrive) (0.0.4)\n",
            "Requirement already satisfied: uritemplate<4dev,>=3.0.0 in /usr/local/lib/python3.7/dist-packages (from google-api-python-client>=1.2->PyDrive) (3.0.1)\n",
            "Requirement already satisfied: google-auth>=1.16.0 in /usr/local/lib/python3.7/dist-packages (from google-api-python-client>=1.2->PyDrive) (1.30.0)\n",
            "Requirement already satisfied: httplib2<1dev,>=0.15.0 in /usr/local/lib/python3.7/dist-packages (from google-api-python-client>=1.2->PyDrive) (0.17.4)\n",
            "Requirement already satisfied: pyasn1-modules>=0.0.5 in /usr/local/lib/python3.7/dist-packages (from oauth2client>=4.0.0->PyDrive) (0.2.8)\n",
            "Requirement already satisfied: rsa>=3.1.4 in /usr/local/lib/python3.7/dist-packages (from oauth2client>=4.0.0->PyDrive) (4.7.2)\n",
            "Requirement already satisfied: pyasn1>=0.1.7 in /usr/local/lib/python3.7/dist-packages (from oauth2client>=4.0.0->PyDrive) (0.4.8)\n",
            "Requirement already satisfied: requests<3.0.0dev,>=2.18.0 in /usr/local/lib/python3.7/dist-packages (from google-api-core<2dev,>=1.21.0->google-api-python-client>=1.2->PyDrive) (2.23.0)\n",
            "Requirement already satisfied: protobuf>=3.12.0 in /usr/local/lib/python3.7/dist-packages (from google-api-core<2dev,>=1.21.0->google-api-python-client>=1.2->PyDrive) (3.12.4)\n",
            "Requirement already satisfied: googleapis-common-protos<2.0dev,>=1.6.0 in /usr/local/lib/python3.7/dist-packages (from google-api-core<2dev,>=1.21.0->google-api-python-client>=1.2->PyDrive) (1.53.0)\n",
            "Requirement already satisfied: setuptools>=40.3.0 in /usr/local/lib/python3.7/dist-packages (from google-api-core<2dev,>=1.21.0->google-api-python-client>=1.2->PyDrive) (56.1.0)\n",
            "Requirement already satisfied: pytz in /usr/local/lib/python3.7/dist-packages (from google-api-core<2dev,>=1.21.0->google-api-python-client>=1.2->PyDrive) (2018.9)\n",
            "Requirement already satisfied: packaging>=14.3 in /usr/local/lib/python3.7/dist-packages (from google-api-core<2dev,>=1.21.0->google-api-python-client>=1.2->PyDrive) (20.9)\n",
            "Requirement already satisfied: cachetools<5.0,>=2.0.0 in /usr/local/lib/python3.7/dist-packages (from google-auth>=1.16.0->google-api-python-client>=1.2->PyDrive) (4.2.2)\n",
            "Requirement already satisfied: urllib3!=1.25.0,!=1.25.1,<1.26,>=1.21.1 in /usr/local/lib/python3.7/dist-packages (from requests<3.0.0dev,>=2.18.0->google-api-core<2dev,>=1.21.0->google-api-python-client>=1.2->PyDrive) (1.24.3)\n",
            "Requirement already satisfied: chardet<4,>=3.0.2 in /usr/local/lib/python3.7/dist-packages (from requests<3.0.0dev,>=2.18.0->google-api-core<2dev,>=1.21.0->google-api-python-client>=1.2->PyDrive) (3.0.4)\n",
            "Requirement already satisfied: idna<3,>=2.5 in /usr/local/lib/python3.7/dist-packages (from requests<3.0.0dev,>=2.18.0->google-api-core<2dev,>=1.21.0->google-api-python-client>=1.2->PyDrive) (2.10)\n",
            "Requirement already satisfied: certifi>=2017.4.17 in /usr/local/lib/python3.7/dist-packages (from requests<3.0.0dev,>=2.18.0->google-api-core<2dev,>=1.21.0->google-api-python-client>=1.2->PyDrive) (2020.12.5)\n",
            "Requirement already satisfied: pyparsing>=2.0.2 in /usr/local/lib/python3.7/dist-packages (from packaging>=14.3->google-api-core<2dev,>=1.21.0->google-api-python-client>=1.2->PyDrive) (2.4.7)\n"
          ],
          "name": "stdout"
        }
      ]
    },
    {
      "cell_type": "markdown",
      "metadata": {
        "id": "_qiovL1uwPZs"
      },
      "source": [
        "# Import library\n"
      ]
    },
    {
      "cell_type": "code",
      "metadata": {
        "id": "NiCJcAFxwHD5"
      },
      "source": [
        "from rdflib import URIRef, BNode, Literal, Namespace, Graph\n",
        "from rdflib.namespace import Namespace, NamespaceManager\n",
        "from rdflib.plugins import sparql\n",
        "from rdflib.namespace import RDF, RDFS\n",
        "from rdflib.serializer import Serializer"
      ],
      "execution_count": null,
      "outputs": []
    },
    {
      "cell_type": "code",
      "metadata": {
        "colab": {
          "base_uri": "https://localhost:8080/"
        },
        "id": "_Oa4sDdvwZNY",
        "outputId": "80c18e14-fee5-4e02-edaf-c593d0cc4403"
      },
      "source": [
        "graph = Graph()\n",
        "graph.parse(\"book_ontology-5.rdf\", format=\"application/rdf+xml\")\n",
        "graph.serialize(format='n3')"
      ],
      "execution_count": null,
      "outputs": [
        {
          "output_type": "execute_result",
          "data": {
            "text/plain": [
              "b'@prefix : <http://www.semanticweb.org/vasilii/ontologies/2021/3/book_onto#> .\\n@prefix owl: <http://www.w3.org/2002/07/owl#> .\\n@prefix rdfs: <http://www.w3.org/2000/01/rdf-schema#> .\\n@prefix xsd: <http://www.w3.org/2001/XMLSchema#> .\\n\\n:Educational_book a owl:Class ;\\n    rdfs:label \"Education book\"@en ;\\n    rdfs:comment \"Class describe education book\"@en ;\\n    rdfs:subClassOf :Book .\\n\\n:hasAuthor a owl:ObjectProperty ;\\n    rdfs:domain :Book ;\\n    rdfs:range :Author ;\\n    rdfs:subPropertyOf owl:topObjectProperty .\\n\\n:hasDescription a owl:DatatypeProperty ;\\n    rdfs:domain :Book ;\\n    rdfs:range xsd:string ;\\n    rdfs:subPropertyOf owl:topDataProperty .\\n\\n:hasFavorites a owl:DatatypeProperty ;\\n    rdfs:domain :Book ;\\n    rdfs:range xsd:int ;\\n    rdfs:subPropertyOf owl:topDataProperty .\\n\\n:hasGenre a owl:ObjectProperty ;\\n    rdfs:domain :Book ;\\n    rdfs:range :Genre ;\\n    rdfs:subPropertyOf owl:topObjectProperty .\\n\\n:hasName a owl:DatatypeProperty ;\\n    rdfs:domain :Author,\\n        :Book,\\n        :Genre,\\n        :Tags ;\\n    rdfs:range xsd:string ;\\n    rdfs:subPropertyOf owl:topDataProperty .\\n\\n:hasNumberOfPages a owl:DatatypeProperty ;\\n    rdfs:domain :Book ;\\n    rdfs:range xsd:int ;\\n    rdfs:subPropertyOf owl:topDataProperty .\\n\\n:hasRate a owl:DatatypeProperty ;\\n    rdfs:domain :Book ;\\n    rdfs:range xsd:int ;\\n    rdfs:subPropertyOf owl:topDataProperty .\\n\\n:hasStatus a owl:ObjectProperty ;\\n    rdfs:domain :Book ;\\n    rdfs:range :Status ;\\n    rdfs:subPropertyOf owl:topObjectProperty .\\n\\n:hasTags a owl:ObjectProperty ;\\n    rdfs:domain :Book ;\\n    rdfs:range :Tags ;\\n    rdfs:subPropertyOf owl:topObjectProperty .\\n\\n:hasURL a owl:DatatypeProperty ;\\n    rdfs:domain :Author,\\n        :Book ;\\n    rdfs:range xsd:string ;\\n    rdfs:subPropertyOf owl:topDataProperty .\\n\\n:hasViews a owl:DatatypeProperty ;\\n    rdfs:domain :Book ;\\n    rdfs:range xsd:int ;\\n    rdfs:subPropertyOf owl:topDataProperty .\\n\\n:\\xd0\\x90\\xd0\\xbb\\xd0\\xb5\\xd0\\xba\\xd1\\x81_\\xd0\\x9d\\xd0\\xb0\\xd0\\xb9\\xd1\\x82 a :Author,\\n        owl:NamedIndividual ;\\n    :hasAuthor :\\xd0\\x9f\\xd0\\xbe\\xd0\\xbf\\xd0\\xb0\\xd0\\xb4\\xd0\\xb0\\xd0\\xbd\\xd0\\xba\\xd0\\xb0_\\xd0\\xb2_\\xd0\\x90\\xd0\\xba\\xd0\\xb0\\xd0\\xb4\\xd0\\xb5\\xd0\\xbc\\xd0\\xb8\\xd0\\xb8_\\xd0\\x94\\xd1\\x80\\xd0\\xb0\\xd0\\xba\\xd0\\xbe\\xd0\\xbd\\xd0\\xbe\\xd0\\xb2_\\xd0\\xb8\\xd0\\xbb\\xd0\\xb8_\\xd0\\x94\\xd0\\xbe\\xd0\\xbf\\xd1\\x80\\xd0\\xbe\\xd1\\x81\\xd0\\xb8\\xd1\\x82\\xd1\\x8c_\\xd0\\xa5\\xd0\\xbe\\xd0\\xbc\\xd1\\x8f\\xd0\\xba\\xd0\\xb0 ;\\n    :hasName \"\\xd0\\x90\\xd0\\xbb\\xd0\\xb5\\xd0\\xba\\xd1\\x81 \\xd0\\x9d\\xd0\\xb0\\xd0\\xb9\\xd1\\x82\"^^xsd:string ;\\n    :hasURL \"https://litnet.com/ru/aleks-nait-u357766\" .\\n\\n:\\xd0\\x92\\xd0\\xb0\\xd0\\xbb\\xd0\\xb5\\xd1\\x80\\xd0\\xb8\\xd0\\xb9_\\xd0\\x90\\xd1\\x82\\xd0\\xb0\\xd0\\xbc\\xd0\\xb0\\xd1\\x88\\xd0\\xba\\xd0\\xb8\\xd0\\xbd a :Author,\\n        owl:NamedIndividual ;\\n    :hasAuthor :\\xd0\\x9c\\xd0\\xb0\\xd0\\xb3\\xd0\\xb8\\xd1\\x81\\xd1\\x82\\xd1\\x80\\xd0\\xb0\\xd0\\xbb\\xd1\\x8c_\\xd1\\x81\\xd0\\xbc\\xd0\\xb5\\xd1\\x80\\xd1\\x82\\xd0\\xb8_1 ;\\n    :hasName \"\\xd0\\x92\\xd0\\xb0\\xd0\\xbb\\xd0\\xb5\\xd1\\x80\\xd0\\xb8\\xd0\\xb9 \\xd0\\x90\\xd1\\x82\\xd0\\xb0\\xd0\\xbc\\xd0\\xb0\\xd1\\x88\\xd0\\xba\\xd0\\xb8\\xd0\\xbd\"^^xsd:string ;\\n    :hasURL \"https://litnet.com/ru/valerii-atamashkin-u17592\" .\\n\\n:\\xd0\\x94\\xd0\\xb0\\xd0\\xbd\\xd0\\xb0_\\xd0\\xa1\\xd1\\x82\\xd0\\xb0\\xd1\\x80 a :Author,\\n        owl:NamedIndividual ;\\n    :hasAuthor :\\xd0\\x9d\\xd0\\xb5\\xd0\\xb2\\xd0\\xb8\\xd0\\xbd\\xd0\\xbd\\xd0\\xbe\\xd1\\x81\\xd1\\x82\\xd1\\x8c_\\xd0\\xb2_\\xd0\\xb6\\xd0\\xb5\\xd1\\x80\\xd1\\x82\\xd0\\xb2\\xd1\\x83 ;\\n    :hasName \"\\xd0\\x94\\xd0\\xb0\\xd0\\xbd\\xd0\\xb0 \\xd0\\xa1\\xd1\\x82\\xd0\\xb0\\xd1\\x80\"^^xsd:string ;\\n    :hasURL \"https://litnet.com/ru/dana-star-u398226\" .\\n\\n:\\xd0\\x94\\xd0\\xb8\\xd0\\xbd\\xd0\\xb0_\\xd0\\x98\\xd1\\x81\\xd0\\xb0\\xd0\\xb5\\xd0\\xb2\\xd0\\xb0 a :Author,\\n        owl:NamedIndividual ;\\n    :hasAuthor :\\xd0\\xa2\\xd0\\xb0\\xd0\\xb9\\xd0\\xbd\\xd1\\x8b\\xd0\\xb9_\\xd0\\xbd\\xd0\\xb0\\xd1\\x81\\xd0\\xbb\\xd0\\xb5\\xd0\\xb4\\xd0\\xbd\\xd0\\xb8\\xd0\\xba_\\xd0\\xbc\\xd0\\xb8\\xd0\\xbb\\xd0\\xbb\\xd0\\xb8\\xd0\\xb0\\xd1\\x80\\xd0\\xb4\\xd0\\xb5\\xd1\\x80\\xd0\\xb0 ;\\n    :hasName \"\\xd0\\x94\\xd0\\xb8\\xd0\\xbd\\xd0\\xb0 \\xd0\\x98\\xd1\\x81\\xd0\\xb0\\xd0\\xb5\\xd0\\xb2\\xd0\\xb0\"^^xsd:string ;\\n    :hasURL \"https://litnet.com/ru/dina-isaeva-u5424382\" .\\n\\n:\\xd0\\x9b\\xd0\\xb8\\xd1\\x80\\xd0\\xb0_\\xd0\\x90\\xd0\\xbb\\xd0\\xb0\\xd1\\x8f a :Author,\\n        owl:NamedIndividual ;\\n    :hasAuthor :\\xd0\\xa2\\xd0\\xb0\\xd0\\xb1\\xd0\\xbb\\xd0\\xb5\\xd1\\x82\\xd0\\xbe\\xd1\\x87\\xd0\\xba\\xd1\\x83_\\xd0\\x92\\xd0\\xb0\\xd1\\x88\\xd0\\xb5_\\xd0\\xa2\\xd0\\xb5\\xd0\\xbc\\xd0\\xbd\\xd0\\xb5\\xd0\\xb9\\xd1\\x88\\xd0\\xb5\\xd1\\x81\\xd1\\x82\\xd0\\xb2\\xd0\\xbe ;\\n    :hasName \"\\xd0\\x9b\\xd0\\xb8\\xd1\\x80\\xd0\\xb0 \\xd0\\x90\\xd0\\xbb\\xd0\\xb0\\xd1\\x8f\"^^xsd:string ;\\n    :hasURL \"https://litnet.com/ru/lira-alaya-u530349\" .\\n\\n:\\xd0\\x9c\\xd0\\xb0\\xd1\\x88\\xd0\\xb0_\\xd0\\x9c\\xd0\\xbe\\xd1\\x80\\xd0\\xb0\\xd0\\xbd a :Author,\\n        owl:NamedIndividual ;\\n    :hasAuthor :\\xd0\\x9b\\xd0\\xb5\\xd0\\xba\\xd0\\xb0\\xd1\\x80\\xd1\\x8c_\\xd0\\xb2\\xd0\\xbe\\xd0\\xb7\\xd0\\xbb\\xd1\\x8e\\xd0\\xb1\\xd0\\xbb\\xd0\\xb5\\xd0\\xbd\\xd0\\xbd\\xd1\\x8b\\xd0\\xb9 ;\\n    :hasName \"\\xd0\\x9c\\xd0\\xb0\\xd1\\x88\\xd0\\xb0 \\xd0\\x9c\\xd0\\xbe\\xd1\\x80\\xd0\\xb0\\xd0\\xbd\"^^xsd:string ;\\n    :hasURL \"https://litnet.com/ru/masha-moran-u450570\" .\\n\\n:\\xd0\\x9c\\xd0\\xb8\\xd1\\x85\\xd0\\xb0\\xd0\\xb8\\xd0\\xbb_\\xd0\\x90\\xd1\\x82\\xd0\\xb0\\xd0\\xbc\\xd0\\xb0\\xd0\\xbd\\xd0\\xbe\\xd0\\xb2 a :Author,\\n        owl:NamedIndividual ;\\n    :hasAuthor :\\xd0\\x98\\xd1\\x81\\xd0\\xba\\xd0\\xb0\\xd0\\xb6\\xd0\\xb0\\xd1\\x8e\\xd1\\x89\\xd0\\xb8\\xd0\\xb5_\\xd0\\xa0\\xd0\\xb5\\xd0\\xb0\\xd0\\xbb\\xd1\\x8c\\xd0\\xbd\\xd0\\xbe\\xd1\\x81\\xd1\\x82\\xd1\\x8c_8 ;\\n    :hasName \"\\xd0\\x9c\\xd0\\xb8\\xd1\\x85\\xd0\\xb0\\xd0\\xb8\\xd0\\xbb \\xd0\\x90\\xd1\\x82\\xd0\\xb0\\xd0\\xbc\\xd0\\xb0\\xd0\\xbd\\xd0\\xbe\\xd0\\xb2\"^^xsd:string ;\\n    :hasURL \"https://litnet.com/ru/mihail-atamanov-u2909\" .\\n\\n:\\xd0\\xa1\\xd0\\xb2\\xd0\\xb5\\xd1\\x82\\xd0\\xbb\\xd0\\xb0\\xd0\\xbd\\xd0\\xb0_\\xd0\\xa1\\xd1\\x83\\xd0\\xb1\\xd0\\xb1\\xd0\\xbe\\xd1\\x82\\xd0\\xb0 a :Author,\\n        owl:NamedIndividual ;\\n    :hasAuthor :\\xd0\\x94\\xd1\\x80\\xd0\\xb0\\xd0\\xba\\xd0\\xbe\\xd0\\xbd_\\xd1\\x81_\\xd0\\xbf\\xd0\\xbe\\xd0\\xb4\\xd0\\xb0\\xd1\\x80\\xd0\\xba\\xd0\\xbe\\xd0\\xbc_\\xd0\\x9a\\xd0\\xbe\\xd1\\x80\\xd0\\xbe\\xd0\\xbb\\xd0\\xb5\\xd0\\xb2\\xd1\\x81\\xd0\\xba\\xd0\\xb0\\xd1\\x8f_\\xd0\\xb0\\xd0\\xba\\xd0\\xb0\\xd0\\xb4\\xd0\\xb5\\xd0\\xbc\\xd0\\xb8\\xd1\\x8f_\\xd0\\x94\\xd1\\x80\\xd0\\xb0\\xd0\\xba\\xd0\\xbe ;\\n    :hasName \"\\xd0\\xa1\\xd0\\xb2\\xd0\\xb5\\xd1\\x82\\xd0\\xbb\\xd0\\xb0\\xd0\\xbd\\xd0\\xb0 \\xd0\\xa1\\xd1\\x83\\xd0\\xb1\\xd0\\xb1\\xd0\\xbe\\xd1\\x82\\xd0\\xb0\"^^xsd:string ;\\n    :hasURL \"https://litnet.com/ru/svetlana-subbota-u320771\" .\\n\\n:\\xd0\\xa1\\xd0\\xb5\\xd0\\xbb\\xd0\\xb5\\xd0\\xbd\\xd0\\xb0_\\xd0\\x9a\\xd0\\xb0\\xd1\\x81\\xd1\\x81 a :Author,\\n        owl:NamedIndividual ;\\n    :hasAuthor :\\xd0\\x98\\xd1\\x81\\xd0\\xba\\xd1\\x83\\xd1\\x88\\xd0\\xb5\\xd0\\xbd\\xd0\\xb8\\xd0\\xb5_\\xd0\\xbd\\xd0\\xb5\\xd0\\xb2\\xd0\\xb8\\xd0\\xbd\\xd0\\xbd\\xd0\\xbe\\xd1\\x81\\xd1\\x82\\xd1\\x8c\\xd1\\x8e ;\\n    :hasName \"\\xd0\\xa1\\xd0\\xb5\\xd0\\xbb\\xd0\\xb5\\xd0\\xbd\\xd0\\xb0 \\xd0\\x9a\\xd0\\xb0\\xd1\\x81\\xd1\\x81\"^^xsd:string ;\\n    :hasURL \"https://litnet.com/ru/selena-kass-u36769\" .\\n\\n:\\xd0\\xad\\xd0\\xbb\\xd0\\xb8\\xd0\\xb0\\xd0\\xbd\\xd0\\xb0_\\xd0\\x9d\\xd0\\xb8\\xd0\\xba\\xd0\\xb8\\xd1\\x82\\xd0\\xb8\\xd0\\xbd\\xd0\\xb0 a :Author,\\n        owl:NamedIndividual ;\\n    :hasAuthor :\\xd0\\x9f\\xd0\\xb5\\xd1\\x80\\xd0\\xb5\\xd1\\x81\\xd0\\xb5\\xd0\\xba\\xd0\\xb0\\xd1\\x8f_\\xd0\\xb3\\xd1\\x80\\xd0\\xb0\\xd0\\xbd\\xd0\\xb8\\xd1\\x86\\xd1\\x83_\\xd1\\x80\\xd0\\xb5\\xd0\\xb0\\xd0\\xbb\\xd1\\x8c\\xd0\\xbd\\xd0\\xbe\\xd1\\x81\\xd1\\x82\\xd0\\xb8_\\xd0\\x9a\\xd0\\xbd\\xd0\\xb8\\xd0\\xb3\\xd0\\xb0_3 ;\\n    :hasName \"\\xd0\\xad\\xd0\\xbb\\xd0\\xb8\\xd0\\xb0\\xd0\\xbd\\xd0\\xb0 \\xd0\\x9d\\xd0\\xb8\\xd0\\xba\\xd0\\xb8\\xd1\\x82\\xd0\\xb8\\xd0\\xbd\\xd0\\xb0\"^^xsd:string ;\\n    :hasURL \"https://litnet.com/ru/eliana-nikitina-u273281\" .\\n\\n:\\xd0\\xae\\xd0\\xbb\\xd0\\xb8\\xd1\\x8f_\\xd0\\xa1\\xd0\\xbe\\xd0\\xb7\\xd0\\xbe\\xd0\\xbd\\xd0\\xbe\\xd0\\xb2\\xd0\\xb0 a :Author,\\n        owl:NamedIndividual ;\\n    :hasAuthor :\\xd0\\x94\\xd0\\xb2\\xd0\\xbe\\xd0\\xb9\\xd0\\xbd\\xd1\\x8f\\xd1\\x88\\xd0\\xba\\xd0\\xb8_\\xd0\\xb4\\xd0\\xbb\\xd1\\x8f_\\xd0\\x9c\\xd0\\xb5\\xd0\\xb4\\xd0\\xb2\\xd0\\xb5\\xd0\\xb4\\xd1\\x8f ;\\n    :hasName \"\\xd0\\xae\\xd0\\xbb\\xd0\\xb8\\xd1\\x8f \\xd0\\xa1\\xd0\\xbe\\xd0\\xb7\\xd0\\xbe\\xd0\\xbd\\xd0\\xbe\\xd0\\xb2\\xd0\\xb0\"^^xsd:string ;\\n    :hasURL \"https://litnet.com/ru/yuliya-sozonova-u24824\" .\\n\\n:\\xd0\\xaf\\xd0\\xbd\\xd0\\xb0_\\xd0\\x9c\\xd0\\xb5\\xd0\\xbb\\xd0\\xb5\\xd0\\xb2\\xd0\\xb8\\xd1\\x87 a :Author,\\n        owl:NamedIndividual ;\\n    :hasAuthor :\\xd0\\xa7\\xd0\\xb5\\xd1\\x80\\xd0\\xbd\\xd0\\xbe\\xd0\\xba\\xd0\\xbd\\xd0\\xb8\\xd0\\xb6\\xd0\\xbd\\xd0\\xb8\\xd1\\x86\\xd0\\xb0 ;\\n    :hasName \"\\xd0\\xaf\\xd0\\xbd\\xd0\\xb0 \\xd0\\x9c\\xd0\\xb5\\xd0\\xbb\\xd0\\xb5\\xd0\\xb2\\xd0\\xb8\\xd1\\x87\"^^xsd:string ;\\n    :hasURL \"https://litnet.com/ru/yana-melevich-u38627\" .\\n\\n:\\xd0\\xb0\\xd0\\xba\\xd0\\xb0\\xd0\\xb4\\xd0\\xb5\\xd0\\xbc\\xd0\\xb8\\xd1\\x8f a :Tags,\\n        owl:NamedIndividual ;\\n    :hasName \"\\xd0\\xb0\\xd0\\xba\\xd0\\xb0\\xd0\\xb4\\xd0\\xb5\\xd0\\xbc\\xd0\\xb8\\xd1\\x8f\"^^xsd:string ;\\n    :hasTags :\\xd0\\x94\\xd1\\x80\\xd0\\xb0\\xd0\\xba\\xd0\\xbe\\xd0\\xbd_\\xd1\\x81_\\xd0\\xbf\\xd0\\xbe\\xd0\\xb4\\xd0\\xb0\\xd1\\x80\\xd0\\xba\\xd0\\xbe\\xd0\\xbc_\\xd0\\x9a\\xd0\\xbe\\xd1\\x80\\xd0\\xbe\\xd0\\xbb\\xd0\\xb5\\xd0\\xb2\\xd1\\x81\\xd0\\xba\\xd0\\xb0\\xd1\\x8f_\\xd0\\xb0\\xd0\\xba\\xd0\\xb0\\xd0\\xb4\\xd0\\xb5\\xd0\\xbc\\xd0\\xb8\\xd1\\x8f_\\xd0\\x94\\xd1\\x80\\xd0\\xb0\\xd0\\xba\\xd0\\xbe .\\n\\n:\\xd0\\xb1\\xd1\\x8b\\xd1\\x82\\xd0\\xbe\\xd0\\xb2\\xd0\\xbe\\xd0\\xb5_\\xd1\\x84\\xd1\\x8d\\xd0\\xbd\\xd1\\x82\\xd0\\xb5\\xd0\\xb7\\xd0\\xb8 a :Tags,\\n        owl:NamedIndividual ;\\n    :hasName \"\\xd0\\xb1\\xd1\\x8b\\xd1\\x82\\xd0\\xbe\\xd0\\xb2\\xd0\\xbe\\xd0\\xb5 \\xd1\\x84\\xd1\\x8d\\xd0\\xbd\\xd1\\x82\\xd0\\xb5\\xd0\\xb7\\xd0\\xb8\"^^xsd:string ;\\n    :hasTags :\\xd0\\xa2\\xd0\\xb0\\xd0\\xb1\\xd0\\xbb\\xd0\\xb5\\xd1\\x82\\xd0\\xbe\\xd1\\x87\\xd0\\xba\\xd1\\x83_\\xd0\\x92\\xd0\\xb0\\xd1\\x88\\xd0\\xb5_\\xd0\\xa2\\xd0\\xb5\\xd0\\xbc\\xd0\\xbd\\xd0\\xb5\\xd0\\xb9\\xd1\\x88\\xd0\\xb5\\xd1\\x81\\xd1\\x82\\xd0\\xb2\\xd0\\xbe .\\n\\n:\\xd0\\xb2\\xd0\\xb8\\xd1\\x80\\xd1\\x83\\xd1\\x81 a :Tags,\\n        owl:NamedIndividual ;\\n    :hasName \"\\xd0\\xb2\\xd0\\xb8\\xd1\\x80\\xd1\\x83\\xd1\\x81\"^^xsd:string ;\\n    :hasTags :\\xd0\\x9c\\xd0\\xb0\\xd0\\xb3\\xd0\\xb8\\xd1\\x81\\xd1\\x82\\xd1\\x80\\xd0\\xb0\\xd0\\xbb\\xd1\\x8c_\\xd1\\x81\\xd0\\xbc\\xd0\\xb5\\xd1\\x80\\xd1\\x82\\xd0\\xb8_1 .\\n\\n:\\xd0\\xb2\\xd0\\xbb\\xd0\\xb0\\xd1\\x81\\xd1\\x82\\xd0\\xbd\\xd1\\x8b\\xd0\\xb9_\\xd0\\xb3\\xd0\\xb5\\xd1\\x80\\xd0\\xbe\\xd0\\xb9 a :Tags,\\n        owl:NamedIndividual ;\\n    :hasName \"\\xd0\\xb2\\xd0\\xbb\\xd0\\xb0\\xd1\\x81\\xd1\\x82\\xd0\\xbd\\xd1\\x8b\\xd0\\xb9 \\xd0\\xb3\\xd0\\xb5\\xd1\\x80\\xd0\\xbe\\xd0\\xb9\"^^xsd:string ;\\n    :hasTags :\\xd0\\x94\\xd0\\xb2\\xd0\\xbe\\xd0\\xb9\\xd0\\xbd\\xd1\\x8f\\xd1\\x88\\xd0\\xba\\xd0\\xb8_\\xd0\\xb4\\xd0\\xbb\\xd1\\x8f_\\xd0\\x9c\\xd0\\xb5\\xd0\\xb4\\xd0\\xb2\\xd0\\xb5\\xd0\\xb4\\xd1\\x8f,\\n        :\\xd0\\x9d\\xd0\\xb5\\xd0\\xb2\\xd0\\xb8\\xd0\\xbd\\xd0\\xbd\\xd0\\xbe\\xd1\\x81\\xd1\\x82\\xd1\\x8c_\\xd0\\xb2_\\xd0\\xb6\\xd0\\xb5\\xd1\\x80\\xd1\\x82\\xd0\\xb2\\xd1\\x83,\\n        :\\xd0\\xa2\\xd0\\xb0\\xd0\\xb9\\xd0\\xbd\\xd1\\x8b\\xd0\\xb9_\\xd0\\xbd\\xd0\\xb0\\xd1\\x81\\xd0\\xbb\\xd0\\xb5\\xd0\\xb4\\xd0\\xbd\\xd0\\xb8\\xd0\\xba_\\xd0\\xbc\\xd0\\xb8\\xd0\\xbb\\xd0\\xbb\\xd0\\xb8\\xd0\\xb0\\xd1\\x80\\xd0\\xb4\\xd0\\xb5\\xd1\\x80\\xd0\\xb0 .\\n\\n:\\xd0\\xb2\\xd1\\x80\\xd0\\xb5\\xd0\\xb4\\xd0\\xbd\\xd0\\xb0\\xd1\\x8f_\\xd0\\xb3\\xd0\\xb5\\xd1\\x80\\xd0\\xbe\\xd0\\xb8\\xd0\\xbd\\xd1\\x8f a :Tags,\\n        owl:NamedIndividual ;\\n    :hasName \"\\xd0\\xb2\\xd1\\x80\\xd0\\xb5\\xd0\\xb4\\xd0\\xbd\\xd0\\xb0\\xd1\\x8f \\xd0\\xb3\\xd0\\xb5\\xd1\\x80\\xd0\\xbe\\xd0\\xb8\\xd0\\xbd\\xd1\\x8f\"^^xsd:string ;\\n    :hasTags :\\xd0\\x94\\xd0\\xb2\\xd0\\xbe\\xd0\\xb9\\xd0\\xbd\\xd1\\x8f\\xd1\\x88\\xd0\\xba\\xd0\\xb8_\\xd0\\xb4\\xd0\\xbb\\xd1\\x8f_\\xd0\\x9c\\xd0\\xb5\\xd0\\xb4\\xd0\\xb2\\xd0\\xb5\\xd0\\xb4\\xd1\\x8f .\\n\\n:\\xd0\\xb2\\xd1\\x81\\xd1\\x82\\xd1\\x80\\xd0\\xb5\\xd1\\x87\\xd0\\xb0_\\xd1\\x87\\xd0\\xb5\\xd1\\x80\\xd0\\xb5\\xd0\\xb7_\\xd0\\xb2\\xd1\\x80\\xd0\\xb5\\xd0\\xbc\\xd1\\x8f a :Tags,\\n        owl:NamedIndividual ;\\n    :hasName \"\\xd0\\xb2\\xd1\\x81\\xd1\\x82\\xd1\\x80\\xd0\\xb5\\xd1\\x87\\xd0\\xb0 \\xd1\\x87\\xd0\\xb5\\xd1\\x80\\xd0\\xb5\\xd0\\xb7 \\xd0\\xb2\\xd1\\x80\\xd0\\xb5\\xd0\\xbc\\xd1\\x8f\"^^xsd:string ;\\n    :hasTags :\\xd0\\xa2\\xd0\\xb0\\xd0\\xb9\\xd0\\xbd\\xd1\\x8b\\xd0\\xb9_\\xd0\\xbd\\xd0\\xb0\\xd1\\x81\\xd0\\xbb\\xd0\\xb5\\xd0\\xb4\\xd0\\xbd\\xd0\\xb8\\xd0\\xba_\\xd0\\xbc\\xd0\\xb8\\xd0\\xbb\\xd0\\xbb\\xd0\\xb8\\xd0\\xb0\\xd1\\x80\\xd0\\xb4\\xd0\\xb5\\xd1\\x80\\xd0\\xb0 .\\n\\n:\\xd0\\xb2\\xd1\\x8b\\xd0\\xbd\\xd1\\x83\\xd0\\xb6\\xd0\\xb4\\xd0\\xb5\\xd0\\xbd\\xd0\\xbd\\xd1\\x8b\\xd0\\xb9_\\xd0\\xb1\\xd1\\x80\\xd0\\xb0\\xd0\\xba a :Tags,\\n        owl:NamedIndividual ;\\n    :hasName \"\\xd0\\xb2\\xd1\\x8b\\xd0\\xbd\\xd1\\x83\\xd0\\xb6\\xd0\\xb4\\xd0\\xb5\\xd0\\xbd\\xd0\\xbd\\xd1\\x8b\\xd0\\xb9 \\xd0\\xb1\\xd1\\x80\\xd0\\xb0\\xd0\\xba\"^^xsd:string ;\\n    :hasTags :\\xd0\\x9d\\xd0\\xb5\\xd0\\xb2\\xd0\\xb8\\xd0\\xbd\\xd0\\xbd\\xd0\\xbe\\xd1\\x81\\xd1\\x82\\xd1\\x8c_\\xd0\\xb2_\\xd0\\xb6\\xd0\\xb5\\xd1\\x80\\xd1\\x82\\xd0\\xb2\\xd1\\x83 .\\n\\n:\\xd0\\xb3\\xd0\\xb5\\xd0\\xbd\\xd0\\xb4\\xd0\\xb5\\xd1\\x80\\xd0\\xbd\\xd0\\xb0\\xd1\\x8f_\\xd0\\xb8\\xd0\\xbd\\xd1\\x82\\xd1\\x80\\xd0\\xb8\\xd0\\xb3\\xd0\\xb0 a :Tags,\\n        owl:NamedIndividual ;\\n    :hasName \"\\xd0\\xb3\\xd0\\xb5\\xd0\\xbd\\xd0\\xb4\\xd0\\xb5\\xd1\\x80\\xd0\\xbd\\xd0\\xb0\\xd1\\x8f \\xd0\\xb8\\xd0\\xbd\\xd1\\x82\\xd1\\x80\\xd0\\xb8\\xd0\\xb3\\xd0\\xb0\"^^xsd:string ;\\n    :hasTags :\\xd0\\x9b\\xd0\\xb5\\xd0\\xba\\xd0\\xb0\\xd1\\x80\\xd1\\x8c_\\xd0\\xb2\\xd0\\xbe\\xd0\\xb7\\xd0\\xbb\\xd1\\x8e\\xd0\\xb1\\xd0\\xbb\\xd0\\xb5\\xd0\\xbd\\xd0\\xbd\\xd1\\x8b\\xd0\\xb9 .\\n\\n:\\xd0\\xb3\\xd0\\xbe\\xd0\\xb2\\xd0\\xbe\\xd1\\x80\\xd1\\x8f\\xd1\\x89\\xd0\\xb0\\xd1\\x8f_\\xd1\\x82\\xd0\\xb0\\xd0\\xb1\\xd0\\xbb\\xd0\\xb5\\xd1\\x82\\xd0\\xbe\\xd1\\x87\\xd0\\xbd\\xd0\\xb0\\xd1\\x8f_\\xd0\\xbc\\xd0\\xb0\\xd1\\x88\\xd0\\xb8\\xd0\\xbd\\xd0\\xb0 a :Tags,\\n        owl:NamedIndividual ;\\n    :hasName \"\\xd0\\xb3\\xd0\\xbe\\xd0\\xb2\\xd0\\xbe\\xd1\\x80\\xd1\\x8f\\xd1\\x89\\xd0\\xb0\\xd1\\x8f \\xd1\\x82\\xd0\\xb0\\xd0\\xb1\\xd0\\xbb\\xd0\\xb5\\xd1\\x82\\xd0\\xbe\\xd1\\x87\\xd0\\xbd\\xd0\\xb0\\xd1\\x8f \\xd0\\xbc\\xd0\\xb0\\xd1\\x88\\xd0\\xb8\\xd0\\xbd\\xd0\\xb0\"^^xsd:string ;\\n    :hasTags :\\xd0\\xa2\\xd0\\xb0\\xd0\\xb1\\xd0\\xbb\\xd0\\xb5\\xd1\\x82\\xd0\\xbe\\xd1\\x87\\xd0\\xba\\xd1\\x83_\\xd0\\x92\\xd0\\xb0\\xd1\\x88\\xd0\\xb5_\\xd0\\xa2\\xd0\\xb5\\xd0\\xbc\\xd0\\xbd\\xd0\\xb5\\xd0\\xb9\\xd1\\x88\\xd0\\xb5\\xd1\\x81\\xd1\\x82\\xd0\\xb2\\xd0\\xbe .\\n\\n:\\xd0\\xb4\\xd1\\x80\\xd0\\xb0\\xd0\\xba\\xd0\\xbe\\xd0\\xbd\\xd1\\x8b a :Tags,\\n        owl:NamedIndividual ;\\n    :hasName \"\\xd0\\xb4\\xd1\\x80\\xd0\\xb0\\xd0\\xba\\xd0\\xbe\\xd0\\xbd\\xd1\\x8b\"^^xsd:string ;\\n    :hasTags :\\xd0\\x94\\xd1\\x80\\xd0\\xb0\\xd0\\xba\\xd0\\xbe\\xd0\\xbd_\\xd1\\x81_\\xd0\\xbf\\xd0\\xbe\\xd0\\xb4\\xd0\\xb0\\xd1\\x80\\xd0\\xba\\xd0\\xbe\\xd0\\xbc_\\xd0\\x9a\\xd0\\xbe\\xd1\\x80\\xd0\\xbe\\xd0\\xbb\\xd0\\xb5\\xd0\\xb2\\xd1\\x81\\xd0\\xba\\xd0\\xb0\\xd1\\x8f_\\xd0\\xb0\\xd0\\xba\\xd0\\xb0\\xd0\\xb4\\xd0\\xb5\\xd0\\xbc\\xd0\\xb8\\xd1\\x8f_\\xd0\\x94\\xd1\\x80\\xd0\\xb0\\xd0\\xba\\xd0\\xbe .\\n\\n:\\xd0\\xb4\\xd1\\x80\\xd0\\xb0\\xd0\\xba\\xd0\\xbe\\xd0\\xbd\\xd1\\x8b_\\xd0\\xb8_\\xd1\\x8d\\xd0\\xbb\\xd1\\x8c\\xd1\\x84\\xd1\\x8b a :Tags,\\n        owl:NamedIndividual ;\\n    :hasName \"\\xd0\\xb4\\xd1\\x80\\xd0\\xb0\\xd0\\xba\\xd0\\xbe\\xd0\\xbd\\xd1\\x8b \\xd0\\xb8 \\xd1\\x8d\\xd0\\xbb\\xd1\\x8c\\xd1\\x84\\xd1\\x8b\"^^xsd:string ;\\n    :hasTags :\\xd0\\x9f\\xd0\\xb5\\xd1\\x80\\xd0\\xb5\\xd1\\x81\\xd0\\xb5\\xd0\\xba\\xd0\\xb0\\xd1\\x8f_\\xd0\\xb3\\xd1\\x80\\xd0\\xb0\\xd0\\xbd\\xd0\\xb8\\xd1\\x86\\xd1\\x83_\\xd1\\x80\\xd0\\xb5\\xd0\\xb0\\xd0\\xbb\\xd1\\x8c\\xd0\\xbd\\xd0\\xbe\\xd1\\x81\\xd1\\x82\\xd0\\xb8_\\xd0\\x9a\\xd0\\xbd\\xd0\\xb8\\xd0\\xb3\\xd0\\xb0_3 .\\n\\n:\\xd0\\xb4\\xd1\\x80\\xd0\\xb0\\xd0\\xba\\xd0\\xbe\\xd0\\xbd\\xd1\\x8c\\xd0\\xb5_\\xd0\\xb3\\xd0\\xbd\\xd0\\xb5\\xd0\\xb7\\xd0\\xb4\\xd0\\xbe a :Tags,\\n        owl:NamedIndividual ;\\n    :hasName \"\\xd0\\xb4\\xd1\\x80\\xd0\\xb0\\xd0\\xba\\xd0\\xbe\\xd0\\xbd\\xd1\\x8c\\xd0\\xb5 \\xd0\\xb3\\xd0\\xbd\\xd0\\xb5\\xd0\\xb7\\xd0\\xb4\\xd0\\xbe\"^^xsd:string ;\\n    :hasTags :\\xd0\\x9f\\xd0\\xb5\\xd1\\x80\\xd0\\xb5\\xd1\\x81\\xd0\\xb5\\xd0\\xba\\xd0\\xb0\\xd1\\x8f_\\xd0\\xb3\\xd1\\x80\\xd0\\xb0\\xd0\\xbd\\xd0\\xb8\\xd1\\x86\\xd1\\x83_\\xd1\\x80\\xd0\\xb5\\xd0\\xb0\\xd0\\xbb\\xd1\\x8c\\xd0\\xbd\\xd0\\xbe\\xd1\\x81\\xd1\\x82\\xd0\\xb8_\\xd0\\x9a\\xd0\\xbd\\xd0\\xb8\\xd0\\xb3\\xd0\\xb0_3 .\\n\\n:\\xd0\\xb6\\xd0\\xb5\\xd1\\x81\\xd1\\x82\\xd0\\xbe\\xd0\\xba\\xd0\\xb8\\xd0\\xb9_\\xd0\\xb8_\\xd0\\xb3\\xd1\\x80\\xd1\\x83\\xd0\\xb1\\xd1\\x8b\\xd0\\xb9_\\xd0\\xb3\\xd0\\xbb\\xd0\\xb0\\xd0\\xb2\\xd0\\xbd\\xd1\\x8b\\xd0\\xb9_\\xd0\\xb3\\xd0\\xb5\\xd1\\x80\\xd0\\xbe\\xd0\\xb9 a :Tags,\\n        owl:NamedIndividual ;\\n    :hasName \"\\xd0\\xb6\\xd0\\xb5\\xd1\\x81\\xd1\\x82\\xd0\\xbe\\xd0\\xba\\xd0\\xb8\\xd0\\xb9 \\xd0\\xb8 \\xd0\\xb3\\xd1\\x80\\xd1\\x83\\xd0\\xb1\\xd1\\x8b\\xd0\\xb9 \\xd0\\xb3\\xd0\\xbb\\xd0\\xb0\\xd0\\xb2\\xd0\\xbd\\xd1\\x8b\\xd0\\xb9 \\xd0\\xb3\\xd0\\xb5\\xd1\\x80\\xd0\\xbe\\xd0\\xb9\"^^xsd:string ;\\n    :hasTags :\\xd0\\x98\\xd1\\x81\\xd0\\xba\\xd1\\x83\\xd1\\x88\\xd0\\xb5\\xd0\\xbd\\xd0\\xb8\\xd0\\xb5_\\xd0\\xbd\\xd0\\xb5\\xd0\\xb2\\xd0\\xb8\\xd0\\xbd\\xd0\\xbd\\xd0\\xbe\\xd1\\x81\\xd1\\x82\\xd1\\x8c\\xd1\\x8e .\\n\\n:\\xd0\\xb7\\xd0\\xb0\\xd0\\xbf\\xd1\\x80\\xd0\\xb5\\xd1\\x82\\xd0\\xbd\\xd0\\xb0\\xd1\\x8f_\\xd0\\xbb\\xd1\\x8e\\xd0\\xb1\\xd0\\xbe\\xd0\\xb2\\xd1\\x8c a :Tags,\\n        owl:NamedIndividual ;\\n    :hasName \"\\xd0\\xb7\\xd0\\xb0\\xd0\\xbf\\xd1\\x80\\xd0\\xb5\\xd1\\x82\\xd0\\xbd\\xd0\\xb0\\xd1\\x8f \\xd0\\xbb\\xd1\\x8e\\xd0\\xb1\\xd0\\xbe\\xd0\\xb2\\xd1\\x8c\"^^xsd:string ;\\n    :hasTags :\\xd0\\x9b\\xd0\\xb5\\xd0\\xba\\xd0\\xb0\\xd1\\x80\\xd1\\x8c_\\xd0\\xb2\\xd0\\xbe\\xd0\\xb7\\xd0\\xbb\\xd1\\x8e\\xd0\\xb1\\xd0\\xbb\\xd0\\xb5\\xd0\\xbd\\xd0\\xbd\\xd1\\x8b\\xd0\\xb9 .\\n\\n:\\xd0\\xb7\\xd0\\xb2\\xd0\\xb5\\xd0\\xb7\\xd0\\xb4\\xd0\\xbe\\xd0\\xbb\\xd0\\xb5\\xd1\\x82\\xd1\\x8b a :Tags,\\n        owl:NamedIndividual ;\\n    :hasName \"\\xd0\\xb7\\xd0\\xb2\\xd0\\xb5\\xd0\\xb7\\xd0\\xb4\\xd0\\xbe\\xd0\\xbb\\xd0\\xb5\\xd1\\x82\\xd1\\x8b\"^^xsd:string ;\\n    :hasTags :\\xd0\\x98\\xd1\\x81\\xd0\\xba\\xd0\\xb0\\xd0\\xb6\\xd0\\xb0\\xd1\\x8e\\xd1\\x89\\xd0\\xb8\\xd0\\xb5_\\xd0\\xa0\\xd0\\xb5\\xd0\\xb0\\xd0\\xbb\\xd1\\x8c\\xd0\\xbd\\xd0\\xbe\\xd1\\x81\\xd1\\x82\\xd1\\x8c_8 .\\n\\n:\\xd0\\xb7\\xd0\\xbe\\xd0\\xbc\\xd0\\xb1\\xd0\\xb8 a :Tags,\\n        owl:NamedIndividual ;\\n    :hasName \"\\xd0\\xb7\\xd0\\xbe\\xd0\\xbc\\xd0\\xb1\\xd0\\xb8\"^^xsd:string ;\\n    :hasTags :\\xd0\\x9c\\xd0\\xb0\\xd0\\xb3\\xd0\\xb8\\xd1\\x81\\xd1\\x82\\xd1\\x80\\xd0\\xb0\\xd0\\xbb\\xd1\\x8c_\\xd1\\x81\\xd0\\xbc\\xd0\\xb5\\xd1\\x80\\xd1\\x82\\xd0\\xb8_1 .\\n\\n:\\xd0\\xb7\\xd0\\xbe\\xd0\\xbc\\xd0\\xb1\\xd0\\xb8\\xd0\\xb0\\xd0\\xbf\\xd0\\xbe\\xd0\\xba\\xd0\\xb0\\xd0\\xbb\\xd0\\xb8\\xd0\\xbf\\xd1\\x81\\xd0\\xb8\\xd1\\x81 a :Tags,\\n        owl:NamedIndividual ;\\n    :hasName \"\\xd0\\xb7\\xd0\\xbe\\xd0\\xbc\\xd0\\xb1\\xd0\\xb8\\xd0\\xb0\\xd0\\xbf\\xd0\\xbe\\xd0\\xba\\xd0\\xb0\\xd0\\xbb\\xd0\\xb8\\xd0\\xbf\\xd1\\x81\\xd0\\xb8\\xd1\\x81\"^^xsd:string ;\\n    :hasTags :\\xd0\\x9c\\xd0\\xb0\\xd0\\xb3\\xd0\\xb8\\xd1\\x81\\xd1\\x82\\xd1\\x80\\xd0\\xb0\\xd0\\xbb\\xd1\\x8c_\\xd1\\x81\\xd0\\xbc\\xd0\\xb5\\xd1\\x80\\xd1\\x82\\xd0\\xb8_1 .\\n\\n:\\xd0\\xb8\\xd1\\x81\\xd1\\x82\\xd0\\xb8\\xd0\\xbd\\xd0\\xbd\\xd0\\xb0\\xd1\\x8f_\\xd0\\xbf\\xd0\\xb0\\xd1\\x80\\xd0\\xb0 a :Tags,\\n        owl:NamedIndividual ;\\n    :hasName \"\\xd0\\xb8\\xd1\\x81\\xd1\\x82\\xd0\\xb8\\xd0\\xbd\\xd0\\xbd\\xd0\\xb0\\xd1\\x8f \\xd0\\xbf\\xd0\\xb0\\xd1\\x80\\xd0\\xb0\"^^xsd:string ;\\n    :hasTags :\\xd0\\x9f\\xd0\\xbe\\xd0\\xbf\\xd0\\xb0\\xd0\\xb4\\xd0\\xb0\\xd0\\xbd\\xd0\\xba\\xd0\\xb0_\\xd0\\xb2_\\xd0\\x90\\xd0\\xba\\xd0\\xb0\\xd0\\xb4\\xd0\\xb5\\xd0\\xbc\\xd0\\xb8\\xd0\\xb8_\\xd0\\x94\\xd1\\x80\\xd0\\xb0\\xd0\\xba\\xd0\\xbe\\xd0\\xbd\\xd0\\xbe\\xd0\\xb2_\\xd0\\xb8\\xd0\\xbb\\xd0\\xb8_\\xd0\\x94\\xd0\\xbe\\xd0\\xbf\\xd1\\x80\\xd0\\xbe\\xd1\\x81\\xd0\\xb8\\xd1\\x82\\xd1\\x8c_\\xd0\\xa5\\xd0\\xbe\\xd0\\xbc\\xd1\\x8f\\xd0\\xba\\xd0\\xb0 .\\n\\n:\\xd0\\xba\\xd0\\xbe\\xd1\\x81\\xd0\\xbc\\xd0\\xb8\\xd1\\x87\\xd0\\xb5\\xd1\\x81\\xd0\\xba\\xd0\\xb8\\xd0\\xb5_\\xd1\\x80\\xd0\\xb0\\xd1\\x81\\xd1\\x8b a :Tags,\\n        owl:NamedIndividual ;\\n    :hasName \"\\xd0\\xba\\xd0\\xbe\\xd1\\x81\\xd0\\xbc\\xd0\\xb8\\xd1\\x87\\xd0\\xb5\\xd1\\x81\\xd0\\xba\\xd0\\xb8\\xd0\\xb5 \\xd1\\x80\\xd0\\xb0\\xd1\\x81\\xd1\\x8b\"^^xsd:string ;\\n    :hasTags :\\xd0\\x98\\xd1\\x81\\xd0\\xba\\xd0\\xb0\\xd0\\xb6\\xd0\\xb0\\xd1\\x8e\\xd1\\x89\\xd0\\xb8\\xd0\\xb5_\\xd0\\xa0\\xd0\\xb5\\xd0\\xb0\\xd0\\xbb\\xd1\\x8c\\xd0\\xbd\\xd0\\xbe\\xd1\\x81\\xd1\\x82\\xd1\\x8c_8 .\\n\\n:\\xd0\\xbb\\xd1\\x8e\\xd0\\xb1\\xd0\\xbe\\xd0\\xb2\\xd1\\x8c_\\xd0\\xb8_\\xd1\\x81\\xd1\\x82\\xd1\\x80\\xd0\\xb0\\xd1\\x81\\xd1\\x82\\xd1\\x8c a :Tags,\\n        owl:NamedIndividual ;\\n    :hasName \"\\xd0\\xbb\\xd1\\x8e\\xd0\\xb1\\xd0\\xbe\\xd0\\xb2\\xd1\\x8c \\xd0\\xb8 \\xd1\\x81\\xd1\\x82\\xd1\\x80\\xd0\\xb0\\xd1\\x81\\xd1\\x82\\xd1\\x8c\"^^xsd:string ;\\n    :hasTags :\\xd0\\x9b\\xd0\\xb5\\xd0\\xba\\xd0\\xb0\\xd1\\x80\\xd1\\x8c_\\xd0\\xb2\\xd0\\xbe\\xd0\\xb7\\xd0\\xbb\\xd1\\x8e\\xd0\\xb1\\xd0\\xbb\\xd0\\xb5\\xd0\\xbd\\xd0\\xbd\\xd1\\x8b\\xd0\\xb9 .\\n\\n:\\xd0\\xbc\\xd0\\xb0\\xd0\\xb3\\xd0\\xb8\\xd1\\x87\\xd0\\xb5\\xd1\\x81\\xd0\\xba\\xd0\\xb0\\xd1\\x8f_\\xd0\\xb0\\xd0\\xba\\xd0\\xb0\\xd0\\xb4\\xd0\\xb5\\xd0\\xbc\\xd0\\xb8\\xd1\\x8f a :Tags,\\n        owl:NamedIndividual ;\\n    :hasName \"\\xd0\\xbc\\xd0\\xb0\\xd0\\xb3\\xd0\\xb8\\xd1\\x87\\xd0\\xb5\\xd1\\x81\\xd0\\xba\\xd0\\xb0\\xd1\\x8f \\xd0\\xb0\\xd0\\xba\\xd0\\xb0\\xd0\\xb4\\xd0\\xb5\\xd0\\xbc\\xd0\\xb8\\xd1\\x8f\"^^xsd:string ;\\n    :hasTags :\\xd0\\x9f\\xd0\\xbe\\xd0\\xbf\\xd0\\xb0\\xd0\\xb4\\xd0\\xb0\\xd0\\xbd\\xd0\\xba\\xd0\\xb0_\\xd0\\xb2_\\xd0\\x90\\xd0\\xba\\xd0\\xb0\\xd0\\xb4\\xd0\\xb5\\xd0\\xbc\\xd0\\xb8\\xd0\\xb8_\\xd0\\x94\\xd1\\x80\\xd0\\xb0\\xd0\\xba\\xd0\\xbe\\xd0\\xbd\\xd0\\xbe\\xd0\\xb2_\\xd0\\xb8\\xd0\\xbb\\xd0\\xb8_\\xd0\\x94\\xd0\\xbe\\xd0\\xbf\\xd1\\x80\\xd0\\xbe\\xd1\\x81\\xd0\\xb8\\xd1\\x82\\xd1\\x8c_\\xd0\\xa5\\xd0\\xbe\\xd0\\xbc\\xd1\\x8f\\xd0\\xba\\xd0\\xb0 .\\n\\n:\\xd0\\xbc\\xd0\\xb0\\xd0\\xb3\\xd0\\xb8\\xd1\\x87\\xd0\\xb5\\xd1\\x81\\xd0\\xba\\xd0\\xb8\\xd0\\xb9_\\xd0\\xb4\\xd0\\xb5\\xd1\\x82\\xd0\\xb5\\xd0\\xba\\xd1\\x82\\xd0\\xb8\\xd0\\xb2 a :Tags,\\n        owl:NamedIndividual ;\\n    :hasName \"\\xd0\\xbc\\xd0\\xb0\\xd0\\xb3\\xd0\\xb8\\xd1\\x87\\xd0\\xb5\\xd1\\x81\\xd0\\xba\\xd0\\xb8\\xd0\\xb9 \\xd0\\xb4\\xd0\\xb5\\xd1\\x82\\xd0\\xb5\\xd0\\xba\\xd1\\x82\\xd0\\xb8\\xd0\\xb2\"^^xsd:string ;\\n    :hasTags :\\xd0\\x9f\\xd0\\xbe\\xd0\\xbf\\xd0\\xb0\\xd0\\xb4\\xd0\\xb0\\xd0\\xbd\\xd0\\xba\\xd0\\xb0_\\xd0\\xb2_\\xd0\\x90\\xd0\\xba\\xd0\\xb0\\xd0\\xb4\\xd0\\xb5\\xd0\\xbc\\xd0\\xb8\\xd0\\xb8_\\xd0\\x94\\xd1\\x80\\xd0\\xb0\\xd0\\xba\\xd0\\xbe\\xd0\\xbd\\xd0\\xbe\\xd0\\xb2_\\xd0\\xb8\\xd0\\xbb\\xd0\\xb8_\\xd0\\x94\\xd0\\xbe\\xd0\\xbf\\xd1\\x80\\xd0\\xbe\\xd1\\x81\\xd0\\xb8\\xd1\\x82\\xd1\\x8c_\\xd0\\xa5\\xd0\\xbe\\xd0\\xbc\\xd1\\x8f\\xd0\\xba\\xd0\\xb0 .\\n\\n:\\xd0\\xbc\\xd0\\xb5\\xd1\\x81\\xd1\\x82\\xd1\\x8c_\\xd0\\xb8_\\xd0\\xb6\\xd0\\xb5\\xd1\\x81\\xd1\\x82\\xd0\\xbe\\xd0\\xba\\xd0\\xbe\\xd1\\x81\\xd1\\x82\\xd1\\x8c a :Tags,\\n        owl:NamedIndividual ;\\n    :hasName \"\\xd0\\xbc\\xd0\\xb5\\xd1\\x81\\xd1\\x82\\xd1\\x8c \\xd0\\xb8 \\xd0\\xb6\\xd0\\xb5\\xd1\\x81\\xd1\\x82\\xd0\\xbe\\xd0\\xba\\xd0\\xbe\\xd1\\x81\\xd1\\x82\\xd1\\x8c\"^^xsd:string ;\\n    :hasTags :\\xd0\\x98\\xd1\\x81\\xd0\\xba\\xd1\\x83\\xd1\\x88\\xd0\\xb5\\xd0\\xbd\\xd0\\xb8\\xd0\\xb5_\\xd0\\xbd\\xd0\\xb5\\xd0\\xb2\\xd0\\xb8\\xd0\\xbd\\xd0\\xbd\\xd0\\xbe\\xd1\\x81\\xd1\\x82\\xd1\\x8c\\xd1\\x8e .\\n\\n:\\xd0\\xbc\\xd0\\xb6\\xd0\\xbc a :Tags,\\n        owl:NamedIndividual ;\\n    :hasName \"\\xd0\\xbc\\xd0\\xb6\\xd0\\xbc\"^^xsd:string ;\\n    :hasTags :\\xd0\\x9f\\xd0\\xb5\\xd1\\x80\\xd0\\xb5\\xd1\\x81\\xd0\\xb5\\xd0\\xba\\xd0\\xb0\\xd1\\x8f_\\xd0\\xb3\\xd1\\x80\\xd0\\xb0\\xd0\\xbd\\xd0\\xb8\\xd1\\x86\\xd1\\x83_\\xd1\\x80\\xd0\\xb5\\xd0\\xb0\\xd0\\xbb\\xd1\\x8c\\xd0\\xbd\\xd0\\xbe\\xd1\\x81\\xd1\\x82\\xd0\\xb8_\\xd0\\x9a\\xd0\\xbd\\xd0\\xb8\\xd0\\xb3\\xd0\\xb0_3 .\\n\\n:\\xd0\\xbd\\xd0\\xb5\\xd1\\x83\\xd0\\xbd\\xd1\\x8b\\xd0\\xb2\\xd0\\xb0\\xd1\\x8e\\xd1\\x89\\xd0\\xb0\\xd1\\x8f_\\xd0\\xb3\\xd0\\xb5\\xd1\\x80\\xd0\\xbe\\xd0\\xb8\\xd0\\xbd\\xd1\\x8f a :Tags,\\n        owl:NamedIndividual ;\\n    :hasName \"\\xd0\\xbd\\xd0\\xb5\\xd1\\x83\\xd0\\xbd\\xd1\\x8b\\xd0\\xb2\\xd0\\xb0\\xd1\\x8e\\xd1\\x89\\xd0\\xb0\\xd1\\x8f \\xd0\\xb3\\xd0\\xb5\\xd1\\x80\\xd0\\xbe\\xd0\\xb8\\xd0\\xbd\\xd1\\x8f\"^^xsd:string ;\\n    :hasTags :\\xd0\\xa2\\xd0\\xb0\\xd0\\xb1\\xd0\\xbb\\xd0\\xb5\\xd1\\x82\\xd0\\xbe\\xd1\\x87\\xd0\\xba\\xd1\\x83_\\xd0\\x92\\xd0\\xb0\\xd1\\x88\\xd0\\xb5_\\xd0\\xa2\\xd0\\xb5\\xd0\\xbc\\xd0\\xbd\\xd0\\xb5\\xd0\\xb9\\xd1\\x88\\xd0\\xb5\\xd1\\x81\\xd1\\x82\\xd0\\xb2\\xd0\\xbe .\\n\\n:\\xd0\\xbf\\xd1\\x80\\xd0\\xb5\\xd0\\xb4\\xd0\\xb0\\xd1\\x82\\xd0\\xb5\\xd0\\xbb\\xd1\\x8c\\xd1\\x81\\xd1\\x82\\xd0\\xb2\\xd0\\xbe_\\xd0\\xb8_\\xd0\\xbc\\xd0\\xb5\\xd1\\x81\\xd1\\x82\\xd1\\x8c a :Tags,\\n        owl:NamedIndividual ;\\n    :hasName \"\\xd0\\xbf\\xd1\\x80\\xd0\\xb5\\xd0\\xb4\\xd0\\xb0\\xd1\\x82\\xd0\\xb5\\xd0\\xbb\\xd1\\x8c\\xd1\\x81\\xd1\\x82\\xd0\\xb2\\xd0\\xbe \\xd0\\xb8 \\xd0\\xbc\\xd0\\xb5\\xd1\\x81\\xd1\\x82\\xd1\\x8c\"^^xsd:string ;\\n    :hasTags :\\xd0\\xa7\\xd0\\xb5\\xd1\\x80\\xd0\\xbd\\xd0\\xbe\\xd0\\xba\\xd0\\xbd\\xd0\\xb8\\xd0\\xb6\\xd0\\xbd\\xd0\\xb8\\xd1\\x86\\xd0\\xb0 .\\n\\n:\\xd1\\x80\\xd0\\xb5\\xd0\\xb1\\xd0\\xb5\\xd0\\xbd\\xd0\\xbe\\xd0\\xba a :Tags,\\n        owl:NamedIndividual ;\\n    :hasName \"\\xd1\\x80\\xd0\\xb5\\xd0\\xb1\\xd0\\xb5\\xd0\\xbd\\xd0\\xbe\\xd0\\xba\"^^xsd:string ;\\n    :hasTags :\\xd0\\xa2\\xd0\\xb0\\xd0\\xb9\\xd0\\xbd\\xd1\\x8b\\xd0\\xb9_\\xd0\\xbd\\xd0\\xb0\\xd1\\x81\\xd0\\xbb\\xd0\\xb5\\xd0\\xb4\\xd0\\xbd\\xd0\\xb8\\xd0\\xba_\\xd0\\xbc\\xd0\\xb8\\xd0\\xbb\\xd0\\xbb\\xd0\\xb8\\xd0\\xb0\\xd1\\x80\\xd0\\xb4\\xd0\\xb5\\xd1\\x80\\xd0\\xb0 .\\n\\n:\\xd1\\x80\\xd0\\xbe\\xd0\\xbc\\xd0\\xb0\\xd0\\xbd\\xd1\\x82\\xd0\\xb8\\xd1\\x87\\xd0\\xb5\\xd1\\x81\\xd0\\xba\\xd0\\xb8\\xd0\\xb5_\\xd0\\xb8\\xd1\\x81\\xd1\\x82\\xd0\\xbe\\xd1\\x80\\xd0\\xb8\\xd0\\xb8_\\xd1\\x81_\\xd1\\x8e\\xd0\\xbc\\xd0\\xbe\\xd1\\x80\\xd0\\xbe\\xd0\\xbc_\\xd1\\x81\\xd1\\x83\\xd0\\xb1\\xd0\\xb1\\xd0\\xbe\\xd1\\x82\\xd1\\x8b a :Tags,\\n        owl:NamedIndividual ;\\n    :hasName \"\\xd1\\x80\\xd0\\xbe\\xd0\\xbc\\xd0\\xb0\\xd0\\xbd\\xd1\\x82\\xd0\\xb8\\xd1\\x87\\xd0\\xb5\\xd1\\x81\\xd0\\xba\\xd0\\xb8\\xd0\\xb5 \\xd0\\xb8\\xd1\\x81\\xd1\\x82\\xd0\\xbe\\xd1\\x80\\xd0\\xb8\\xd0\\xb8 \\xd1\\x81 \\xd1\\x8e\\xd0\\xbc\\xd0\\xbe\\xd1\\x80\\xd0\\xbe\\xd0\\xbc \\xd1\\x81\\xd1\\x83\\xd0\\xb1\\xd0\\xb1\\xd0\\xbe\\xd1\\x82\\xd1\\x8b\"^^xsd:string ;\\n    :hasTags :\\xd0\\x94\\xd1\\x80\\xd0\\xb0\\xd0\\xba\\xd0\\xbe\\xd0\\xbd_\\xd1\\x81_\\xd0\\xbf\\xd0\\xbe\\xd0\\xb4\\xd0\\xb0\\xd1\\x80\\xd0\\xba\\xd0\\xbe\\xd0\\xbc_\\xd0\\x9a\\xd0\\xbe\\xd1\\x80\\xd0\\xbe\\xd0\\xbb\\xd0\\xb5\\xd0\\xb2\\xd1\\x81\\xd0\\xba\\xd0\\xb0\\xd1\\x8f_\\xd0\\xb0\\xd0\\xba\\xd0\\xb0\\xd0\\xb4\\xd0\\xb5\\xd0\\xbc\\xd0\\xb8\\xd1\\x8f_\\xd0\\x94\\xd1\\x80\\xd0\\xb0\\xd0\\xba\\xd0\\xbe .\\n\\n:\\xd1\\x81\\xd0\\xbb\\xd0\\xbe\\xd0\\xb6\\xd0\\xbd\\xd1\\x8b\\xd0\\xb5_\\xd0\\xbe\\xd1\\x82\\xd0\\xbd\\xd0\\xbe\\xd1\\x88\\xd0\\xb5\\xd0\\xbd\\xd0\\xb8\\xd1\\x8f a :Tags,\\n        owl:NamedIndividual ;\\n    :hasName \"\\xd1\\x81\\xd0\\xbb\\xd0\\xbe\\xd0\\xb6\\xd0\\xbd\\xd1\\x8b\\xd0\\xb5 \\xd0\\xbe\\xd1\\x82\\xd0\\xbd\\xd0\\xbe\\xd1\\x88\\xd0\\xb5\\xd0\\xbd\\xd0\\xb8\\xd1\\x8f\"^^xsd:string ;\\n    :hasTags :\\xd0\\x94\\xd0\\xb2\\xd0\\xbe\\xd0\\xb9\\xd0\\xbd\\xd1\\x8f\\xd1\\x88\\xd0\\xba\\xd0\\xb8_\\xd0\\xb4\\xd0\\xbb\\xd1\\x8f_\\xd0\\x9c\\xd0\\xb5\\xd0\\xb4\\xd0\\xb2\\xd0\\xb5\\xd0\\xb4\\xd1\\x8f,\\n        :\\xd0\\xa7\\xd0\\xb5\\xd1\\x80\\xd0\\xbd\\xd0\\xbe\\xd0\\xba\\xd0\\xbd\\xd0\\xb8\\xd0\\xb6\\xd0\\xbd\\xd0\\xb8\\xd1\\x86\\xd0\\xb0 .\\n\\n:\\xd1\\x81\\xd1\\x80\\xd0\\xb0\\xd0\\xb6\\xd0\\xb5\\xd0\\xbd\\xd0\\xb8\\xd1\\x8f_\\xd0\\xbd\\xd0\\xb0_\\xd0\\xb7\\xd0\\xb5\\xd0\\xbc\\xd0\\xbb\\xd0\\xb5_\\xd0\\xb8_\\xd0\\xb2_\\xd0\\xba\\xd0\\xbe\\xd1\\x81\\xd0\\xbc\\xd0\\xbe\\xd1\\x81\\xd0\\xb5 a :Tags,\\n        owl:NamedIndividual ;\\n    :hasName \"\\xd1\\x81\\xd1\\x80\\xd0\\xb0\\xd0\\xb6\\xd0\\xb5\\xd0\\xbd\\xd0\\xb8\\xd1\\x8f \\xd0\\xbd\\xd0\\xb0 \\xd0\\xb7\\xd0\\xb5\\xd0\\xbc\\xd0\\xbb\\xd0\\xb5 \\xd0\\xb8 \\xd0\\xb2 \\xd0\\xba\\xd0\\xbe\\xd1\\x81\\xd0\\xbc\\xd0\\xbe\\xd1\\x81\\xd0\\xb5\"^^xsd:string ;\\n    :hasTags :\\xd0\\x98\\xd1\\x81\\xd0\\xba\\xd0\\xb0\\xd0\\xb6\\xd0\\xb0\\xd1\\x8e\\xd1\\x89\\xd0\\xb8\\xd0\\xb5_\\xd0\\xa0\\xd0\\xb5\\xd0\\xb0\\xd0\\xbb\\xd1\\x8c\\xd0\\xbd\\xd0\\xbe\\xd1\\x81\\xd1\\x82\\xd1\\x8c_8 .\\n\\n:\\xd1\\x81\\xd1\\x82\\xd1\\x80\\xd0\\xb0\\xd1\\x81\\xd1\\x82\\xd1\\x8c_\\xd0\\xbb\\xd1\\x8e\\xd0\\xb1\\xd0\\xbe\\xd0\\xb2\\xd1\\x8c_\\xd0\\xbf\\xd1\\x80\\xd0\\xb8\\xd0\\xbd\\xd1\\x83\\xd0\\xb6\\xd0\\xb4\\xd0\\xb5\\xd0\\xbd\\xd0\\xb8\\xd0\\xb5 a :Tags,\\n        owl:NamedIndividual ;\\n    :hasName \"\\xd1\\x81\\xd1\\x82\\xd1\\x80\\xd0\\xb0\\xd1\\x81\\xd1\\x82\\xd1\\x8c  \\xd0\\xbb\\xd1\\x8e\\xd0\\xb1\\xd0\\xbe\\xd0\\xb2\\xd1\\x8c  \\xd0\\xbf\\xd1\\x80\\xd0\\xb8\\xd0\\xbd\\xd1\\x83\\xd0\\xb6\\xd0\\xb4\\xd0\\xb5\\xd0\\xbd\\xd0\\xb8\\xd0\\xb5\"^^xsd:string ;\\n    :hasTags :\\xd0\\x98\\xd1\\x81\\xd0\\xba\\xd1\\x83\\xd1\\x88\\xd0\\xb5\\xd0\\xbd\\xd0\\xb8\\xd0\\xb5_\\xd0\\xbd\\xd0\\xb5\\xd0\\xb2\\xd0\\xb8\\xd0\\xbd\\xd0\\xbd\\xd0\\xbe\\xd1\\x81\\xd1\\x82\\xd1\\x8c\\xd1\\x8e .\\n\\n:\\xd1\\x82\\xd0\\xb5\\xd0\\xbc\\xd0\\xbd\\xd0\\xbe\\xd0\\xb5_\\xd1\\x84\\xd1\\x8d\\xd0\\xbd\\xd1\\x82\\xd0\\xb5\\xd0\\xb7\\xd0\\xb8 a :Tags,\\n        owl:NamedIndividual ;\\n    :hasName \"\\xd1\\x82\\xd0\\xb5\\xd0\\xbc\\xd0\\xbd\\xd0\\xbe\\xd0\\xb5 \\xd1\\x84\\xd1\\x8d\\xd0\\xbd\\xd1\\x82\\xd0\\xb5\\xd0\\xb7\\xd0\\xb8\"^^xsd:string ;\\n    :hasTags :\\xd0\\xa7\\xd0\\xb5\\xd1\\x80\\xd0\\xbd\\xd0\\xbe\\xd0\\xba\\xd0\\xbd\\xd0\\xb8\\xd0\\xb6\\xd0\\xbd\\xd0\\xb8\\xd1\\x86\\xd0\\xb0 .\\n\\n:\\xd1\\x8d\\xd0\\xbc\\xd0\\xbe\\xd1\\x86\\xd0\\xb8\\xd0\\xb8_\\xd0\\xbd\\xd0\\xb0_\\xd0\\xbf\\xd1\\x80\\xd0\\xb5\\xd0\\xb4\\xd0\\xb5\\xd0\\xbb\\xd0\\xb5 a :Tags,\\n        owl:NamedIndividual ;\\n    :hasName \"\\xd1\\x8d\\xd0\\xbc\\xd0\\xbe\\xd1\\x86\\xd0\\xb8\\xd0\\xb8 \\xd0\\xbd\\xd0\\xb0 \\xd0\\xbf\\xd1\\x80\\xd0\\xb5\\xd0\\xb4\\xd0\\xb5\\xd0\\xbb\\xd0\\xb5\"^^xsd:string ;\\n    :hasTags :\\xd0\\x9d\\xd0\\xb5\\xd0\\xb2\\xd0\\xb8\\xd0\\xbd\\xd0\\xbd\\xd0\\xbe\\xd1\\x81\\xd1\\x82\\xd1\\x8c_\\xd0\\xb2_\\xd0\\xb6\\xd0\\xb5\\xd1\\x80\\xd1\\x82\\xd0\\xb2\\xd1\\x83 .\\n\\n<http://www.semanticweb.org/vasilii/ontologies/2021/3/book_onto.owl> a owl:Ontology .\\n\\n:Boevik a owl:Class,\\n        owl:NamedIndividual ;\\n    :hasName \"\\xd0\\x91\\xd0\\xbe\\xd0\\xb5\\xd0\\xb2\\xd0\\xb8\\xd0\\xba\"^^xsd:string ;\\n    rdfs:subClassOf :Genre .\\n\\n:Detektivy a owl:Class,\\n        owl:NamedIndividual ;\\n    :hasName \"\\xd0\\x94\\xd0\\xb5\\xd1\\x82\\xd0\\xb5\\xd0\\xba\\xd1\\x82\\xd0\\xb8\\xd0\\xb2\\xd1\\x8b\"^^xsd:string ;\\n    rdfs:subClassOf :Genre .\\n\\n:Fanfik a owl:Class,\\n        owl:NamedIndividual ;\\n    :hasName \"\\xd0\\xa4\\xd0\\xb0\\xd0\\xbd\\xd1\\x84\\xd0\\xb8\\xd0\\xba\"^^xsd:string ;\\n    rdfs:subClassOf :Genre .\\n\\n:Fantastika a owl:Class,\\n        owl:NamedIndividual ;\\n    :hasName \"\\xd0\\xa4\\xd0\\xb0\\xd0\\xbd\\xd1\\x82\\xd0\\xb0\\xd1\\x81\\xd1\\x82\\xd0\\xb8\\xd0\\xba\\xd0\\xb0\"^^xsd:string ;\\n    rdfs:subClassOf :Genre .\\n\\n:Fentezi a owl:Class,\\n        owl:NamedIndividual ;\\n    :hasName \"\\xd0\\xa4\\xd1\\x8d\\xd0\\xbd\\xd1\\x82\\xd0\\xb5\\xd0\\xb7\\xd0\\xb8\"^^xsd:string ;\\n    rdfs:subClassOf :Genre .\\n\\n:Istoricheskiy_roman a owl:Class,\\n        owl:NamedIndividual ;\\n    :hasName \"\\xd0\\x98\\xd1\\x81\\xd1\\x82\\xd0\\xbe\\xd1\\x80\\xd0\\xb8\\xd1\\x87\\xd0\\xb5\\xd1\\x81\\xd0\\xba\\xd0\\xb8\\xd0\\xb9 \\xd1\\x80\\xd0\\xbe\\xd0\\xbc\\xd0\\xb0\\xd0\\xbd\"^^xsd:string ;\\n    rdfs:subClassOf :Genre .\\n\\n:Jenskaya_proza a owl:Class,\\n        owl:NamedIndividual ;\\n    :hasName \"\\xd0\\x96\\xd0\\xb5\\xd0\\xbd\\xd1\\x81\\xd0\\xba\\xd0\\xb8\\xd0\\xb9 \\xd1\\x80\\xd0\\xbe\\xd0\\xbc\\xd0\\xb0\\xd0\\xbd\"^^xsd:string ;\\n    rdfs:subClassOf :Genre .\\n\\n:Litrpg a owl:Class,\\n        owl:NamedIndividual ;\\n    :hasName \"\\xd0\\x9b\\xd0\\xb8\\xd1\\x82\\xd0\\xa0\\xd0\\x9f\\xd0\\x93\"^^xsd:string ;\\n    rdfs:subClassOf :Genre .\\n\\n:Lyubovnye_romany a owl:Class,\\n        owl:NamedIndividual ;\\n    :hasName \"\\xd0\\x9b\\xd1\\x8e\\xd0\\xb1\\xd0\\xbe\\xd0\\xb2\\xd0\\xbd\\xd1\\x8b\\xd0\\xb5 \\xd1\\x80\\xd0\\xbe\\xd0\\xbc\\xd0\\xb0\\xd0\\xbd\\xd1\\x8b\"^^xsd:string ;\\n    rdfs:subClassOf :Genre .\\n\\n:Mistikaujasy a owl:Class,\\n        owl:NamedIndividual ;\\n    :hasName \"\\xd0\\x9c\\xd0\\xb8\\xd1\\x81\\xd1\\x82\\xd0\\xb8\\xd0\\xba\\xd0\\xb0/\\xd0\\xa3\\xd0\\xb6\\xd0\\xb0\\xd1\\x81\\xd1\\x8b\"^^xsd:string ;\\n    rdfs:subClassOf :Genre .\\n\\n:Molodejnaya_proza a owl:Class,\\n        owl:NamedIndividual ;\\n    :hasName \"\\xd0\\x9c\\xd0\\xbe\\xd0\\xbb\\xd0\\xbe\\xd0\\xb4\\xd0\\xb5\\xd0\\xb6\\xd0\\xbd\\xd0\\xb0\\xd1\\x8f \\xd0\\xbf\\xd1\\x80\\xd0\\xbe\\xd0\\xb7\\xd0\\xb0\"^^xsd:string ;\\n    rdfs:subClassOf :Genre .\\n\\n:Popadancy a owl:Class,\\n        owl:NamedIndividual ;\\n    :hasName \"\\xd0\\x9f\\xd0\\xbe\\xd0\\xbf\\xd0\\xb0\\xd0\\xb4\\xd0\\xb0\\xd0\\xbd\\xd1\\x86\\xd1\\x8b\"^^xsd:string ;\\n    rdfs:subClassOf :Genre .\\n\\n:Proza a owl:Class,\\n        owl:NamedIndividual ;\\n    :hasName \"\\xd0\\x9f\\xd1\\x80\\xd0\\xbe\\xd0\\xb7\\xd0\\xb0\"^^xsd:string ;\\n    rdfs:subClassOf :Raznoe .\\n\\n:Trillery a owl:Class,\\n        owl:NamedIndividual ;\\n    :hasName \"\\xd0\\xa2\\xd1\\x80\\xd0\\xb8\\xd0\\xbb\\xd0\\xbb\\xd0\\xb5\\xd1\\x80\\xd1\\x8b\"^^xsd:string ;\\n    rdfs:subClassOf :Genre .\\n\\n:Bad a owl:Class,\\n        owl:NamedIndividual ;\\n    :hasStatus :\\xd0\\x9c\\xd0\\xb0\\xd0\\xb3\\xd0\\xb8\\xd1\\x81\\xd1\\x82\\xd1\\x80\\xd0\\xb0\\xd0\\xbb\\xd1\\x8c_\\xd1\\x81\\xd0\\xbc\\xd0\\xb5\\xd1\\x80\\xd1\\x82\\xd0\\xb8_1,\\n        :\\xd0\\x9f\\xd0\\xb5\\xd1\\x80\\xd0\\xb5\\xd1\\x81\\xd0\\xb5\\xd0\\xba\\xd0\\xb0\\xd1\\x8f_\\xd0\\xb3\\xd1\\x80\\xd0\\xb0\\xd0\\xbd\\xd0\\xb8\\xd1\\x86\\xd1\\x83_\\xd1\\x80\\xd0\\xb5\\xd0\\xb0\\xd0\\xbb\\xd1\\x8c\\xd0\\xbd\\xd0\\xbe\\xd1\\x81\\xd1\\x82\\xd0\\xb8_\\xd0\\x9a\\xd0\\xbd\\xd0\\xb8\\xd0\\xb3\\xd0\\xb0_3,\\n        :\\xd0\\xa7\\xd0\\xb5\\xd1\\x80\\xd0\\xbd\\xd0\\xbe\\xd0\\xba\\xd0\\xbd\\xd0\\xb8\\xd0\\xb6\\xd0\\xbd\\xd0\\xb8\\xd1\\x86\\xd0\\xb0 ;\\n    rdfs:subClassOf :Status .\\n\\n:Good a owl:Class,\\n        owl:NamedIndividual ;\\n    :hasStatus :\\xd0\\x94\\xd1\\x80\\xd0\\xb0\\xd0\\xba\\xd0\\xbe\\xd0\\xbd_\\xd1\\x81_\\xd0\\xbf\\xd0\\xbe\\xd0\\xb4\\xd0\\xb0\\xd1\\x80\\xd0\\xba\\xd0\\xbe\\xd0\\xbc_\\xd0\\x9a\\xd0\\xbe\\xd1\\x80\\xd0\\xbe\\xd0\\xbb\\xd0\\xb5\\xd0\\xb2\\xd1\\x81\\xd0\\xba\\xd0\\xb0\\xd1\\x8f_\\xd0\\xb0\\xd0\\xba\\xd0\\xb0\\xd0\\xb4\\xd0\\xb5\\xd0\\xbc\\xd0\\xb8\\xd1\\x8f_\\xd0\\x94\\xd1\\x80\\xd0\\xb0\\xd0\\xba\\xd0\\xbe,\\n        :\\xd0\\x98\\xd1\\x81\\xd0\\xba\\xd0\\xb0\\xd0\\xb6\\xd0\\xb0\\xd1\\x8e\\xd1\\x89\\xd0\\xb8\\xd0\\xb5_\\xd0\\xa0\\xd0\\xb5\\xd0\\xb0\\xd0\\xbb\\xd1\\x8c\\xd0\\xbd\\xd0\\xbe\\xd1\\x81\\xd1\\x82\\xd1\\x8c_8,\\n        :\\xd0\\xa2\\xd0\\xb0\\xd0\\xb9\\xd0\\xbd\\xd1\\x8b\\xd0\\xb9_\\xd0\\xbd\\xd0\\xb0\\xd1\\x81\\xd0\\xbb\\xd0\\xb5\\xd0\\xb4\\xd0\\xbd\\xd0\\xb8\\xd0\\xba_\\xd0\\xbc\\xd0\\xb8\\xd0\\xbb\\xd0\\xbb\\xd0\\xb8\\xd0\\xb0\\xd1\\x80\\xd0\\xb4\\xd0\\xb5\\xd1\\x80\\xd0\\xb0 ;\\n    rdfs:subClassOf :Status .\\n\\n:Raznoe a owl:Class,\\n        owl:NamedIndividual ;\\n    :hasName \"\\xd0\\xa0\\xd0\\xb0\\xd0\\xb7\\xd0\\xbd\\xd0\\xbe\\xd0\\xb5\"^^xsd:string ;\\n    rdfs:subClassOf :Genre .\\n\\n:Status a owl:Class .\\n\\nowl:topObjectProperty rdfs:range :Genre .\\n\\n:\\xd0\\x94\\xd0\\xb2\\xd0\\xbe\\xd0\\xb9\\xd0\\xbd\\xd1\\x8f\\xd1\\x88\\xd0\\xba\\xd0\\xb8_\\xd0\\xb4\\xd0\\xbb\\xd1\\x8f_\\xd0\\x9c\\xd0\\xb5\\xd0\\xb4\\xd0\\xb2\\xd0\\xb5\\xd0\\xb4\\xd1\\x8f a :Entertainment_book,\\n        :Raznoe,\\n        :Satisfactory,\\n        owl:NamedIndividual ;\\n    :hasDescription \"\"\"\\n\\xd0\\x94\\xd0\\xb2\\xd0\\xbe\\xd0\\xb9\\xd0\\xbd\\xd1\\x8f\\xd1\\x88\\xd0\\xba\\xd0\\xb8 \\xd0\\xb4\\xd0\\xbb\\xd1\\x8f \\xd0\\x9c\\xd0\\xb5\\xd0\\xb4\\xd0\\xb2\\xd0\\xb5\\xd0\\xb4\\xd1\\x8f\\n\\xd0\\xae\\xd0\\xbb\\xd0\\xb8\\xd1\\x8f \\xd0\\xa1\\xd0\\xbe\\xd0\\xb7\\xd0\\xbe\\xd0\\xbd\\xd0\\xbe\\xd0\\xb2\\xd0\\xb0\\n                - \\xd0\\x9f\\xd0\\xbe\\xd1\\x82\\xd0\\xb0\\xd0\\xbf\\xd0\\xbe\\xd0\\xb2 \\xd0\\x9c\\xd0\\xb0\\xd0\\xba\\xd1\\x81\\xd0\\xb8\\xd0\\xbc \\xd0\\x90\\xd0\\xbd\\xd0\\xb4\\xd1\\x80\\xd0\\xb5\\xd0\\xb5\\xd0\\xb2\\xd0\\xb8\\xd1\\x87?\\n- \\xd0\\x94\\xd0\\xb0?\\n- \\xd0\\x9a \\xd0\\xbd\\xd0\\xb0\\xd0\\xbc \\xd0\\xb2 \\xd0\\xb1\\xd0\\xbe\\xd0\\xbb\\xd1\\x8c\\xd0\\xbd\\xd0\\xb8\\xd1\\x86\\xd1\\x83 \\xd0\\xbf\\xd0\\xbe\\xd1\\x81\\xd1\\x82\\xd1\\x83\\xd0\\xbf\\xd0\\xb8\\xd0\\xbb\\xd0\\xb0 \\xd0\\x92\\xd0\\xbe\\xd0\\xb9\\xd0\\xbd\\xd0\\xbe\\xd0\\xb2\\xd0\\xb0 \\xd0\\x98\\xd1\\x80\\xd0\\xb8\\xd0\\xbd\\xd0\\xb0 \\xd0\\x93\\xd0\\xb5\\xd0\\xbd\\xd0\\xbd\\xd0\\xb0\\xd0\\xb4\\xd1\\x8c\\xd0\\xb5\\xd0\\xb2\\xd0\\xbd\\xd0\\xb0. \\xd0\\x92\\xd1\\x8b \\xd0\\xb5\\xd0\\xb5 \\xd0\\xb7\\xd0\\xbd\\xd0\\xb0\\xd0\\xb5\\xd1\\x82\\xd0\\xb5?\\n\\xd0\\x92\\xd0\\xbe\\xd0\\xb9\\xd0\\xbd\\xd0\\xbe\\xd0\\xb2\\xd0\\xb0, \\xd0\\x92\\xd0\\xbe\\xd0\\xb9\\xd0\\xbd\\xd0\\xbe\\xd0\\xb2\\xd0\\xb0, \\xd0\\x92\\xd0\\xbe\\xd0\\xb9\\xd0\\xbd\\xd0\\xbe\\xd0\\xb2\\xd0\\xb0... \\xd0\\x9a\\xd0\\xb0\\xd0\\xb6\\xd0\\xb5\\xd1\\x82\\xd1\\x81\\xd1\\x8f, \\xd1\\x82\\xd0\\xb0\\xd0\\xba \\xd0\\xb7\\xd0\\xb2\\xd0\\xb0\\xd0\\xbb\\xd0\\xb8 \\xd0\\xbe\\xd0\\xb4\\xd0\\xbd\\xd1\\x83 \\xd0\\xb8\\xd0\\xb7 \\xd0\\xbc\\xd0\\xbe\\xd0\\xb8\\xd1\\x85 \\xd0\\xb1\\xd1\\x8b\\xd0\\xb2... \\xd0\\xbf\\xd0\\xbe\\xd0\\xb4\\xd1\\x80\\xd0\\xbe\\xd0\\xb1\\xd0\\xbd\\xd0\\xb5\\xd0\\xb5\\n\\xd0\\x92 \\xd1\\x82\\xd0\\xb5\\xd0\\xba\\xd1\\x81\\xd1\\x82\\xd0\\xb5 \\xd0\\xb5\\xd1\\x81\\xd1\\x82\\xd1\\x8c:  \\xd1\\x81\\xd0\\xbb\\xd0\\xbe\\xd0\\xb6\\xd0\\xbd\\xd1\\x8b\\xd0\\xb5 \\xd0\\xbe\\xd1\\x82\\xd0\\xbd\\xd0\\xbe\\xd1\\x88\\xd0\\xb5\\xd0\\xbd\\xd0\\xb8\\xd1\\x8f, \\xd0\\xb2\\xd0\\xbb\\xd0\\xb0\\xd1\\x81\\xd1\\x82\\xd0\\xbd\\xd1\\x8b\\xd0\\xb9 \\xd0\\xb3\\xd0\\xb5\\xd1\\x80\\xd0\\xbe\\xd0\\xb9, \\xd0\\xb2\\xd1\\x80\\xd0\\xb5\\xd0\\xb4\\xd0\\xbd\\xd0\\xb0\\xd1\\x8f \\xd0\\xb3\\xd0\\xb5\\xd1\\x80\\xd0\\xbe\\xd0\\xb8\\xd0\\xbd\\xd1\\x8f\\n\\n\\n\\xee\\xa1\\xaa\\n                        \\xd0\\x92 \\xd0\\xbf\\xd1\\x80\\xd0\\xbe\\xd1\\x86\\xd0\\xb5\\xd1\\x81\\xd1\\x81\\xd0\\xb5: 17 \\xd0\\x9c\\xd0\\xb0\\xd1\\x8f\\n                        75 \\xd1\\x81\\xd1\\x82\\xd1\\x80\\n\\n\\n442829\\n7918\\n\\n\\n\"\"\"^^xsd:string ;\\n    :hasFavorites 7918 ;\\n    :hasGenre :Raznoe ;\\n    :hasName \"\\xd0\\x94\\xd0\\xb2\\xd0\\xbe\\xd0\\xb9\\xd0\\xbd\\xd1\\x8f\\xd1\\x88\\xd0\\xba\\xd0\\xb8 \\xd0\\xb4\\xd0\\xbb\\xd1\\x8f \\xd0\\x9c\\xd0\\xb5\\xd0\\xb4\\xd0\\xb2\\xd0\\xb5\\xd0\\xb4\\xd1\\x8f\"^^xsd:string ;\\n    :hasNumberOfPages 75 ;\\n    :hasRate 2334 ;\\n    :hasURL \"https://litnet.com/ru/book/dvoinyashki-dlya-medvedya-b309618\"^^xsd:string ;\\n    :hasViews 442829 .\\n\\n:\\xd0\\x94\\xd1\\x80\\xd0\\xb0\\xd0\\xba\\xd0\\xbe\\xd0\\xbd_\\xd1\\x81_\\xd0\\xbf\\xd0\\xbe\\xd0\\xb4\\xd0\\xb0\\xd1\\x80\\xd0\\xba\\xd0\\xbe\\xd0\\xbc_\\xd0\\x9a\\xd0\\xbe\\xd1\\x80\\xd0\\xbe\\xd0\\xbb\\xd0\\xb5\\xd0\\xb2\\xd1\\x81\\xd0\\xba\\xd0\\xb0\\xd1\\x8f_\\xd0\\xb0\\xd0\\xba\\xd0\\xb0\\xd0\\xb4\\xd0\\xb5\\xd0\\xbc\\xd0\\xb8\\xd1\\x8f_\\xd0\\x94\\xd1\\x80\\xd0\\xb0\\xd0\\xba\\xd0\\xbe a :Entertainment_book,\\n        :Good,\\n        :Lyubovnye_romany,\\n        owl:NamedIndividual ;\\n    :hasDescription \"\"\"\\n\\xd0\\x94\\xd1\\x80\\xd0\\xb0\\xd0\\xba\\xd0\\xbe\\xd0\\xbd \\xd1\\x81 \\xd0\\xbf\\xd0\\xbe\\xd0\\xb4\\xd0\\xb0\\xd1\\x80\\xd0\\xba\\xd0\\xbe\\xd0\\xbc. \\xd0\\x9a\\xd0\\xbe\\xd1\\x80\\xd0\\xbe\\xd0\\xbb\\xd0\\xb5\\xd0\\xb2\\xd1\\x81\\xd0\\xba\\xd0\\xb0\\xd1\\x8f \\xd0\\xb0\\xd0\\xba\\xd0\\xb0\\xd0\\xb4\\xd0\\xb5\\xd0\\xbc\\xd0\\xb8\\xd1\\x8f \\xd0\\x94\\xd1\\x80\\xd0\\xb0\\xd0\\xba\\xd0\\xbe\\n\\xd0\\xa1\\xd0\\xb2\\xd0\\xb5\\xd1\\x82\\xd0\\xbb\\xd0\\xb0\\xd0\\xbd\\xd0\\xb0 \\xd0\\xa1\\xd1\\x83\\xd0\\xb1\\xd0\\xb1\\xd0\\xbe\\xd1\\x82\\xd0\\xb0\\n                \\xe2\\x98\\x98\\xef\\xb8\\x8f \\xd0\\x94\\xd1\\x80\\xd0\\xb0\\xd0\\xba\\xd0\\xbe\\xd0\\xbd - \\xd0\\xbd\\xd0\\xb5 \\xd0\\xbf\\xd0\\xbe\\xd0\\xb4\\xd0\\xb0\\xd1\\x80\\xd0\\xbe\\xd0\\xba, \\xd0\\xb0 \\xd0\\xbf\\xd0\\xb0\\xd1\\x80\\xd0\\xb0 \\xd1\\x82\\xd0\\xbe\\xd0\\xbd\\xd0\\xbd \\xd1\\x8f\\xd1\\x80\\xd0\\xbe\\xd1\\x81\\xd1\\x82\\xd0\\xbd\\xd0\\xbe\\xd0\\xb9 \\xd0\\xbc\\xd0\\xbe\\xd1\\x89\\xd0\\xb8, \\xd0\\xb1\\xd0\\xb5\\xd1\\x81\\xd0\\xba\\xd0\\xbe\\xd0\\xbd\\xd0\\xb5\\xd1\\x87\\xd0\\xbd\\xd0\\xbe\\xd0\\xb9 \\xd1\\x81\\xd0\\xb0\\xd0\\xbc\\xd0\\xbe\\xd1\\x83\\xd0\\xb2\\xd0\\xb5\\xd1\\x80\\xd0\\xb5\\xd0\\xbd\\xd0\\xbd\\xd0\\xbe\\xd1\\x81\\xd1\\x82\\xd0\\xb8 \\xd0\\xb8 \\xd1\\x85\\xd0\\xb8\\xd1\\x89\\xd0\\xbd\\xd0\\xbe\\xd0\\xb9 \\xd0\\xbd\\xd0\\xb0\\xd0\\xb3\\xd0\\xbb\\xd0\\xbe\\xd1\\x81\\xd1\\x82\\xd0\\xb8. \\xd0\\x9a\\xd0\\xbe\\xd1\\x80\\xd0\\xbe\\xd0\\xbb\\xd1\\x8c \\xd0\\xb8 \\xd0\\xba\\xd0\\xbe\\xd1\\x80\\xd0\\xbe\\xd0\\xbb\\xd0\\xb5\\xd0\\xb2\\xd0\\xb0 \\xd0\\xb6\\xd0\\xb5\\xd0\\xbb\\xd0\\xb0\\xd1\\x8e\\xd1\\x82 \\xd0\\xbf\\xd0\\xbe\\xd0\\xb7\\xd0\\xbd\\xd0\\xb0\\xd0\\xba\\xd0\\xbe\\xd0\\xbc\\xd0\\xb8\\xd1\\x82\\xd1\\x8c\\xd1\\x81\\xd1\\x8f \\xd1\\x81 \\xd0\\xbb\\xd1\\x83\\xd1\\x87\\xd1\\x88\\xd0\\xb8\\xd0\\xbc\\xd0\\xb8 \\xd0\\xb2\\xd1\\x8b\\xd0\\xbf\\xd1\\x83\\xd1\\x81\\xd0\\xba\\xd0\\xbd\\xd0\\xb8\\xd0\\xba\\xd0\\xb0\\xd0\\xbc\\xd0\\xb8 \\xd0\\xb0\\xd0\\xba... \\xd0\\xbf\\xd0\\xbe\\xd0\\xb4\\xd1\\x80\\xd0\\xbe\\xd0\\xb1\\xd0\\xbd\\xd0\\xb5\\xd0\\xb5\\n\\xd0\\x92 \\xd1\\x82\\xd0\\xb5\\xd0\\xba\\xd1\\x81\\xd1\\x82\\xd0\\xb5 \\xd0\\xb5\\xd1\\x81\\xd1\\x82\\xd1\\x8c:  \\xd0\\xb4\\xd1\\x80\\xd0\\xb0\\xd0\\xba\\xd0\\xbe\\xd0\\xbd\\xd1\\x8b, \\xd0\\xb0\\xd0\\xba\\xd0\\xb0\\xd0\\xb4\\xd0\\xb5\\xd0\\xbc\\xd0\\xb8\\xd1\\x8f, \\xd1\\x80\\xd0\\xbe\\xd0\\xbc\\xd0\\xb0\\xd0\\xbd\\xd1\\x82\\xd0\\xb8\\xd1\\x87\\xd0\\xb5\\xd1\\x81\\xd0\\xba\\xd0\\xb8\\xd0\\xb5 \\xd0\\xb8\\xd1\\x81\\xd1\\x82\\xd0\\xbe\\xd1\\x80\\xd0\\xb8\\xd0\\xb8 \\xd1\\x81 \\xd1\\x8e\\xd0\\xbc\\xd0\\xbe\\xd1\\x80\\xd0\\xbe\\xd0\\xbc \\xd1\\x81\\xd1\\x83\\xd0\\xb1\\xd0\\xb1\\xd0\\xbe\\xd1\\x82\\xd1\\x8b\\n\\n\\n\\xee\\xa1\\xaa\\n                        \\xd0\\x92 \\xd0\\xbf\\xd1\\x80\\xd0\\xbe\\xd1\\x86\\xd0\\xb5\\xd1\\x81\\xd1\\x81\\xd0\\xb5: 17 \\xd0\\x9c\\xd0\\xb0\\xd1\\x8f\\n                        20 \\xd1\\x81\\xd1\\x82\\xd1\\x80\\n\\n\\n307092\\n26696\\n\\n\\n\"\"\"^^xsd:string ;\\n    :hasFavorites 26696 ;\\n    :hasGenre :Lyubovnye_romany ;\\n    :hasName \"\\xd0\\x94\\xd1\\x80\\xd0\\xb0\\xd0\\xba\\xd0\\xbe\\xd0\\xbd \\xd1\\x81 \\xd0\\xbf\\xd0\\xbe\\xd0\\xb4\\xd0\\xb0\\xd1\\x80\\xd0\\xba\\xd0\\xbe\\xd0\\xbc. \\xd0\\x9a\\xd0\\xbe\\xd1\\x80\\xd0\\xbe\\xd0\\xbb\\xd0\\xb5\\xd0\\xb2\\xd1\\x81\\xd0\\xba\\xd0\\xb0\\xd1\\x8f \\xd0\\xb0\\xd0\\xba\\xd0\\xb0\\xd0\\xb4\\xd0\\xb5\\xd0\\xbc\\xd0\\xb8\\xd1\\x8f \\xd0\\x94\\xd1\\x80\\xd0\\xb0\\xd0\\xba\\xd0\\xbe\"^^xsd:string ;\\n    :hasNumberOfPages 20 ;\\n    :hasRate 5521 ;\\n    :hasURL \"https://litnet.com/ru/book/drakon-s-podarkom-korolevskaya-akademiya-drako-b339578\"^^xsd:string ;\\n    :hasViews 307092 .\\n\\n:\\xd0\\x98\\xd1\\x81\\xd0\\xba\\xd0\\xb0\\xd0\\xb6\\xd0\\xb0\\xd1\\x8e\\xd1\\x89\\xd0\\xb8\\xd0\\xb5_\\xd0\\xa0\\xd0\\xb5\\xd0\\xb0\\xd0\\xbb\\xd1\\x8c\\xd0\\xbd\\xd0\\xbe\\xd1\\x81\\xd1\\x82\\xd1\\x8c_8 a :Entertainment_book,\\n        :Fantastika,\\n        :Good,\\n        :Litrpg,\\n        owl:NamedIndividual ;\\n    :hasDescription \"\"\"\\n\\xd0\\x98\\xd1\\x81\\xd0\\xba\\xd0\\xb0\\xd0\\xb6\\xd0\\xb0\\xd1\\x8e\\xd1\\x89\\xd0\\xb8\\xd0\\xb5 \\xd0\\xa0\\xd0\\xb5\\xd0\\xb0\\xd0\\xbb\\xd1\\x8c\\xd0\\xbd\\xd0\\xbe\\xd1\\x81\\xd1\\x82\\xd1\\x8c-8\\n\\xd0\\x9c\\xd0\\xb8\\xd1\\x85\\xd0\\xb0\\xd0\\xb8\\xd0\\xbb \\xd0\\x90\\xd1\\x82\\xd0\\xb0\\xd0\\xbc\\xd0\\xb0\\xd0\\xbd\\xd0\\xbe\\xd0\\xb2\\n                \\xd0\\x92\\xd1\\x82\\xd0\\xbe\\xd1\\x80\\xd0\\xb6\\xd0\\xb5\\xd0\\xbd\\xd0\\xb8\\xd0\\xb5 \\xd0\\xb0\\xd0\\xb3\\xd1\\x80\\xd0\\xb5\\xd1\\x81\\xd1\\x81\\xd0\\xbe\\xd1\\x80\\xd0\\xbe\\xd0\\xb2 \\xd0\\xb8\\xd0\\xb7 \\xd0\\xb4\\xd1\\x80\\xd1\\x83\\xd0\\xb3\\xd0\\xbe\\xd0\\xb9 \\xd0\\xb3\\xd0\\xb0\\xd0\\xbb\\xd0\\xb0\\xd0\\xba\\xd1\\x82\\xd0\\xb8\\xd0\\xba\\xd0\\xb8 \\xd0\\xbd\\xd0\\xb5 \\xd0\\xbe\\xd1\\x81\\xd1\\x82\\xd0\\xb0\\xd0\\xbd\\xd0\\xbe\\xd0\\xb2\\xd0\\xb8\\xd1\\x82\\xd1\\x8c. \"\\xd0\\x9a\\xd0\\xbe\\xd0\\xbc\\xd0\\xbf\\xd0\\xbe\\xd0\\xb7\\xd0\\xb8\\xd1\\x82\" \\xd0\\xb7\\xd0\\xb0\\xd1\\x85\\xd0\\xb2\\xd0\\xb0\\xd1\\x82\\xd1\\x8b\\xd0\\xb2\\xd0\\xb0\\xd0\\xb5\\xd1\\x82 \\xd1\\x81\\xd0\\xb8\\xd1\\x81\\xd1\\x82\\xd0\\xb5\\xd0\\xbc\\xd1\\x83 \\xd0\\xb7\\xd0\\xb0 \\xd1\\x81\\xd0\\xb8\\xd1\\x81\\xd1\\x82\\xd0\\xb5\\xd0\\xbc\\xd0\\xbe\\xd0\\xb9, \\xd1\\x83\\xd0\\xbd\\xd0\\xb8\\xd1\\x87\\xd1\\x82\\xd0\\xbe\\xd0\\xb6\\xd0\\xb0\\xd1\\x8f \\xd0\\xb2\\xd1\\x81\\xd1\\x91 \\xd0\\xb6\\xd0\\xb8\\xd0\\xb2\\xd0\\xbe\\xd0\\xb5, \\xd0\\xb8 \\xd0\\xbd\\xd0\\xb5 \\xd0\\xb2\\xd0\\xb8\\xd0\\xb4\\xd0\\xbd\\xd0\\xbe \\xd1\\x81\\xd0\\xb8\\xd0\\xbb\\xd1\\x8b, \\xd1\\x81\\xd0\\xbf\\xd0\\xbe\\xd1\\x81\\xd0\\xbe\\xd0\\xb1\\xd0\\xbd\\xd0\\xbe\\xd0\\xb9 \\xd0\\xbf\\xd1\\x80\\xd0\\xbe\\xd1\\x82\\xd0\\xb8\\xd0\\xb2\\xd0\\xbe\\xd1\\x81\\xd1\\x82\\xd0\\xbe\\xd1\\x8f\\xd1\\x82\\xd1\\x8c \\xd0\\xb5... \\xd0\\xbf\\xd0\\xbe\\xd0\\xb4\\xd1\\x80\\xd0\\xbe\\xd0\\xb1\\xd0\\xbd\\xd0\\xb5\\xd0\\xb5\\n\\xd0\\x92 \\xd1\\x82\\xd0\\xb5\\xd0\\xba\\xd1\\x81\\xd1\\x82\\xd0\\xb5 \\xd0\\xb5\\xd1\\x81\\xd1\\x82\\xd1\\x8c:  \\xd0\\xb7\\xd0\\xb2\\xd0\\xb5\\xd0\\xb7\\xd0\\xb4\\xd0\\xbe\\xd0\\xbb\\xd0\\xb5\\xd1\\x82\\xd1\\x8b, \\xd1\\x81\\xd1\\x80\\xd0\\xb0\\xd0\\xb6\\xd0\\xb5\\xd0\\xbd\\xd0\\xb8\\xd1\\x8f \\xd0\\xbd\\xd0\\xb0 \\xd0\\xb7\\xd0\\xb5\\xd0\\xbc\\xd0\\xbb\\xd0\\xb5 \\xd0\\xb8 \\xd0\\xb2 \\xd0\\xba\\xd0\\xbe\\xd1\\x81\\xd0\\xbc\\xd0\\xbe\\xd1\\x81\\xd0\\xb5, \\xd0\\xba\\xd0\\xbe\\xd1\\x81\\xd0\\xbc\\xd0\\xb8\\xd1\\x87\\xd0\\xb5\\xd1\\x81\\xd0\\xba\\xd0\\xb8\\xd0\\xb5 \\xd1\\x80\\xd0\\xb0\\xd1\\x81\\xd1\\x8b\\n\\n\\n\\xee\\xa1\\xaa\\n                        \\xd0\\x92 \\xd0\\xbf\\xd1\\x80\\xd0\\xbe\\xd1\\x86\\xd0\\xb5\\xd1\\x81\\xd1\\x81\\xd0\\xb5: 17 \\xd0\\x9c\\xd0\\xb0\\xd1\\x8f\\n                        288 \\xd1\\x81\\xd1\\x82\\xd1\\x80\\n\\n\\n613104\\n7898\\n\\n\\n\"\"\"^^xsd:string ;\\n    :hasFavorites 7898 ;\\n    :hasGenre :Fantastika,\\n        :Litrpg ;\\n    :hasName \"\\xd0\\x98\\xd1\\x81\\xd0\\xba\\xd0\\xb0\\xd0\\xb6\\xd0\\xb0\\xd1\\x8e\\xd1\\x89\\xd0\\xb8\\xd0\\xb5 \\xd0\\xa0\\xd0\\xb5\\xd0\\xb0\\xd0\\xbb\\xd1\\x8c\\xd0\\xbd\\xd0\\xbe\\xd1\\x81\\xd1\\x82\\xd1\\x8c-8\"^^xsd:string ;\\n    :hasNumberOfPages 288 ;\\n    :hasRate 6993 ;\\n    :hasURL \"https://litnet.com/ru/book/iskazhayushchie-realnost-8-b306132\"^^xsd:string ;\\n    :hasViews 613104 .\\n\\n:\\xd0\\x98\\xd1\\x81\\xd0\\xba\\xd1\\x83\\xd1\\x88\\xd0\\xb5\\xd0\\xbd\\xd0\\xb8\\xd0\\xb5_\\xd0\\xbd\\xd0\\xb5\\xd0\\xb2\\xd0\\xb8\\xd0\\xbd\\xd0\\xbd\\xd0\\xbe\\xd1\\x81\\xd1\\x82\\xd1\\x8c\\xd1\\x8e a :Entertainment_book,\\n        :Istoricheskiy_roman,\\n        :Satisfactory,\\n        owl:NamedIndividual ;\\n    :hasDescription \"\"\"\\n\\xd0\\x98\\xd1\\x81\\xd0\\xba\\xd1\\x83\\xd1\\x88\\xd0\\xb5\\xd0\\xbd\\xd0\\xb8\\xd0\\xb5 \\xd0\\xbd\\xd0\\xb5\\xd0\\xb2\\xd0\\xb8\\xd0\\xbd\\xd0\\xbd\\xd0\\xbe\\xd1\\x81\\xd1\\x82\\xd1\\x8c\\xd1\\x8e\\n\\xd0\\xa1\\xd0\\xb5\\xd0\\xbb\\xd0\\xb5\\xd0\\xbd\\xd0\\xb0 \\xd0\\x9a\\xd0\\xb0\\xd1\\x81\\xd1\\x81\\n                \\xd0\\x9d\\xd0\\xb5\\xd0\\xb2\\xd0\\xb5\\xd1\\x81\\xd1\\x82\\xd0\\xb0, \\xd0\\xba\\xd0\\xbe\\xd1\\x82\\xd0\\xbe\\xd1\\x80\\xd0\\xb0\\xd1\\x8f \\xd1\\x82\\xd0\\xb0\\xd0\\xba \\xd0\\xb8 \\xd0\\xbd\\xd0\\xb5 \\xd1\\x81\\xd1\\x82\\xd0\\xb0\\xd0\\xbb\\xd0\\xb0 \\xd0\\xb6\\xd0\\xb5\\xd0\\xbd\\xd0\\xbe\\xd0\\xb9. \\xd0\\x92\\xd1\\x81\\xd0\\xb5\\xd0\\xb3\\xd0\\xbe \\xd0\\xbe\\xd0\\xb4\\xd0\\xbd\\xd0\\xb0 \\xd0\\xbd\\xd0\\xbe\\xd1\\x87\\xd1\\x8c, \\xd0\\xb8 \\xd0\\xb6\\xd0\\xb8\\xd0\\xb7\\xd0\\xbd\\xd1\\x8c \\xd0\\x90\\xd0\\xbd\\xd0\\xbd\\xd1\\x8b \\xd1\\x80\\xd0\\xb0\\xd0\\xb7\\xd1\\x80\\xd1\\x83\\xd1\\x88\\xd0\\xb5\\xd0\\xbd\\xd0\\xb0. \\xd0\\xa2\\xd0\\xb5\\xd0\\xbf\\xd0\\xb5\\xd1\\x80\\xd1\\x8c, \\xd0\\xbf\\xd0\\xbe \\xd0\\xb2\\xd0\\xbe\\xd0\\xbb\\xd0\\xb5 \\xd0\\xb7\\xd0\\xb0\\xd0\\xba\\xd0\\xbe\\xd0\\xbd\\xd0\\xb0 \\xd0\\xb4\\xd0\\xb5\\xd0\\xb2\\xd1\\x83\\xd1\\x88\\xd0\\xba\\xd0\\xb5 \\xd0\\xbf\\xd1\\x80\\xd0\\xb5\\xd0\\xb4\\xd1\\x81\\xd1\\x82\\xd0\\xbe\\xd0\\xb8\\xd1\\x82 \\xd1\\x82\\xd1\\x8f\\xd0\\xb6\\xd0\\xb5\\xd0\\xbb\\xd0\\xbe\\xd0\\xb5 \\xd0\\xbf\\xd1\\x83\\xd1\\x82\\xd0\\xb5\\xd1\\x88\\xd0\\xb5\\xd1\\x81\\xd1\\x82\\xd0\\xb2\\xd0\\xb8\\xd0\\xb5 \\xd0\\xb2 \\xd0\\xbe\\xd0\\xbf\\xd0\\xb0\\xd1\\x81\\xd0\\xbd\\xd0\\xbe\\xd0\\xb5 \\xd0\\xbc\\xd0\\xb5\\xd1\\x81\\xd1\\x82\\xd0\\xbe, \\xd0\\xb3\\xd0\\xb4\\xd0\\xb5 \\xd0\\xb5\\xd0\\xb9 \\xd0\\xbf... \\xd0\\xbf\\xd0\\xbe\\xd0\\xb4\\xd1\\x80\\xd0\\xbe\\xd0\\xb1\\xd0\\xbd\\xd0\\xb5\\xd0\\xb5\\n\\xd0\\x92 \\xd1\\x82\\xd0\\xb5\\xd0\\xba\\xd1\\x81\\xd1\\x82\\xd0\\xb5 \\xd0\\xb5\\xd1\\x81\\xd1\\x82\\xd1\\x8c:  \\xd0\\xbc\\xd0\\xb5\\xd1\\x81\\xd1\\x82\\xd1\\x8c \\xd0\\xb8 \\xd0\\xb6\\xd0\\xb5\\xd1\\x81\\xd1\\x82\\xd0\\xbe\\xd0\\xba\\xd0\\xbe\\xd1\\x81\\xd1\\x82\\xd1\\x8c, \\xd1\\x81\\xd1\\x82\\xd1\\x80\\xd0\\xb0\\xd1\\x81\\xd1\\x82\\xd1\\x8c  \\xd0\\xbb\\xd1\\x8e\\xd0\\xb1\\xd0\\xbe\\xd0\\xb2\\xd1\\x8c  \\xd0\\xbf\\xd1\\x80\\xd0\\xb8\\xd0\\xbd\\xd1\\x83\\xd0\\xb6\\xd0\\xb4\\xd0\\xb5\\xd0\\xbd\\xd0\\xb8\\xd0\\xb5, \\xd0\\xb6\\xd0\\xb5\\xd1\\x81\\xd1\\x82\\xd0\\xbe\\xd0\\xba\\xd0\\xb8\\xd0\\xb9 \\xd0\\xb8 \\xd0\\xb3\\xd1\\x80\\xd1\\x83\\xd0\\xb1\\xd1\\x8b\\xd0\\xb9 \\xd0\\xb3\\xd0\\xbb\\xd0\\xb0\\xd0\\xb2\\xd0\\xbd\\xd1\\x8b\\xd0\\xb9 \\xd0\\xb3\\xd0\\xb5\\xd1\\x80\\xd0\\xbe\\xd0\\xb9\\n\\n\\n\\xee\\xa1\\xaa\\n                        \\xd0\\x92 \\xd0\\xbf\\xd1\\x80\\xd0\\xbe\\xd1\\x86\\xd0\\xb5\\xd1\\x81\\xd1\\x81\\xd0\\xb5: 16 \\xd0\\x9c\\xd0\\xb0\\xd1\\x8f\\n                        493 \\xd1\\x81\\xd1\\x82\\xd1\\x80\\n\\n\\n485054\\n5880\\n\\n\\n\"\"\"^^xsd:string ;\\n    :hasFavorites 5880 ;\\n    :hasGenre :Istoricheskiy_roman ;\\n    :hasName \"\\xd0\\x98\\xd1\\x81\\xd0\\xba\\xd1\\x83\\xd1\\x88\\xd0\\xb5\\xd0\\xbd\\xd0\\xb8\\xd0\\xb5 \\xd0\\xbd\\xd0\\xb5\\xd0\\xb2\\xd0\\xb8\\xd0\\xbd\\xd0\\xbd\\xd0\\xbe\\xd1\\x81\\xd1\\x82\\xd1\\x8c\\xd1\\x8e\"^^xsd:string ;\\n    :hasNumberOfPages 493 ;\\n    :hasRate 1515 ;\\n    :hasURL \"https://litnet.com/ru/book/iskushenie-nevinnostyu-b205161\"^^xsd:string ;\\n    :hasViews 485054 .\\n\\n:\\xd0\\x9b\\xd0\\xb5\\xd0\\xba\\xd0\\xb0\\xd1\\x80\\xd1\\x8c_\\xd0\\xb2\\xd0\\xbe\\xd0\\xb7\\xd0\\xbb\\xd1\\x8e\\xd0\\xb1\\xd0\\xbb\\xd0\\xb5\\xd0\\xbd\\xd0\\xbd\\xd1\\x8b\\xd0\\xb9 a :Entertainment_book,\\n        :Mistikaujasy,\\n        :Satisfactory,\\n        owl:NamedIndividual ;\\n    :hasDescription \"\"\"\\n\\xd0\\x9b\\xd0\\xb5\\xd0\\xba\\xd0\\xb0\\xd1\\x80\\xd1\\x8c-\\xd0\\xb2\\xd0\\xbe\\xd0\\xb7\\xd0\\xbb\\xd1\\x8e\\xd0\\xb1\\xd0\\xbb\\xd0\\xb5\\xd0\\xbd\\xd0\\xbd\\xd1\\x8b\\xd0\\xb9\\n\\xd0\\x9c\\xd0\\xb0\\xd1\\x88\\xd0\\xb0 \\xd0\\x9c\\xd0\\xbe\\xd1\\x80\\xd0\\xb0\\xd0\\xbd\\n                \\xd0\\x9c\\xd0\\xb5\\xd0\\xbd\\xd1\\x8f \\xd0\\xb2\\xd0\\xbb\\xd0\\xb5\\xd1\\x87\\xd0\\xb5\\xd1\\x82 \\xd0\\xba \\xd0\\xbd\\xd0\\xb5\\xd0\\xbc\\xd1\\x83. \\xd0\\x9d\\xd0\\xb5\\xd1\\x83\\xd0\\xb4\\xd0\\xb5\\xd1\\x80\\xd0\\xb6\\xd0\\xb8\\xd0\\xbc\\xd0\\xbe, \\xd0\\xb4\\xd0\\xb8\\xd0\\xba\\xd0\\xbe, \\xd0\\xb1\\xd0\\xb5\\xd0\\xb7 \\xd1\\x88\\xd0\\xb0\\xd0\\xbd\\xd1\\x81\\xd0\\xb0 \\xd0\\xbd\\xd0\\xb0 \\xd1\\x81\\xd0\\xbf\\xd0\\xb0\\xd1\\x81\\xd0\\xb5\\xd0\\xbd\\xd0\\xb8\\xd0\\xb5. \\xd0\\xaf \\xe2\\x80\\x93 \\xd0\\xbc\\xd1\\x83\\xd0\\xb6\\xd1\\x87\\xd0\\xb8\\xd0\\xbd\\xd0\\xb0. \\xd0\\x9d\\xd0\\xbe \\xd0\\xb8 \\xd0\\xbe\\xd0\\xbd \\xd1\\x82\\xd0\\xbe\\xd0\\xb6\\xd0\\xb5. \\xd0\\x98 \\xd1\\x81\\xd0\\xba\\xd0\\xbe\\xd0\\xbb\\xd1\\x8c\\xd0\\xba\\xd0\\xbe \\xd0\\xb1\\xd1\\x8b \\xd1\\x8f \\xd0\\xbd\\xd0\\xb8 \\xd1\\x81\\xd0\\xbe\\xd0\\xbf\\xd1\\x80\\xd0\\xbe\\xd1\\x82\\xd0\\xb8\\xd0\\xb2\\xd0\\xbb\\xd1\\x8f\\xd0\\xbb\\xd1\\x81\\xd1\\x8f \\xd0\\xbe\\xd0\\xb4\\xd0\\xb5\\xd1\\x80\\xd0\\xb6\\xd0\\xb8\\xd0\\xbc\\xd0\\xbe\\xd0\\xb9 \\xd1\\x81\\xd1\\x82\\xd1\\x80\\xd0\\xb0\\xd1\\x81\\xd1\\x82\\xd0\\xb8, \\xd0\\xbf\\xd0\\xb5\\xd1\\x80\\xd0\\xb5\\xd0\\xb4 \\xd0\\xbd\\xd0\\xb8\\xd0\\xbc \\xd0\\xbd\\xd0\\xb5\\xd0\\xb2\\xd0\\xbe\\xd0\\xb7\\xd0\\xbc\\xd0\\xbe\\xd0\\xb6\\xd0\\xbd\\xd0\\xbe \\xd1\\x83\\xd1\\x81\\xd1\\x82\\xd0\\xbe\\xd1\\x8f\\xd1\\x82\\xd1\\x8c... \\xd0\\xbf\\xd0\\xbe\\xd0\\xb4\\xd1\\x80\\xd0\\xbe\\xd0\\xb1\\xd0\\xbd\\xd0\\xb5\\xd0\\xb5\\n\\xd0\\x92 \\xd1\\x82\\xd0\\xb5\\xd0\\xba\\xd1\\x81\\xd1\\x82\\xd0\\xb5 \\xd0\\xb5\\xd1\\x81\\xd1\\x82\\xd1\\x8c:  \\xd0\\xb3\\xd0\\xb5\\xd0\\xbd\\xd0\\xb4\\xd0\\xb5\\xd1\\x80\\xd0\\xbd\\xd0\\xb0\\xd1\\x8f \\xd0\\xb8\\xd0\\xbd\\xd1\\x82\\xd1\\x80\\xd0\\xb8\\xd0\\xb3\\xd0\\xb0, \\xd0\\xbb\\xd1\\x8e\\xd0\\xb1\\xd0\\xbe\\xd0\\xb2\\xd1\\x8c \\xd0\\xb8 \\xd1\\x81\\xd1\\x82\\xd1\\x80\\xd0\\xb0\\xd1\\x81\\xd1\\x82\\xd1\\x8c, \\xd0\\xb7\\xd0\\xb0\\xd0\\xbf\\xd1\\x80\\xd0\\xb5\\xd1\\x82\\xd0\\xbd\\xd0\\xb0\\xd1\\x8f \\xd0\\xbb\\xd1\\x8e\\xd0\\xb1\\xd0\\xbe\\xd0\\xb2\\xd1\\x8c\\n\\n\\n\\xee\\xa1\\xaa\\n                        \\xd0\\x92 \\xd0\\xbf\\xd1\\x80\\xd0\\xbe\\xd1\\x86\\xd0\\xb5\\xd1\\x81\\xd1\\x81\\xd0\\xb5: 17 \\xd0\\x9c\\xd0\\xb0\\xd1\\x8f\\n                        276 \\xd1\\x81\\xd1\\x82\\xd1\\x80\\n\\n\\n140601\\n2709\\n\\n\\n\"\"\"^^xsd:string ;\\n    :hasFavorites 2709 ;\\n    :hasGenre :Mistikaujasy ;\\n    :hasName \"\\xd0\\x9b\\xd0\\xb5\\xd0\\xba\\xd0\\xb0\\xd1\\x80\\xd1\\x8c-\\xd0\\xb2\\xd0\\xbe\\xd0\\xb7\\xd0\\xbb\\xd1\\x8e\\xd0\\xb1\\xd0\\xbb\\xd0\\xb5\\xd0\\xbd\\xd0\\xbd\\xd1\\x8b\\xd0\\xb9\"^^xsd:string ;\\n    :hasNumberOfPages 276 ;\\n    :hasRate 1736 ;\\n    :hasURL \"https://litnet.com/ru/book/lekar-vozlyublennyi-b293205\"^^xsd:string ;\\n    :hasViews 140601 .\\n\\n:\\xd0\\x9c\\xd0\\xb0\\xd0\\xb3\\xd0\\xb8\\xd1\\x81\\xd1\\x82\\xd1\\x80\\xd0\\xb0\\xd0\\xbb\\xd1\\x8c_\\xd1\\x81\\xd0\\xbc\\xd0\\xb5\\xd1\\x80\\xd1\\x82\\xd0\\xb8_1 a :Bad,\\n        :Boevik,\\n        :Entertainment_book,\\n        owl:NamedIndividual ;\\n    :hasDescription \"\"\"\\n\\xd0\\x9c\\xd0\\xb0\\xd0\\xb3\\xd0\\xb8\\xd1\\x81\\xd1\\x82\\xd1\\x80\\xd0\\xb0\\xd0\\xbb\\xd1\\x8c \\xd1\\x81\\xd0\\xbc\\xd0\\xb5\\xd1\\x80\\xd1\\x82\\xd0\\xb8-1\\n\\xd0\\x92\\xd0\\xb0\\xd0\\xbb\\xd0\\xb5\\xd1\\x80\\xd0\\xb8\\xd0\\xb9 \\xd0\\x90\\xd1\\x82\\xd0\\xb0\\xd0\\xbc\\xd0\\xb0\\xd1\\x88\\xd0\\xba\\xd0\\xb8\\xd0\\xbd\\n                \\xd0\\x9d\\xd0\\xb0\\xd1\\x88\\xd0\\xb8 \\xd0\\xb4\\xd0\\xbd\\xd0\\xb8.\\n\\xd0\\x9c\\xd0\\xb5\\xd0\\xbd\\xd1\\x82, \\xd0\\xb2\\xd0\\xb5\\xd1\\x82\\xd0\\xb5\\xd1\\x80\\xd0\\xb0\\xd0\\xbd \\xd0\\x90\\xd1\\x84\\xd0\\xb3\\xd0\\xb0\\xd0\\xbd\\xd0\\xb0. \\xd0\\x9f\\xd0\\xbe\\xd0\\xb4\\xd0\\xba\\xd0\\xb0\\xd0\\xb1\\xd0\\xbb\\xd1\\x83\\xd1\\x87\\xd0\\xbd\\xd0\\xb8\\xd0\\xba \\xd1\\x81 \\xd0\\xb1\\xd0\\xb5\\xd1\\x80\\xd0\\xb5\\xd0\\xbc\\xd0\\xb5\\xd0\\xbd\\xd0\\xbd\\xd0\\xbe\\xd0\\xb9 \\xd0\\xb6\\xd0\\xb5\\xd0\\xbd\\xd0\\xbe\\xd0\\xb9. \\xd0\\x91\\xd0\\xb5\\xd0\\xb3\\xd0\\xbb\\xd1\\x8b\\xd0\\xb9 \\xd0\\xb7\\xd1\\x8d\\xd0\\xba \\xd0\\xb8 \\xd0\\xb4\\xd0\\xb0\\xd0\\xbb\\xd1\\x8c\\xd0\\xbd\\xd0\\xbe\\xd0\\xb1\\xd0\\xbe\\xd0\\xb9\\xd1\\x89\\xd0\\xb8\\xd0\\xba-\\xd0\\xbd\\xd0\\xb0\\xd1\\x80\\xd0\\xba\\xd0\\xbe\\xd0\\xbc\\xd0\\xb0\\xd0\\xbd. \\xd0\\xa2\\xd0\\xbe\\xd0\\xb9 \\xd0\\xbd\\xd0\\xbe\\xd1\\x87\\xd1\\x8c\\xd1\\x8e \\xd0\\xb2\\xd1\\x81\\xd1\\x8f \\xd1\\x8d\\xd1\\x82\\xd0\\xb0 \\xd0\\xba\\xd0\\xbe\\xd0\\xbc\\xd0\\xbf\\xd0\\xb0\\xd1\\x88\\xd0\\xba\\xd0\\xb0 \\xd1\\x81\\xd1\\x82\\xd0\\xb0\\xd0\\xbb\\xd0\\xba\\xd0\\xb8\\xd0\\xb2\\xd0\\xb0\\xd0\\xb5\\xd1\\x82\\xd1\\x81\\xd1\\x8f \\xd1\\x81 \\xd0\\xb4\\xd1\\x80\\xd1\\x83\\xd0\\xb3 \\xd0\\xb4\\xd1\\x80\\xd1\\x83\\xd0\\xb3\\xd0\\xbe\\xd0\\xbc \\xd0\\xb2\\xd0\\xb1\\xd0\\xbb\\xd0\\xb8\\xd0\\xb7\\xd0\\xb8 \\xd0\\x9d\\xd0\\x98... \\xd0\\xbf\\xd0\\xbe\\xd0\\xb4\\xd1\\x80\\xd0\\xbe\\xd0\\xb1\\xd0\\xbd\\xd0\\xb5\\xd0\\xb5\\n\\xd0\\x92 \\xd1\\x82\\xd0\\xb5\\xd0\\xba\\xd1\\x81\\xd1\\x82\\xd0\\xb5 \\xd0\\xb5\\xd1\\x81\\xd1\\x82\\xd1\\x8c:  \\xd0\\xb7\\xd0\\xbe\\xd0\\xbc\\xd0\\xb1\\xd0\\xb8, \\xd0\\xb2\\xd0\\xb8\\xd1\\x80\\xd1\\x83\\xd1\\x81, \\xd0\\xb7\\xd0\\xbe\\xd0\\xbc\\xd0\\xb1\\xd0\\xb8\\xd0\\xb0\\xd0\\xbf\\xd0\\xbe\\xd0\\xba\\xd0\\xb0\\xd0\\xbb\\xd0\\xb8\\xd0\\xbf\\xd1\\x81\\xd0\\xb8\\xd1\\x81\\n\\n\\n\\xee\\x97\\x8a\\n                        \\xd0\\x9f\\xd0\\xbe\\xd0\\xbb\\xd0\\xbd\\xd1\\x8b\\xd0\\xb9 \\xd1\\x82\\xd0\\xb5\\xd0\\xba\\xd1\\x81\\xd1\\x82 \\n                        183 \\xd1\\x81\\xd1\\x82\\xd1\\x80\\n\\n\\n113547\\n2677\\n\\n\\n\"\"\"^^xsd:string ;\\n    :hasFavorites 2677 ;\\n    :hasGenre :Boevik ;\\n    :hasName \"\\xd0\\x9c\\xd0\\xb0\\xd0\\xb3\\xd0\\xb8\\xd1\\x81\\xd1\\x82\\xd1\\x80\\xd0\\xb0\\xd0\\xbb\\xd1\\x8c \\xd1\\x81\\xd0\\xbc\\xd0\\xb5\\xd1\\x80\\xd1\\x82\\xd0\\xb8-1\"^^xsd:string ;\\n    :hasNumberOfPages 183 ;\\n    :hasRate 421 ;\\n    :hasURL \"https://litnet.com/ru/book/magistral-smerti-1-b305830\"^^xsd:string ;\\n    :hasViews 113547 .\\n\\n:\\xd0\\x9d\\xd0\\xb5\\xd0\\xb2\\xd0\\xb8\\xd0\\xbd\\xd0\\xbd\\xd0\\xbe\\xd1\\x81\\xd1\\x82\\xd1\\x8c_\\xd0\\xb2_\\xd0\\xb6\\xd0\\xb5\\xd1\\x80\\xd1\\x82\\xd0\\xb2\\xd1\\x83 a :Entertainment_book,\\n        :Jenskaya_proza,\\n        :Proza,\\n        :Satisfactory,\\n        owl:NamedIndividual ;\\n    :hasDescription \"\"\"\\n\\xd0\\x9d\\xd0\\xb5\\xd0\\xb2\\xd0\\xb8\\xd0\\xbd\\xd0\\xbd\\xd0\\xbe\\xd1\\x81\\xd1\\x82\\xd1\\x8c \\xd0\\xb2 \\xd0\\xb6\\xd0\\xb5\\xd1\\x80\\xd1\\x82\\xd0\\xb2\\xd1\\x83\\n\\xd0\\x94\\xd0\\xb0\\xd0\\xbd\\xd0\\xb0 \\xd0\\xa1\\xd1\\x82\\xd0\\xb0\\xd1\\x80\\n                \\xe2\\x80\\x94 \\xd0\\x9a\\xd0\\xb0\\xd0\\xba \\xd1\\x82\\xd1\\x8b \\xd0\\xbf\\xd0\\xbe\\xd1\\x81\\xd0\\xbc\\xd0\\xb5\\xd0\\xbb\\xd0\\xb0! \\xe2\\x80\\x94 \\xd0\\xbc\\xd0\\xb0\\xd1\\x82\\xd1\\x8c \\xd0\\xb2\\xd1\\x81\\xd1\\x82\\xd1\\x80\\xd1\\x8f\\xd1\\x85\\xd0\\xb8\\xd0\\xb2\\xd0\\xb0\\xd0\\xb5\\xd1\\x82 \\xd1\\x81\\xd0\\xb5\\xd1\\x81\\xd1\\x82\\xd1\\x80\\xd1\\x83 \\xd0\\xb7\\xd0\\xb0 \\xd0\\xbf\\xd0\\xbb\\xd0\\xb5\\xd1\\x87\\xd0\\xb8. \\xe2\\x80\\x94 \\xd0\\xa2\\xd1\\x8b \\xd0\\xb1\\xd0\\xbe\\xd0\\xbb\\xd1\\x8c\\xd1\\x88\\xd0\\xb5 \\xd0\\xbd\\xd0\\xb5 \\xd0\\xb4\\xd0\\xb5\\xd0\\xb2\\xd1\\x81\\xd1\\x82\\xd0\\xb2\\xd0\\xb5\\xd0\\xbd\\xd0\\xbd\\xd0\\xb8\\xd1\\x86\\xd0\\xb0! \\xd0\\x93\\xd0\\xbe\\xd1\\x81\\xd0\\xbf\\xd0\\xbe\\xd0\\xb4\\xd0\\xb8\\xd0\\xbd \\xd0\\x90\\xd0\\xb9\\xd0\\xb4\\xd0\\xb0\\xd1\\x80\\xd0\\xbe\\xd0\\xb2 \\xd1\\x82\\xd0\\xb5\\xd0\\xb1\\xd1\\x8f \\xd0\\xb7\\xd0\\xb0\\xd0\\xbc\\xd1\\x83\\xd0\\xb6 \\xd0\\xbd\\xd0\\xb5 \\xd0\\xb2\\xd0\\xbe\\xd0\\xb7\\xd1\\x8c\\xd0\\xbc\\xd0\\xb5\\xd1\\x82! \\xd0\\xa3\\xd1\\x81\\xd0\\xbb\\xd0\\xbe\\xd0\\xb2\\xd0\\xb8\\xd0\\xb5 \\xd0\\xb1\\xd1\\x8b\\xd0\\xbb\\xd0\\xbe \\xe2\\x80\\x94 \\xd0\\xbd\\xd0\\xb5\\xd0\\xb2\\xd0\\xb5\\xd1\\x81\\xd1\\x82\\xd0\\xb0 \\xd0\\xbd\\xd0\\xb5\\xd0\\xb2\\xd0\\xb8\\xd0\\xbd\\xd0\\xbd\\xd0\\xb0.\\n\\xe2\\x80\\x94 \\xd0\\x9f\\xd1\\x80\\xd0\\xbe\\xd1\\x81\\xd1\\x82\\xd0\\xb8... \\xd0\\xbf\\xd0\\xbe\\xd0\\xb4\\xd1\\x80\\xd0\\xbe\\xd0\\xb1\\xd0\\xbd\\xd0\\xb5\\xd0\\xb5\\n\\xd0\\x92 \\xd1\\x82\\xd0\\xb5\\xd0\\xba\\xd1\\x81\\xd1\\x82\\xd0\\xb5 \\xd0\\xb5\\xd1\\x81\\xd1\\x82\\xd1\\x8c:  \\xd0\\xb2\\xd1\\x8b\\xd0\\xbd\\xd1\\x83\\xd0\\xb6\\xd0\\xb4\\xd0\\xb5\\xd0\\xbd\\xd0\\xbd\\xd1\\x8b\\xd0\\xb9 \\xd0\\xb1\\xd1\\x80\\xd0\\xb0\\xd0\\xba, \\xd0\\xb2\\xd0\\xbb\\xd0\\xb0\\xd1\\x81\\xd1\\x82\\xd0\\xbd\\xd1\\x8b\\xd0\\xb9 \\xd0\\xb3\\xd0\\xb5\\xd1\\x80\\xd0\\xbe\\xd0\\xb9, \\xd1\\x8d\\xd0\\xbc\\xd0\\xbe\\xd1\\x86\\xd0\\xb8\\xd0\\xb8 \\xd0\\xbd\\xd0\\xb0 \\xd0\\xbf\\xd1\\x80\\xd0\\xb5\\xd0\\xb4\\xd0\\xb5\\xd0\\xbb\\xd0\\xb5\\n\\n\\n\\xee\\xa1\\xaa\\n                        \\xd0\\x92 \\xd0\\xbf\\xd1\\x80\\xd0\\xbe\\xd1\\x86\\xd0\\xb5\\xd1\\x81\\xd1\\x81\\xd0\\xb5: 17 \\xd0\\x9c\\xd0\\xb0\\xd1\\x8f\\n                        79 \\xd1\\x81\\xd1\\x82\\xd1\\x80\\n\\n\\n832627\\n14447\\n\\n\\n\"\"\"^^xsd:string ;\\n    :hasFavorites 14447 ;\\n    :hasGenre :Jenskaya_proza,\\n        :Proza ;\\n    :hasName \"\\xd0\\x9d\\xd0\\xb5\\xd0\\xb2\\xd0\\xb8\\xd0\\xbd\\xd0\\xbd\\xd0\\xbe\\xd1\\x81\\xd1\\x82\\xd1\\x8c \\xd0\\xb2 \\xd0\\xb6\\xd0\\xb5\\xd1\\x80\\xd1\\x82\\xd0\\xb2\\xd1\\x83\"^^xsd:string ;\\n    :hasNumberOfPages 79 ;\\n    :hasRate 3361 ;\\n    :hasURL \"https://litnet.com/ru/book/nevinnost-v-zhertvu-b328934\"^^xsd:string ;\\n    :hasViews 832627 .\\n\\n:\\xd0\\x9f\\xd0\\xb5\\xd1\\x80\\xd0\\xb5\\xd1\\x81\\xd0\\xb5\\xd0\\xba\\xd0\\xb0\\xd1\\x8f_\\xd0\\xb3\\xd1\\x80\\xd0\\xb0\\xd0\\xbd\\xd0\\xb8\\xd1\\x86\\xd1\\x83_\\xd1\\x80\\xd0\\xb5\\xd0\\xb0\\xd0\\xbb\\xd1\\x8c\\xd0\\xbd\\xd0\\xbe\\xd1\\x81\\xd1\\x82\\xd0\\xb8_\\xd0\\x9a\\xd0\\xbd\\xd0\\xb8\\xd0\\xb3\\xd0\\xb0_3 a :Bad,\\n        :Entertainment_book,\\n        :Fanfik,\\n        owl:NamedIndividual ;\\n    :hasDescription \"\"\"\\n\\xd0\\x9f\\xd0\\xb5\\xd1\\x80\\xd0\\xb5\\xd1\\x81\\xd0\\xb5\\xd0\\xba\\xd0\\xb0\\xd1\\x8f \\xd0\\xb3\\xd1\\x80\\xd0\\xb0\\xd0\\xbd\\xd0\\xb8\\xd1\\x86\\xd1\\x83 \\xd1\\x80\\xd0\\xb5\\xd0\\xb0\\xd0\\xbb\\xd1\\x8c\\xd0\\xbd\\xd0\\xbe\\xd1\\x81\\xd1\\x82\\xd0\\xb8. \\xd0\\x9a\\xd0\\xbd\\xd0\\xb8\\xd0\\xb3\\xd0\\xb0 3\\n\\xd0\\xad\\xd0\\xbb\\xd0\\xb8\\xd0\\xb0\\xd0\\xbd\\xd0\\xb0 \\xd0\\x9d\\xd0\\xb8\\xd0\\xba\\xd0\\xb8\\xd1\\x82\\xd0\\xb8\\xd0\\xbd\\xd0\\xb0\\n                \\xd0\\x91\\xd0\\x95\\xd0\\xa1\\xd0\\x9f\\xd0\\x9b\\xd0\\x90\\xd0\\xa2\\xd0\\x9d\\xd0\\x9e. \\xd0\\x9a\\xd0\\x9d\\xd0\\x98\\xd0\\x93\\xd0\\x90 .3\\n\\xd0\\x9f\\xd1\\x80\\xd0\\xbe\\xd0\\xb2\\xd0\\xb8\\xd0\\xb4\\xd0\\xb5\\xd0\\xbd\\xd0\\xb8\\xd0\\xb5, \\xd1\\x81\\xd0\\xbb\\xd1\\x83\\xd1\\x87\\xd0\\xb0\\xd0\\xb9, \\xd0\\xb8\\xd0\\xbb\\xd0\\xb8 \\xd1\\x81\\xd0\\xb0\\xd0\\xbc\\xd0\\xb0 \\xd1\\x81\\xd1\\x83\\xd0\\xb4\\xd1\\x8c\\xd0\\xb1\\xd0\\xb0 \\xd0\\xbf\\xd1\\x80\\xd0\\xb8\\xd0\\xb2\\xd0\\xb5\\xd0\\xbb\\xd0\\xb8 \\xd0\\xbd\\xd0\\xb0\\xd1\\x88\\xd1\\x83 \\xd1\\x81\\xd0\\xbe\\xd0\\xb2\\xd1\\x80\\xd0\\xb5\\xd0\\xbc\\xd0\\xb5\\xd0\\xbd\\xd0\\xbd\\xd0\\xb8\\xd1\\x86\\xd1\\x83  \\xd0\\xb2 \\xd0\\xbc\\xd0\\xb8\\xd1\\x80, \\xd1\\x87\\xd1\\x82\\xd0\\xbe \\xd1\\x82\\xd0\\xb0\\xd0\\xba \\xd0\\xbf\\xd0\\xbe\\xd1\\x85\\xd0\\xbe\\xd0\\xb6 \\xd0\\xbd\\xd0\\xb0 \\xd1\\x80\\xd0\\xbe\\xd0\\xb4\\xd0\\xbd\\xd1\\x83\\xd1\\x8e \\xd0\\x97\\xd0\\xb5\\xd0\\xbc\\xd0\\xbb\\xd1\\x8e. \\xd0\\x92\\xd0\\xbe\\xd1\\x82 \\xd1\\x82\\xd0\\xbe\\xd0\\xbb\\xd1\\x8c\\xd0\\xba\\xd0\\xbe \\xd1\\x82\\xd0\\xb0\\xd0\\xbc, \\xd0\\xb2\\xd0\\xbc\\xd0\\xb5\\xd1\\x81\\xd1\\x82\\xd0\\xbe \\xd0\\xbc\\xd0\\xb0\\xd1\\x88\\xd0\\xb8\\xd0\\xbd, \\xd0\\xbf\\xd0\\xbe \\xd0\\xb4\\xd0\\xbe\\xd1\\x80\\xd0\\xbe\\xd0\\xb3\\xd0\\xb0\\xd0\\xbc \\xd1\\x81\\xd0\\xbf\\xd0\\xb5\\xd1\\x88\\xd0\\xb0... \\xd0\\xbf\\xd0\\xbe\\xd0\\xb4\\xd1\\x80\\xd0\\xbe\\xd0\\xb1\\xd0\\xbd\\xd0\\xb5\\xd0\\xb5\\n\\xd0\\x92 \\xd1\\x82\\xd0\\xb5\\xd0\\xba\\xd1\\x81\\xd1\\x82\\xd0\\xb5 \\xd0\\xb5\\xd1\\x81\\xd1\\x82\\xd1\\x8c:  \\xd0\\xbc\\xd0\\xb6\\xd0\\xbc, \\xd0\\xb4\\xd1\\x80\\xd0\\xb0\\xd0\\xba\\xd0\\xbe\\xd0\\xbd\\xd1\\x8b \\xd0\\xb8 \\xd1\\x8d\\xd0\\xbb\\xd1\\x8c\\xd1\\x84\\xd1\\x8b, \\xd0\\xb4\\xd1\\x80\\xd0\\xb0\\xd0\\xba\\xd0\\xbe\\xd0\\xbd\\xd1\\x8c\\xd0\\xb5 \\xd0\\xb3\\xd0\\xbd\\xd0\\xb5\\xd0\\xb7\\xd0\\xb4\\xd0\\xbe\\n\\n\\n\\xee\\xa1\\xaa\\n                        \\xd0\\x92 \\xd0\\xbf\\xd1\\x80\\xd0\\xbe\\xd1\\x86\\xd0\\xb5\\xd1\\x81\\xd1\\x81\\xd0\\xb5: 14 \\xd0\\x9c\\xd0\\xb0\\xd1\\x8f\\n                        28 \\xd1\\x81\\xd1\\x82\\xd1\\x80\\n\\n\\n10708\\n2309\\n\\n\\n\"\"\"^^xsd:string ;\\n    :hasFavorites 2309 ;\\n    :hasGenre :Fanfik ;\\n    :hasName \"\\xd0\\x9f\\xd0\\xb5\\xd1\\x80\\xd0\\xb5\\xd1\\x81\\xd0\\xb5\\xd0\\xba\\xd0\\xb0\\xd1\\x8f \\xd0\\xb3\\xd1\\x80\\xd0\\xb0\\xd0\\xbd\\xd0\\xb8\\xd1\\x86\\xd1\\x83 \\xd1\\x80\\xd0\\xb5\\xd0\\xb0\\xd0\\xbb\\xd1\\x8c\\xd0\\xbd\\xd0\\xbe\\xd1\\x81\\xd1\\x82\\xd0\\xb8. \\xd0\\x9a\\xd0\\xbd\\xd0\\xb8\\xd0\\xb3\\xd0\\xb0 3\"^^xsd:string ;\\n    :hasNumberOfPages 28 ;\\n    :hasRate 448 ;\\n    :hasURL \"https://litnet.com/ru/book/peresekaya-granicu-realnosti-kniga-3-b333651\"^^xsd:string ;\\n    :hasViews 10708 .\\n\\n:\\xd0\\x9f\\xd0\\xbe\\xd0\\xbf\\xd0\\xb0\\xd0\\xb4\\xd0\\xb0\\xd0\\xbd\\xd0\\xba\\xd0\\xb0_\\xd0\\xb2_\\xd0\\x90\\xd0\\xba\\xd0\\xb0\\xd0\\xb4\\xd0\\xb5\\xd0\\xbc\\xd0\\xb8\\xd0\\xb8_\\xd0\\x94\\xd1\\x80\\xd0\\xb0\\xd0\\xba\\xd0\\xbe\\xd0\\xbd\\xd0\\xbe\\xd0\\xb2_\\xd0\\xb8\\xd0\\xbb\\xd0\\xb8_\\xd0\\x94\\xd0\\xbe\\xd0\\xbf\\xd1\\x80\\xd0\\xbe\\xd1\\x81\\xd0\\xb8\\xd1\\x82\\xd1\\x8c_\\xd0\\xa5\\xd0\\xbe\\xd0\\xbc\\xd1\\x8f\\xd0\\xba\\xd0\\xb0 a :Detektivy,\\n        :Entertainment_book,\\n        :Satisfactory,\\n        owl:NamedIndividual ;\\n    :hasDescription \"\"\"\\n\\xd0\\x9f\\xd0\\xbe\\xd0\\xbf\\xd0\\xb0\\xd0\\xb4\\xd0\\xb0\\xd0\\xbd\\xd0\\xba\\xd0\\xb0 \\xd0\\xb2 \\xd0\\x90\\xd0\\xba\\xd0\\xb0\\xd0\\xb4\\xd0\\xb5\\xd0\\xbc\\xd0\\xb8\\xd0\\xb8 \\xd0\\x94\\xd1\\x80\\xd0\\xb0\\xd0\\xba\\xd0\\xbe\\xd0\\xbd\\xd0\\xbe\\xd0\\xb2, \\xd0\\xb8\\xd0\\xbb\\xd0\\xb8 \\xd0\\x94\\xd0\\xbe\\xd0\\xbf\\xd1\\x80\\xd0\\xbe\\xd1\\x81\\xd0\\xb8\\xd1\\x82\\xd1\\x8c \\xd0\\xa5\\xd0\\xbe\\xd0\\xbc\\xd1\\x8f\\xd0\\xba\\xd0\\xb0\\n\\xd0\\x90\\xd0\\xbb\\xd0\\xb5\\xd0\\xba\\xd1\\x81 \\xd0\\x9d\\xd0\\xb0\\xd0\\xb9\\xd1\\x82\\n                \\xd0\\x96\\xd0\\xb8\\xd1\\x82\\xd1\\x8c\\xd1\\x8f \\xd1\\x83\\xd0\\xb6\\xd0\\xb5 \\xd0\\xbd\\xd0\\xb5\\xd1\\x82 \\xd1\\x81 \\xd1\\x8d\\xd1\\x82\\xd0\\xb8\\xd0\\xbc \\xd0\\xb2\\xd0\\xb7\\xd1\\x80\\xd1\\x8b\\xd0\\xb2\\xd0\\xbd\\xd1\\x8b\\xd0\\xbc \\xd0\\xbc\\xd0\\xb0\\xd0\\xb3\\xd0\\xb8\\xd1\\x87\\xd0\\xb5\\xd1\\x81\\xd0\\xba\\xd0\\xb8\\xd0\\xbc \\xd0\\xb4\\xd0\\xb0\\xd1\\x80\\xd0\\xbe\\xd0\\xbc! \\xd0\\x98 \\xd0\\x90\\xd0\\xba\\xd0\\xb0\\xd0\\xb4\\xd0\\xb5\\xd0\\xbc\\xd0\\xb8\\xd1\\x8f \\xd0\\x94\\xd1\\x80\\xd0\\xb0\\xd0\\xba\\xd0\\xbe\\xd0\\xbd\\xd0\\xbe\\xd0\\xb2 \\xe2\\x80\\x94 \\xd0\\xbc\\xd0\\xbe\\xd1\\x8f \\xd0\\xbf\\xd0\\xbe\\xd1\\x81\\xd0\\xbb\\xd0\\xb5\\xd0\\xb4\\xd0\\xbd\\xd1\\x8f\\xd1\\x8f \\xd0\\xbd\\xd0\\xb0\\xd0\\xb4\\xd0\\xb5\\xd0\\xb6\\xd0\\xb4\\xd0\\xb0. \\xd0\\x9f\\xd0\\xbb\\xd0\\xb0\\xd0\\xbd \\xd0\\xbf\\xd1\\x80\\xd0\\xbe\\xd1\\x81\\xd1\\x82: \\xd0\\xbf\\xd1\\x80\\xd0\\xb8\\xd0\\xb5\\xd1\\x85\\xd0\\xb0\\xd1\\x82\\xd1\\x8c \\xd0\\xb2 \\xd1\\x81\\xd1\\x82\\xd0\\xbe\\xd0\\xbb\\xd0\\xb8\\xd1\\x86\\xd1\\x83, \\xd1\\x81\\xd0\\xbd\\xd1\\x8f\\xd1\\x82\\xd1\\x8c \\xd0\\xb2\\xd1\\x80\\xd0\\xb5\\xd0\\xbc\\xd0\\xb5\\xd0\\xbd\\xd0\\xbd\\xd0\\xbe\\xd0\\xb5 \\xd0\\xb6\\xd0\\xb8\\xd0\\xbb\\xd1\\x8c\\xd1\\x91, \\xd1\\x81\\xd0\\xb4\\xd0\\xb0\\xd1\\x82\\xd1\\x8c \\xd1\\x8d\\xd0\\xba\\xd0\\xb7\\xd0\\xb0\\xd0\\xbc\\xd0\\xb5\\xd0\\xbd\\xd1\\x8b. \\xd0\\x98... \\xd0\\xbf\\xd0\\xbe\\xd0\\xb4\\xd1\\x80\\xd0\\xbe\\xd0\\xb1\\xd0\\xbd\\xd0\\xb5\\xd0\\xb5\\n\\xd0\\x92 \\xd1\\x82\\xd0\\xb5\\xd0\\xba\\xd1\\x81\\xd1\\x82\\xd0\\xb5 \\xd0\\xb5\\xd1\\x81\\xd1\\x82\\xd1\\x8c:  \\xd0\\xbc\\xd0\\xb0\\xd0\\xb3\\xd0\\xb8\\xd1\\x87\\xd0\\xb5\\xd1\\x81\\xd0\\xba\\xd0\\xb0\\xd1\\x8f \\xd0\\xb0\\xd0\\xba\\xd0\\xb0\\xd0\\xb4\\xd0\\xb5\\xd0\\xbc\\xd0\\xb8\\xd1\\x8f, \\xd0\\xb8\\xd1\\x81\\xd1\\x82\\xd0\\xb8\\xd0\\xbd\\xd0\\xbd\\xd0\\xb0\\xd1\\x8f \\xd0\\xbf\\xd0\\xb0\\xd1\\x80\\xd0\\xb0, \\xd0\\xbc\\xd0\\xb0\\xd0\\xb3\\xd0\\xb8\\xd1\\x87\\xd0\\xb5\\xd1\\x81\\xd0\\xba\\xd0\\xb8\\xd0\\xb9 \\xd0\\xb4\\xd0\\xb5\\xd1\\x82\\xd0\\xb5\\xd0\\xba\\xd1\\x82\\xd0\\xb8\\xd0\\xb2\\n\\n\\n\\xee\\xa1\\xaa\\n                        \\xd0\\x92 \\xd0\\xbf\\xd1\\x80\\xd0\\xbe\\xd1\\x86\\xd0\\xb5\\xd1\\x81\\xd1\\x81\\xd0\\xb5: 18 \\xd0\\x9c\\xd0\\xb0\\xd1\\x8f\\n                        80 \\xd1\\x81\\xd1\\x82\\xd1\\x80\\n\\n\\n232242\\n10533\\n\\n\\n\"\"\"^^xsd:string ;\\n    :hasFavorites 10533 ;\\n    :hasGenre :Detektivy ;\\n    :hasName \"\\xd0\\x9f\\xd0\\xbe\\xd0\\xbf\\xd0\\xb0\\xd0\\xb4\\xd0\\xb0\\xd0\\xbd\\xd0\\xba\\xd0\\xb0 \\xd0\\xb2 \\xd0\\x90\\xd0\\xba\\xd0\\xb0\\xd0\\xb4\\xd0\\xb5\\xd0\\xbc\\xd0\\xb8\\xd0\\xb8 \\xd0\\x94\\xd1\\x80\\xd0\\xb0\\xd0\\xba\\xd0\\xbe\\xd0\\xbd\\xd0\\xbe\\xd0\\xb2, \\xd0\\xb8\\xd0\\xbb\\xd0\\xb8 \\xd0\\x94\\xd0\\xbe\\xd0\\xbf\\xd1\\x80\\xd0\\xbe\\xd1\\x81\\xd0\\xb8\\xd1\\x82\\xd1\\x8c \\xd0\\xa5\\xd0\\xbe\\xd0\\xbc\\xd1\\x8f\\xd0\\xba\\xd0\\xb0\"^^xsd:string ;\\n    :hasNumberOfPages 80 ;\\n    :hasRate 1321 ;\\n    :hasURL \"https://litnet.com/ru/book/popadanka-v-akademii-drakonov-ili-doprosit-xomyaka-b336596\"^^xsd:string ;\\n    :hasViews 232242 .\\n\\n:\\xd0\\xa2\\xd0\\xb0\\xd0\\xb1\\xd0\\xbb\\xd0\\xb5\\xd1\\x82\\xd0\\xbe\\xd1\\x87\\xd0\\xba\\xd1\\x83_\\xd0\\x92\\xd0\\xb0\\xd1\\x88\\xd0\\xb5_\\xd0\\xa2\\xd0\\xb5\\xd0\\xbc\\xd0\\xbd\\xd0\\xb5\\xd0\\xb9\\xd1\\x88\\xd0\\xb5\\xd1\\x81\\xd1\\x82\\xd0\\xb2\\xd0\\xbe a :Entertainment_book,\\n        :Fentezi,\\n        :Popadancy,\\n        :Satisfactory,\\n        owl:NamedIndividual ;\\n    :hasDescription \"\"\"\\n\\xd0\\xa2\\xd0\\xb0\\xd0\\xb1\\xd0\\xbb\\xd0\\xb5\\xd1\\x82\\xd0\\xbe\\xd1\\x87\\xd0\\xba\\xd1\\x83, \\xd0\\x92\\xd0\\xb0\\xd1\\x88\\xd0\\xb5 \\xd0\\xa2\\xd0\\xb5\\xd0\\xbc\\xd0\\xbd\\xd0\\xb5\\xd0\\xb9\\xd1\\x88\\xd0\\xb5\\xd1\\x81\\xd1\\x82\\xd0\\xb2\\xd0\\xbe?\\n\\xd0\\x9b\\xd0\\xb8\\xd1\\x80\\xd0\\xb0 \\xd0\\x90\\xd0\\xbb\\xd0\\xb0\\xd1\\x8f\\n                \\xd0\\x9f\\xd1\\x80\\xd0\\xb8\\xd1\\x81\\xd0\\xbb\\xd0\\xbe\\xd0\\xbd\\xd0\\xb8\\xd0\\xbb\\xd0\\xb0\\xd1\\x81\\xd1\\x8c \\xd0\\xba \\xd1\\x82\\xd0\\xb0\\xd0\\xb1\\xd0\\xbb\\xd0\\xb5\\xd1\\x82\\xd0\\xbe\\xd1\\x87\\xd0\\xbd\\xd0\\xbe\\xd0\\xb9 \\xd0\\xbc\\xd0\\xb0\\xd1\\x88\\xd0\\xb8\\xd0\\xbd\\xd0\\xb5 \\xd0\\xb8 \\xd0\\xbf\\xd0\\xbe\\xd0\\xbf\\xd0\\xb0\\xd0\\xbb\\xd0\\xb0 \\xd0\\xb2 \\xd0\\xb4\\xd1\\x80\\xd1\\x83\\xd0\\xb3\\xd0\\xbe\\xd0\\xb9 \\xd0\\xbc\\xd0\\xb8\\xd1\\x80? \\xd0\\x9d\\xd0\\xb5 \\xd1\\x82\\xd0\\xb5\\xd1\\x80\\xd1\\x8f\\xd0\\xb9\\xd1\\x81\\xd1\\x8f! \\xd0\\x9f\\xd1\\x80\\xd0\\xbe\\xd0\\xb2\\xd0\\xb8\\xd0\\xb7\\xd0\\xbe\\xd1\\x80 \\xd1\\x82\\xd1\\x8b \\xd0\\xb8\\xd0\\xbb\\xd0\\xb8 \\xd0\\xba\\xd1\\x82\\xd0\\xbe? \\xd0\\x97\\xd1\\x80\\xd1\\x8f \\xd0\\xbb\\xd0\\xb0\\xd1\\x82\\xd1\\x8b\\xd0\\xbd\\xd1\\x8c \\xd1\\x83\\xd1\\x87\\xd0\\xb8\\xd0\\xbb\\xd0\\xb0, \\xd1\\x87\\xd1\\x82\\xd0\\xbe \\xd0\\xbb\\xd0\\xb8? \\xd0\\xa1\\xd0\\xbe\\xd0\\xb9\\xd0\\xb4\\xd1\\x91\\xd1\\x88\\xd1\\x8c \\xd0\\xb7\\xd0\\xb0 \\xd0\\xb2\\xd0\\xb5\\xd0\\xb4\\xd1\\x8c\\xd0\\xbc\\xd1\\x83! \\xd0\\x90\\xd0\\xbf\\xd1\\x82\\xd0\\xb5\\xd0\\xba\\xd1\\x83 \\xd0\\xbe\\xd1\\x82\\xd0\\xba\\xd1\\x80\\xd0\\xbe\\xd0\\xb5\\xd1\\x88\\xd1\\x8c.\\n\\xd0\\xa1\\xd0\\xb2\\xd0\\xb5\\xd1\\x82\\xd0\\xbb\\xd1\\x8b\\xd0\\xb5 \\xd1\\x82\\xd1\\x83\\xd1\\x82, \\xd0\\xba\\xd0\\xbe... \\xd0\\xbf\\xd0\\xbe\\xd0\\xb4\\xd1\\x80\\xd0\\xbe\\xd0\\xb1\\xd0\\xbd\\xd0\\xb5\\xd0\\xb5\\n\\xd0\\x92 \\xd1\\x82\\xd0\\xb5\\xd0\\xba\\xd1\\x81\\xd1\\x82\\xd0\\xb5 \\xd0\\xb5\\xd1\\x81\\xd1\\x82\\xd1\\x8c:  \\xd0\\xb1\\xd1\\x8b\\xd1\\x82\\xd0\\xbe\\xd0\\xb2\\xd0\\xbe\\xd0\\xb5 \\xd1\\x84\\xd1\\x8d\\xd0\\xbd\\xd1\\x82\\xd0\\xb5\\xd0\\xb7\\xd0\\xb8, \\xd0\\xbd\\xd0\\xb5\\xd1\\x83\\xd0\\xbd\\xd1\\x8b\\xd0\\xb2\\xd0\\xb0\\xd1\\x8e\\xd1\\x89\\xd0\\xb0\\xd1\\x8f \\xd0\\xb3\\xd0\\xb5\\xd1\\x80\\xd0\\xbe\\xd0\\xb8\\xd0\\xbd\\xd1\\x8f, \\xd0\\xb3\\xd0\\xbe\\xd0\\xb2\\xd0\\xbe\\xd1\\x80\\xd1\\x8f\\xd1\\x89\\xd0\\xb0\\xd1\\x8f \\xd1\\x82\\xd0\\xb0\\xd0\\xb1\\xd0\\xbb\\xd0\\xb5\\xd1\\x82\\xd0\\xbe\\xd1\\x87\\xd0\\xbd\\xd0\\xb0\\xd1\\x8f \\xd0\\xbc\\xd0\\xb0\\xd1\\x88\\xd0\\xb8\\xd0\\xbd\\xd0\\xb0\\n\\n\\n\\xee\\xa1\\xaa\\n                        \\xd0\\x92 \\xd0\\xbf\\xd1\\x80\\xd0\\xbe\\xd1\\x86\\xd0\\xb5\\xd1\\x81\\xd1\\x81\\xd0\\xb5: 17 \\xd0\\x9c\\xd0\\xb0\\xd1\\x8f\\n                        58 \\xd1\\x81\\xd1\\x82\\xd1\\x80\\n\\n\\n300029\\n19825\\n\\n\\n\"\"\"^^xsd:string,\\n        \"\"\"\\n\\xd0\\xa2\\xd0\\xb0\\xd0\\xb1\\xd0\\xbb\\xd0\\xb5\\xd1\\x82\\xd0\\xbe\\xd1\\x87\\xd0\\xba\\xd1\\x83, \\xd0\\x92\\xd0\\xb0\\xd1\\x88\\xd0\\xb5 \\xd0\\xa2\\xd0\\xb5\\xd0\\xbc\\xd0\\xbd\\xd0\\xb5\\xd0\\xb9\\xd1\\x88\\xd0\\xb5\\xd1\\x81\\xd1\\x82\\xd0\\xb2\\xd0\\xbe?\\n\\xd0\\x9b\\xd0\\xb8\\xd1\\x80\\xd0\\xb0 \\xd0\\x90\\xd0\\xbb\\xd0\\xb0\\xd1\\x8f\\n                \\xd0\\x9f\\xd1\\x80\\xd0\\xb8\\xd1\\x81\\xd0\\xbb\\xd0\\xbe\\xd0\\xbd\\xd0\\xb8\\xd0\\xbb\\xd0\\xb0\\xd1\\x81\\xd1\\x8c \\xd0\\xba \\xd1\\x82\\xd0\\xb0\\xd0\\xb1\\xd0\\xbb\\xd0\\xb5\\xd1\\x82\\xd0\\xbe\\xd1\\x87\\xd0\\xbd\\xd0\\xbe\\xd0\\xb9 \\xd0\\xbc\\xd0\\xb0\\xd1\\x88\\xd0\\xb8\\xd0\\xbd\\xd0\\xb5 \\xd0\\xb8 \\xd0\\xbf\\xd0\\xbe\\xd0\\xbf\\xd0\\xb0\\xd0\\xbb\\xd0\\xb0 \\xd0\\xb2 \\xd0\\xb4\\xd1\\x80\\xd1\\x83\\xd0\\xb3\\xd0\\xbe\\xd0\\xb9 \\xd0\\xbc\\xd0\\xb8\\xd1\\x80? \\xd0\\x9d\\xd0\\xb5 \\xd1\\x82\\xd0\\xb5\\xd1\\x80\\xd1\\x8f\\xd0\\xb9\\xd1\\x81\\xd1\\x8f! \\xd0\\x9f\\xd1\\x80\\xd0\\xbe\\xd0\\xb2\\xd0\\xb8\\xd0\\xb7\\xd0\\xbe\\xd1\\x80 \\xd1\\x82\\xd1\\x8b \\xd0\\xb8\\xd0\\xbb\\xd0\\xb8 \\xd0\\xba\\xd1\\x82\\xd0\\xbe? \\xd0\\x97\\xd1\\x80\\xd1\\x8f \\xd0\\xbb\\xd0\\xb0\\xd1\\x82\\xd1\\x8b\\xd0\\xbd\\xd1\\x8c \\xd1\\x83\\xd1\\x87\\xd0\\xb8\\xd0\\xbb\\xd0\\xb0, \\xd1\\x87\\xd1\\x82\\xd0\\xbe \\xd0\\xbb\\xd0\\xb8? \\xd0\\xa1\\xd0\\xbe\\xd0\\xb9\\xd0\\xb4\\xd1\\x91\\xd1\\x88\\xd1\\x8c \\xd0\\xb7\\xd0\\xb0 \\xd0\\xb2\\xd0\\xb5\\xd0\\xb4\\xd1\\x8c\\xd0\\xbc\\xd1\\x83! \\xd0\\x90\\xd0\\xbf\\xd1\\x82\\xd0\\xb5\\xd0\\xba\\xd1\\x83 \\xd0\\xbe\\xd1\\x82\\xd0\\xba\\xd1\\x80\\xd0\\xbe\\xd0\\xb5\\xd1\\x88\\xd1\\x8c.\\n\\xd0\\xa1\\xd0\\xb2\\xd0\\xb5\\xd1\\x82\\xd0\\xbb\\xd1\\x8b\\xd0\\xb5 \\xd1\\x82\\xd1\\x83\\xd1\\x82, \\xd0\\xba\\xd0\\xbe... \\xd0\\xbf\\xd0\\xbe\\xd0\\xb4\\xd1\\x80\\xd0\\xbe\\xd0\\xb1\\xd0\\xbd\\xd0\\xb5\\xd0\\xb5\\n\\xd0\\x92 \\xd1\\x82\\xd0\\xb5\\xd0\\xba\\xd1\\x81\\xd1\\x82\\xd0\\xb5 \\xd0\\xb5\\xd1\\x81\\xd1\\x82\\xd1\\x8c:  \\xd0\\xb1\\xd1\\x8b\\xd1\\x82\\xd0\\xbe\\xd0\\xb2\\xd0\\xbe\\xd0\\xb5 \\xd1\\x84\\xd1\\x8d\\xd0\\xbd\\xd1\\x82\\xd0\\xb5\\xd0\\xb7\\xd0\\xb8, \\xd0\\xbd\\xd0\\xb5\\xd1\\x83\\xd0\\xbd\\xd1\\x8b\\xd0\\xb2\\xd0\\xb0\\xd1\\x8e\\xd1\\x89\\xd0\\xb0\\xd1\\x8f \\xd0\\xb3\\xd0\\xb5\\xd1\\x80\\xd0\\xbe\\xd0\\xb8\\xd0\\xbd\\xd1\\x8f, \\xd0\\xb3\\xd0\\xbe\\xd0\\xb2\\xd0\\xbe\\xd1\\x80\\xd1\\x8f\\xd1\\x89\\xd0\\xb0\\xd1\\x8f \\xd1\\x82\\xd0\\xb0\\xd0\\xb1\\xd0\\xbb\\xd0\\xb5\\xd1\\x82\\xd0\\xbe\\xd1\\x87\\xd0\\xbd\\xd0\\xb0\\xd1\\x8f \\xd0\\xbc\\xd0\\xb0\\xd1\\x88\\xd0\\xb8\\xd0\\xbd\\xd0\\xb0\\n\\n\\n\\xee\\xa1\\xaa\\n                        \\xd0\\x92 \\xd0\\xbf\\xd1\\x80\\xd0\\xbe\\xd1\\x86\\xd0\\xb5\\xd1\\x81\\xd1\\x81\\xd0\\xb5: 17 \\xd0\\x9c\\xd0\\xb0\\xd1\\x8f\\n                        58 \\xd1\\x81\\xd1\\x82\\xd1\\x80\\n\\n\\n300032\\n19825\\n\\n\\n\"\"\"^^xsd:string ;\\n    :hasFavorites 19825 ;\\n    :hasGenre :Fentezi,\\n        :Popadancy ;\\n    :hasName \"\\xd0\\xa2\\xd0\\xb0\\xd0\\xb1\\xd0\\xbb\\xd0\\xb5\\xd1\\x82\\xd0\\xbe\\xd1\\x87\\xd0\\xba\\xd1\\x83, \\xd0\\x92\\xd0\\xb0\\xd1\\x88\\xd0\\xb5 \\xd0\\xa2\\xd0\\xb5\\xd0\\xbc\\xd0\\xbd\\xd0\\xb5\\xd0\\xb9\\xd1\\x88\\xd0\\xb5\\xd1\\x81\\xd1\\x82\\xd0\\xb2\\xd0\\xbe?\"^^xsd:string ;\\n    :hasNumberOfPages 58 ;\\n    :hasRate 2405 ;\\n    :hasURL \"https://litnet.com/ru/book/tabletochku-vashe-temneishestvo-b333552\"^^xsd:string ;\\n    :hasViews 300029,\\n        300032 .\\n\\n:\\xd0\\xa2\\xd0\\xb0\\xd0\\xb9\\xd0\\xbd\\xd1\\x8b\\xd0\\xb9_\\xd0\\xbd\\xd0\\xb0\\xd1\\x81\\xd0\\xbb\\xd0\\xb5\\xd0\\xb4\\xd0\\xbd\\xd0\\xb8\\xd0\\xba_\\xd0\\xbc\\xd0\\xb8\\xd0\\xbb\\xd0\\xbb\\xd0\\xb8\\xd0\\xb0\\xd1\\x80\\xd0\\xb4\\xd0\\xb5\\xd1\\x80\\xd0\\xb0 a :Entertainment_book,\\n        :Good,\\n        :Molodejnaya_proza,\\n        owl:NamedIndividual ;\\n    :hasDescription \"\"\"\\n\\xd0\\xa2\\xd0\\xb0\\xd0\\xb9\\xd0\\xbd\\xd1\\x8b\\xd0\\xb9 \\xd0\\xbd\\xd0\\xb0\\xd1\\x81\\xd0\\xbb\\xd0\\xb5\\xd0\\xb4\\xd0\\xbd\\xd0\\xb8\\xd0\\xba \\xd0\\xbc\\xd0\\xb8\\xd0\\xbb\\xd0\\xbb\\xd0\\xb8\\xd0\\xb0\\xd1\\x80\\xd0\\xb4\\xd0\\xb5\\xd1\\x80\\xd0\\xb0\\n\\xd0\\x94\\xd0\\xb8\\xd0\\xbd\\xd0\\xb0 \\xd0\\x98\\xd1\\x81\\xd0\\xb0\\xd0\\xb5\\xd0\\xb2\\xd0\\xb0\\n                \\xd0\\x90\\xd1\\x80\\xd1\\x82\\xd1\\x83\\xd1\\x80 \\xd0\\x9c\\xd0\\xb0\\xd0\\xbd\\xd0\\xb0\\xd0\\xbf\\xd0\\xbe\\xd0\\xb2 \\xd1\\x81\\xd1\\x82\\xd0\\xb0\\xd0\\xbb \\xd0\\xbc\\xd0\\xbe\\xd0\\xb8\\xd0\\xbc \\xd0\\xbf\\xd0\\xb5\\xd1\\x80\\xd0\\xb2\\xd1\\x8b\\xd0\\xbc \\xd0\\xbc\\xd1\\x83\\xd0\\xb6\\xd1\\x87\\xd0\\xb8\\xd0\\xbd\\xd0\\xbe\\xd0\\xb9, \\xd0\\xb0 \\xd0\\xbf\\xd0\\xbe\\xd1\\x81\\xd0\\xbb\\xd0\\xb5 \\xd1\\x81\\xd0\\xba\\xd0\\xb0\\xd0\\xb7\\xd0\\xb0\\xd0\\xbb, \\xd1\\x87\\xd1\\x82\\xd0\\xbe \\xd0\\xbc\\xd1\\x8b \\xd0\\xbd\\xd0\\xb5 \\xd0\\xbf\\xd0\\xbe\\xd0\\xb4\\xd1\\x85\\xd0\\xbe\\xd0\\xb4\\xd0\\xb8\\xd0\\xbc \\xd0\\xb4\\xd1\\x80\\xd1\\x83\\xd0\\xb3 \\xd0\\xb4\\xd1\\x80\\xd1\\x83\\xd0\\xb3\\xd1\\x83 \\xd0\\xb8 \\xd0\\xb7\\xd0\\xb0\\xd1\\x81\\xd1\\x82\\xd0\\xb0\\xd0\\xb2\\xd0\\xb8\\xd0\\xbb \\xd0\\xb2\\xd1\\x8b\\xd0\\xbf\\xd0\\xb8\\xd1\\x82\\xd1\\x8c \\xd1\\x82\\xd0\\xb0\\xd0\\xb1\\xd0\\xbb\\xd0\\xb5\\xd1\\x82\\xd0\\xba\\xd0\\xb8, \\xd1\\x87\\xd1\\x82\\xd0\\xbe\\xd0\\xb1\\xd1\\x8b \\xd1\\x8f \\xd0\\xbd\\xd0\\xb5 \\xd0\\xb7\\xd0\\xb0\\xd0\\xb1\\xd0\\xb5\\xd1\\x80\\xd0\\xb5\\xd0\\xbc\\xd0\\xb5\\xd0\\xbd\\xd0\\xb5\\xd0\\xbb\\xd0\\xb0.\\n\\xd0\\xa1 \\xd1\\x82\\xd0\\xb5\\xd1\\x85 \\xd0\\xbf\\xd0\\xbe\\xd1\\x80 \\xd0\\xbf\\xd1\\x80\\xd0\\xbe\\xd1\\x88\\xd0\\xbb\\xd0\\xbe \\xd1\\x82\\xd1\\x80\\xd0\\xb8 \\xd0\\xb3\\xd0\\xbe\\xd0\\xb4\\xd0\\xb0.... \\xd0\\xbf\\xd0\\xbe\\xd0\\xb4\\xd1\\x80\\xd0\\xbe\\xd0\\xb1\\xd0\\xbd\\xd0\\xb5\\xd0\\xb5\\n\\xd0\\x92 \\xd1\\x82\\xd0\\xb5\\xd0\\xba\\xd1\\x81\\xd1\\x82\\xd0\\xb5 \\xd0\\xb5\\xd1\\x81\\xd1\\x82\\xd1\\x8c:  \\xd0\\xb2\\xd0\\xbb\\xd0\\xb0\\xd1\\x81\\xd1\\x82\\xd0\\xbd\\xd1\\x8b\\xd0\\xb9 \\xd0\\xb3\\xd0\\xb5\\xd1\\x80\\xd0\\xbe\\xd0\\xb9, \\xd1\\x80\\xd0\\xb5\\xd0\\xb1\\xd0\\xb5\\xd0\\xbd\\xd0\\xbe\\xd0\\xba, \\xd0\\xb2\\xd1\\x81\\xd1\\x82\\xd1\\x80\\xd0\\xb5\\xd1\\x87\\xd0\\xb0 \\xd1\\x87\\xd0\\xb5\\xd1\\x80\\xd0\\xb5\\xd0\\xb7 \\xd0\\xb2\\xd1\\x80\\xd0\\xb5\\xd0\\xbc\\xd1\\x8f\\n\\n\\n\\xee\\xa1\\xaa\\n                        \\xd0\\x92 \\xd0\\xbf\\xd1\\x80\\xd0\\xbe\\xd1\\x86\\xd0\\xb5\\xd1\\x81\\xd1\\x81\\xd0\\xb5: 17 \\xd0\\x9c\\xd0\\xb0\\xd1\\x8f\\n                        103 \\xd1\\x81\\xd1\\x82\\xd1\\x80\\n\\n\\n1633824\\n20336\\n\\n\\n\"\"\"^^xsd:string ;\\n    :hasFavorites 20336 ;\\n    :hasGenre :Molodejnaya_proza ;\\n    :hasName \"\\xd0\\xa2\\xd0\\xb0\\xd0\\xb9\\xd0\\xbd\\xd1\\x8b\\xd0\\xb9 \\xd0\\xbd\\xd0\\xb0\\xd1\\x81\\xd0\\xbb\\xd0\\xb5\\xd0\\xb4\\xd0\\xbd\\xd0\\xb8\\xd0\\xba \\xd0\\xbc\\xd0\\xb8\\xd0\\xbb\\xd0\\xbb\\xd0\\xb8\\xd0\\xb0\\xd1\\x80\\xd0\\xb4\\xd0\\xb5\\xd1\\x80\\xd0\\xb0\"^^xsd:string ;\\n    :hasNumberOfPages 103 ;\\n    :hasRate 7913 ;\\n    :hasURL \"https://litnet.com/ru/book/tainyi-naslednik-milliardera-b332186\"^^xsd:string ;\\n    :hasViews 1633824 .\\n\\n:\\xd0\\xa7\\xd0\\xb5\\xd1\\x80\\xd0\\xbd\\xd0\\xbe\\xd0\\xba\\xd0\\xbd\\xd0\\xb8\\xd0\\xb6\\xd0\\xbd\\xd0\\xb8\\xd1\\x86\\xd0\\xb0 a :Bad,\\n        :Entertainment_book,\\n        :Trillery,\\n        owl:NamedIndividual ;\\n    :hasDescription \"\"\"\\n\\xd0\\xa7\\xd0\\xb5\\xd1\\x80\\xd0\\xbd\\xd0\\xbe\\xd0\\xba\\xd0\\xbd\\xd0\\xb8\\xd0\\xb6\\xd0\\xbd\\xd0\\xb8\\xd1\\x86\\xd0\\xb0\\n\\xd0\\xaf\\xd0\\xbd\\xd0\\xb0 \\xd0\\x9c\\xd0\\xb5\\xd0\\xbb\\xd0\\xb5\\xd0\\xb2\\xd0\\xb8\\xd1\\x87\\n                \\xd0\\x9e\\xd0\\x9a\\xd0\\x9e\\xd0\\x9d\\xd0\\xa7\\xd0\\x90\\xd0\\x9d\\xd0\\x98\\xd0\\x95 \\xd0\\x9f\\xd0\\x9e\\xd0\\x94\\xd0\\x9f\\xd0\\x98\\xd0\\xa1\\xd0\\x9a\\xd0\\x98\\n\\xd0\\x97\\xd0\\xb0 \\xd0\\xba\\xd0\\xbe\\xd0\\xbb\\xd0\\xb4\\xd0\\xbe\\xd0\\xb2\\xd1\\x81\\xd1\\x82\\xd0\\xb2\\xd0\\xbe \\xd0\\xbc\\xd0\\xb5\\xd0\\xbd\\xd1\\x8f \\xd0\\xb8\\xd0\\xb7\\xd0\\xb3\\xd0\\xbd\\xd0\\xb0\\xd0\\xbb\\xd0\\xb8 \\xd0\\xb2 \\xd0\\xbc\\xd0\\xb8\\xd1\\x80 \\xd0\\xb1\\xd0\\xb5\\xd0\\xb7 \\xd0\\xbc\\xd0\\xb0\\xd0\\xb3\\xd0\\xb8\\xd0\\xb8. \\xd0\\xa2\\xd0\\xb5\\xd0\\xbf\\xd0\\xb5\\xd1\\x80\\xd1\\x8c \\xd1\\x8f \\xe2\\x80\\x94 \\xd0\\x95\\xd0\\xbb\\xd0\\xb5\\xd0\\xbd\\xd0\\xb0 \\xd0\\x9c\\xd0\\xbe\\xd0\\xbb\\xd1\\x87\\xd0\\xb0\\xd0\\xbd\\xd0\\xbe\\xd0\\xb2\\xd0\\xb0, \\xd0\\xb4\\xd0\\xb8\\xd0\\xbf\\xd0\\xbb\\xd0\\xbe\\xd0\\xbc\\xd0\\xb8\\xd1\\x80\\xd0\\xbe\\xd0\\xb2\\xd0\\xb0\\xd0\\xbd\\xd0\\xbd\\xd1\\x8b\\xd0\\xb9 \\xd1\\x8d\\xd0\\xba\\xd1\\x81\\xd1\\x82\\xd1\\x80\\xd0\\xb0\\xd1\\x81\\xd0\\xb5\\xd0\\xbd\\xd1\\x81 \\xd1\\x81 \\xd0\\xba\\xd1\\x80\\xd0\\xbe\\xd0\\xb2\\xd0\\xbe\\xd0\\xb6\\xd0\\xb0\\xd0\\xb4\\xd0\\xbd\\xd1\\x8b\\xd0\\xbc \\xd0\\xba\\xd1\\x80\\xd0\\xbe\\xd0\\xbb\\xd0\\xb8\\xd0\\xba\\xd0\\xbe\\xd0\\xbc-\\xd0\\xb4\\xd0\\xb5\\xd0\\xbc\\xd0\\xbe\\xd0\\xbd\\xd0\\xbe\\xd0\\xbc \\xd0\\xb8 \\xd0\\xbd\\xd0\\xb5\\xd0\\xbd\\xd0\\xbe\\xd1\\x80\\xd0\\xbc\\xd0\\xb0\\xd0\\xbb\\xd1\\x8c\\xd0\\xbd... \\xd0\\xbf\\xd0\\xbe\\xd0\\xb4\\xd1\\x80\\xd0\\xbe\\xd0\\xb1\\xd0\\xbd\\xd0\\xb5\\xd0\\xb5\\n\\xd0\\x92 \\xd1\\x82\\xd0\\xb5\\xd0\\xba\\xd1\\x81\\xd1\\x82\\xd0\\xb5 \\xd0\\xb5\\xd1\\x81\\xd1\\x82\\xd1\\x8c:  \\xd1\\x82\\xd0\\xb5\\xd0\\xbc\\xd0\\xbd\\xd0\\xbe\\xd0\\xb5 \\xd1\\x84\\xd1\\x8d\\xd0\\xbd\\xd1\\x82\\xd0\\xb5\\xd0\\xb7\\xd0\\xb8, \\xd1\\x81\\xd0\\xbb\\xd0\\xbe\\xd0\\xb6\\xd0\\xbd\\xd1\\x8b\\xd0\\xb5 \\xd0\\xbe\\xd1\\x82\\xd0\\xbd\\xd0\\xbe\\xd1\\x88\\xd0\\xb5\\xd0\\xbd\\xd0\\xb8\\xd1\\x8f, \\xd0\\xbf\\xd1\\x80\\xd0\\xb5\\xd0\\xb4\\xd0\\xb0\\xd1\\x82\\xd0\\xb5\\xd0\\xbb\\xd1\\x8c\\xd1\\x81\\xd1\\x82\\xd0\\xb2\\xd0\\xbe \\xd0\\xb8 \\xd0\\xbc\\xd0\\xb5\\xd1\\x81\\xd1\\x82\\xd1\\x8c\\n\\n\\n\\xee\\xa1\\xaa\\n                        \\xd0\\x92 \\xd0\\xbf\\xd1\\x80\\xd0\\xbe\\xd1\\x86\\xd0\\xb5\\xd1\\x81\\xd1\\x81\\xd0\\xb5: 17 \\xd0\\x9c\\xd0\\xb0\\xd1\\x8f\\n                        235 \\xd1\\x81\\xd1\\x82\\xd1\\x80\\n\\n\\n23626\\n1303\\n\\n\\n\"\"\"^^xsd:string ;\\n    :hasFavorites 1303 ;\\n    :hasGenre :Trillery ;\\n    :hasName \"\\xd0\\xa7\\xd0\\xb5\\xd1\\x80\\xd0\\xbd\\xd0\\xbe\\xd0\\xba\\xd0\\xbd\\xd0\\xb8\\xd0\\xb6\\xd0\\xbd\\xd0\\xb8\\xd1\\x86\\xd0\\xb0\"^^xsd:string ;\\n    :hasNumberOfPages 235 ;\\n    :hasRate 241 ;\\n    :hasURL \"https://litnet.com/ru/book/chernoknizhnica-b312180\"^^xsd:string ;\\n    :hasViews 23626 .\\n\\n:Satisfactory a owl:Class,\\n        owl:NamedIndividual ;\\n    :hasStatus :\\xd0\\x94\\xd0\\xb2\\xd0\\xbe\\xd0\\xb9\\xd0\\xbd\\xd1\\x8f\\xd1\\x88\\xd0\\xba\\xd0\\xb8_\\xd0\\xb4\\xd0\\xbb\\xd1\\x8f_\\xd0\\x9c\\xd0\\xb5\\xd0\\xb4\\xd0\\xb2\\xd0\\xb5\\xd0\\xb4\\xd1\\x8f,\\n        :\\xd0\\x98\\xd1\\x81\\xd0\\xba\\xd1\\x83\\xd1\\x88\\xd0\\xb5\\xd0\\xbd\\xd0\\xb8\\xd0\\xb5_\\xd0\\xbd\\xd0\\xb5\\xd0\\xb2\\xd0\\xb8\\xd0\\xbd\\xd0\\xbd\\xd0\\xbe\\xd1\\x81\\xd1\\x82\\xd1\\x8c\\xd1\\x8e,\\n        :\\xd0\\x9b\\xd0\\xb5\\xd0\\xba\\xd0\\xb0\\xd1\\x80\\xd1\\x8c_\\xd0\\xb2\\xd0\\xbe\\xd0\\xb7\\xd0\\xbb\\xd1\\x8e\\xd0\\xb1\\xd0\\xbb\\xd0\\xb5\\xd0\\xbd\\xd0\\xbd\\xd1\\x8b\\xd0\\xb9,\\n        :\\xd0\\x9d\\xd0\\xb5\\xd0\\xb2\\xd0\\xb8\\xd0\\xbd\\xd0\\xbd\\xd0\\xbe\\xd1\\x81\\xd1\\x82\\xd1\\x8c_\\xd0\\xb2_\\xd0\\xb6\\xd0\\xb5\\xd1\\x80\\xd1\\x82\\xd0\\xb2\\xd1\\x83,\\n        :\\xd0\\x9f\\xd0\\xbe\\xd0\\xbf\\xd0\\xb0\\xd0\\xb4\\xd0\\xb0\\xd0\\xbd\\xd0\\xba\\xd0\\xb0_\\xd0\\xb2_\\xd0\\x90\\xd0\\xba\\xd0\\xb0\\xd0\\xb4\\xd0\\xb5\\xd0\\xbc\\xd0\\xb8\\xd0\\xb8_\\xd0\\x94\\xd1\\x80\\xd0\\xb0\\xd0\\xba\\xd0\\xbe\\xd0\\xbd\\xd0\\xbe\\xd0\\xb2_\\xd0\\xb8\\xd0\\xbb\\xd0\\xb8_\\xd0\\x94\\xd0\\xbe\\xd0\\xbf\\xd1\\x80\\xd0\\xbe\\xd1\\x81\\xd0\\xb8\\xd1\\x82\\xd1\\x8c_\\xd0\\xa5\\xd0\\xbe\\xd0\\xbc\\xd1\\x8f\\xd0\\xba\\xd0\\xb0,\\n        :\\xd0\\xa2\\xd0\\xb0\\xd0\\xb1\\xd0\\xbb\\xd0\\xb5\\xd1\\x82\\xd0\\xbe\\xd1\\x87\\xd0\\xba\\xd1\\x83_\\xd0\\x92\\xd0\\xb0\\xd1\\x88\\xd0\\xb5_\\xd0\\xa2\\xd0\\xb5\\xd0\\xbc\\xd0\\xbd\\xd0\\xb5\\xd0\\xb9\\xd1\\x88\\xd0\\xb5\\xd1\\x81\\xd1\\x82\\xd0\\xb2\\xd0\\xbe ;\\n    rdfs:subClassOf :Status .\\n\\n:Entertainment_book a owl:Class ;\\n    rdfs:label \"Entertaiment book\"@en ;\\n    rdfs:comment \"Class describe entertaiment books\"@en ;\\n    rdfs:subClassOf :Book .\\n\\n:Book a owl:Class ;\\n    rdfs:label \"Book\"@en ;\\n    rdfs:comment \"Class describe books\"@en .\\n\\n:Author a owl:Class ;\\n    rdfs:label \"Author\"@en ;\\n    rdfs:comment \"Class description author\"@en .\\n\\n:Genre a owl:Class ;\\n    rdfs:label \"Genre\"@en ;\\n    rdfs:comment \"Class describe Genre book\"@en .\\n\\n:Tags a owl:Class ;\\n    rdfs:label \"Tags\"@en ;\\n    rdfs:comment \"Class describe tags books\"@en .\\n\\n'"
            ]
          },
          "metadata": {
            "tags": []
          },
          "execution_count": 3
        }
      ]
    },
    {
      "cell_type": "markdown",
      "metadata": {
        "id": "cJX2tHjCwdbC"
      },
      "source": [
        "# Class"
      ]
    },
    {
      "cell_type": "code",
      "metadata": {
        "id": "1J8l6v5fwfHy"
      },
      "source": [
        "path = 'http://www.semanticweb.org/vasilii/ontologies/2021/3/book_onto#'\n",
        "\n",
        "# Class\n",
        "TAGS = URIRef(path + 'Tags')\n",
        "BOOK = URIRef(path + 'Book')\n",
        "\n",
        "STATUS = URIRef(path + 'Status')\n",
        "GENRE = URIRef(path + 'Genre')\n",
        "AUTHOR = URIRef(path + 'Author')\n",
        "EDUCATIONAL_BOOK = URIRef(path + 'Educational_book')\n",
        "ENTERTAIMENT_BOOK = URIRef(path + 'Entertainment_book')\n",
        "\n",
        "NAME_GENRES = {\n",
        "    'Фэнтези': URIRef(path + 'Fentezi'),\n",
        "    'ЛитРПГ': URIRef(path + 'Litrpg'),\n",
        "    'Любовные романы': URIRef(path + 'Lyubovnye_romany'),\n",
        "    'Фантастика': URIRef(path + 'Fantastika'),\n",
        "    'Исторический роман': URIRef(path + 'Istoricheskiy_roman'),\n",
        "    'Молодежная проза': URIRef(path + 'Molodejnaya_proza'),\n",
        "    'Попаданцы': URIRef(path + 'Popadancy'),\n",
        "    'Женский роман': URIRef(path + 'Jenskaya_proza'),\n",
        "    'Фанфик': URIRef(path + 'Fanfik'),\n",
        "    'Детективы': URIRef(path + 'Detektivy'),\n",
        "    'Проза': URIRef(path + 'Proza'),\n",
        "    'Боевик': URIRef(path + 'Boevik'),\n",
        "    'Триллеры': URIRef(path + 'Trillery'),\n",
        "    'Мистика/Ужасы': URIRef(path + 'Mistikaujasy'),\n",
        "    'Разное': URIRef(path + 'Raznoe'),\n",
        "}"
      ],
      "execution_count": null,
      "outputs": []
    },
    {
      "cell_type": "markdown",
      "metadata": {
        "id": "73N0LPqTwhZT"
      },
      "source": [
        "# Object Property"
      ]
    },
    {
      "cell_type": "code",
      "metadata": {
        "id": "gWdP1vGewkL2"
      },
      "source": [
        "# Object Property\n",
        "HAS_STATUS = URIRef(path + 'hasStatus')\n",
        "HAS_AUTHOR = URIRef(path + 'hasAuthor')\n",
        "HAS_GENRE = URIRef(path + 'hasGenre')\n",
        "HAS_TAGS = URIRef(path + 'hasTags')"
      ],
      "execution_count": null,
      "outputs": []
    },
    {
      "cell_type": "markdown",
      "metadata": {
        "id": "IWBnB2-Jwosm"
      },
      "source": [
        "# Data Property"
      ]
    },
    {
      "cell_type": "code",
      "metadata": {
        "id": "60a5-aFbwkld"
      },
      "source": [
        "# Data Property\n",
        "HAS_RATE = URIRef(path + 'hasRate')\n",
        "HAS_FAVORITES = URIRef(path + 'hasFavorites')\n",
        "HAS_VIEWS = URIRef(path + 'hasViews')\n",
        "HAS_NAME_AUTHOR = URIRef(path + 'hasNameAuthor')\n",
        "HAS_NAME_BOOK = URIRef(path + 'hasNameBook')\n",
        "HAS_NAME_GENRE = URIRef(path + 'hasNameGenre')\n",
        "HAS_NAME_TAG = URIRef(path + 'hasNameTag')\n",
        "HAS_URL_BOOK = URIRef(path + 'hasURLBook')\n",
        "HAS_URL_AUTHOR = URIRef(path + 'hasURLAuthor')\n",
        "HAS_NUMBER_OF_PAGES = URIRef(path + 'hasNumberOfPages')\n",
        "HAS_DESCRIPTION = URIRef(path + 'hasDescription')\n",
        "HAS_DATE_OF_PUBLICATION = URIRef(path + 'hasDateOfPublication')"
      ],
      "execution_count": null,
      "outputs": []
    },
    {
      "cell_type": "markdown",
      "metadata": {
        "id": "oEXx5Am5wvQq"
      },
      "source": [
        "# Loads data"
      ]
    },
    {
      "cell_type": "markdown",
      "metadata": {
        "id": "nV6A8A4Iwyy6"
      },
      "source": [
        "## Get data from JSON file\n"
      ]
    },
    {
      "cell_type": "code",
      "metadata": {
        "colab": {
          "base_uri": "https://localhost:8080/"
        },
        "id": "v7kUABBHwtZ4",
        "outputId": "757cc7b0-b43e-4fc7-91df-c4102ed90ab3"
      },
      "source": [
        "import json\n",
        "\n",
        "def get_data_json(path: str):\n",
        "  with open(path, 'r') as f:\n",
        "    data = json.load(f)\n",
        "    return data\n",
        "\n",
        "data = get_data_json('data_small.json')\n",
        "len(data)"
      ],
      "execution_count": null,
      "outputs": [
        {
          "output_type": "execute_result",
          "data": {
            "text/plain": [
              "15"
            ]
          },
          "metadata": {
            "tags": []
          },
          "execution_count": 33
        }
      ]
    },
    {
      "cell_type": "markdown",
      "metadata": {
        "id": "Xl7Ad_Vew9OO"
      },
      "source": [
        "## Add data in graph"
      ]
    },
    {
      "cell_type": "code",
      "metadata": {
        "id": "gsofKuJaw29b"
      },
      "source": [
        "from rdflib import Literal, XSD, DCTERMS\n",
        "import re\n",
        "\n",
        "def replace_space(text):\n",
        "  text = re.findall(r'[\\w]+', text)\n",
        "  return '_'.join(text).rstrip()\n",
        "\n",
        "\n",
        "def add_author(authors: list, book_uri):\n",
        "  for author in authors:\n",
        "    author_name = URIRef(path + replace_space(author['author_name']))\n",
        "\n",
        "    graph.add((author_name, RDF.type, AUTHOR))\n",
        "    graph.add((author_name, HAS_NAME_AUTHOR, Literal(author['author_name'], datatype=XSD.string)))\n",
        "    graph.add((author_name, HAS_URL_AUTHOR, Literal(author['author_page'])))\n",
        "    graph.add((author_name, HAS_AUTHOR, book_uri))\n",
        "\n",
        "\n",
        "def add_genre(genre: str, book_uri):\n",
        "  graph.add((book_uri, RDF.type, NAME_GENRES[genre]))\n",
        "  graph.add((book_uri, HAS_GENRE, NAME_GENRES[genre]))\n",
        "  graph.add((NAME_GENRES[genre], HAS_NAME_GENRE, Literal(genre, datatype=XSD.string)))\n",
        "\n",
        "\n",
        "def add_views(views: int, book_uri):\n",
        "  graph.add((book_uri, HAS_VIEWS, Literal(views, datatype=XSD.integer)))\n",
        "\n",
        "\n",
        "def add_number_pages(cnt_page: int, book_uri):\n",
        "  graph.add((book_uri, HAS_NUMBER_OF_PAGES, Literal(cnt_page, datatype=XSD.integer)))\n",
        "\n",
        "\n",
        "def add_favorites(favorites: int, book_uri):\n",
        "  graph.add((book_uri, HAS_FAVORITES, Literal(favorites, datatype=XSD.integer)))\n",
        "\n",
        "\n",
        "def add_description(desc: str, book_uri):\n",
        "  graph.add((book_uri, HAS_DESCRIPTION, Literal(desc, datatype=XSD.string)))\n",
        "\n",
        "\n",
        "def add_status(rate: int, book_uri):\n",
        "    graph.add((book_uri, HAS_RATE, Literal(rate, datatype=XSD.integer)))\n",
        "    graph.add((book_uri, RDF.type, STATUS))\n",
        "\n",
        "\n",
        "\n",
        "def add_book_tags(tags: list, book_uri):\n",
        "  for tag_name in tags:\n",
        "    tag = URIRef(path + replace_space(tag_name))\n",
        "    graph.add((tag, RDF.type, TAGS))\n",
        "    graph.add((tag, HAS_NAME_TAG, Literal(tag_name, datatype=XSD.string)))\n",
        "    graph.add((tag, HAS_TAGS, book_uri))\n",
        "\n",
        "\n",
        "def add_book(book: dict):\n",
        "  book_uri = URIRef(path + replace_space(book['title']))\n",
        "\n",
        "  if book['type_book'] == 'Entertainment_book':\n",
        "    graph.add((book_uri, RDF.type, ENTERTAIMENT_BOOK))\n",
        "  else:\n",
        "    graph.add((book_uri, RDF.type, EDUCATIONAL_BOOK))\n",
        "\n",
        "  graph.add((book_uri, HAS_NAME_BOOK, Literal(book['title'], datatype=XSD.string)))\n",
        "  graph.add((book_uri, HAS_URL_BOOK, Literal(book['book_url'], datatype=XSD.string)))\n",
        "\n",
        "  add_status(book['rating'], book_uri)\n",
        "  add_number_pages(book['number_pages'], book_uri)\n",
        "  add_author(book['author'], book_uri)\n",
        "  add_book_tags(book['book_tags'], book_uri)\n",
        "  add_genre(book['genre'], book_uri)\n",
        "  add_views(book['views'], book_uri)\n",
        "  add_favorites(book['favourites'], book_uri)\n",
        "  add_description(book['description'], book_uri)\n"
      ],
      "execution_count": null,
      "outputs": []
    },
    {
      "cell_type": "code",
      "metadata": {
        "id": "7xBWtpePxB-B"
      },
      "source": [
        "for el in data:\n",
        "  add_book(el)"
      ],
      "execution_count": null,
      "outputs": []
    },
    {
      "cell_type": "markdown",
      "metadata": {
        "id": "MP1r0etE7nL3"
      },
      "source": [
        "## Save data in .owl file"
      ]
    },
    {
      "cell_type": "code",
      "metadata": {
        "id": "6K8qfRP6xESD"
      },
      "source": [
        "graph.serialize(\"book_ontology.rdf\", format=\"application/rdf+xml\")"
      ],
      "execution_count": null,
      "outputs": []
    },
    {
      "cell_type": "markdown",
      "metadata": {
        "id": "zCZQKad0hTVZ"
      },
      "source": [
        "# Query in ontology"
      ]
    },
    {
      "cell_type": "code",
      "metadata": {
        "colab": {
          "base_uri": "https://localhost:8080/"
        },
        "id": "hTjUTqn7XGvz",
        "outputId": "c65c96e7-4898-41ec-d4b2-af50530372fc"
      },
      "source": [
        "# Топ 10 популярных книг \n",
        "qv1= graph.query(\"\"\"\n",
        "  PREFIX rdf: <http://www.w3.org/1999/02/22-rdf-syntax-ns#>\n",
        "  PREFIX owl: <http://www.w3.org/2002/07/owl#>\n",
        "  PREFIX rdfs: <http://www.w3.org/2000/01/rdf-schema#>\n",
        "  PREFIX xsd: <http://www.w3.org/2001/XMLSchema#>\n",
        "  PREFIX path: <http://www.semanticweb.org/vasilii/ontologies/2021/3/book_onto#>\n",
        "  SELECT ?y ?r\n",
        "    WHERE {\n",
        "      ?b rdf:type path:Entertainment_book .\n",
        "      ?b path:hasRate ?r .\n",
        "      ?b path:hasNameBook ?y\n",
        "      FILTER (?r > 20000)\n",
        "    } LIMIT 10\n",
        "\"\"\")\n",
        "for row in qv1:\n",
        "    print(\"%s %s\" % row)"
      ],
      "execution_count": null,
      "outputs": [
        {
          "output_type": "stream",
          "text": [
            "Невеста из другого мира 2. Свет Полуночи 27945\n",
            "Смертельный способ выйти замуж 24211\n",
            "Отчаянная помощница для смутьяна 27024\n",
            "Попаданка в Академии драконов 20825\n",
            "Маленькое чудо для злодея 28704\n",
            "Зачем я ему? 27010\n",
            "Невеста из другого мира 23015\n",
            "Пленница лунного эльфа 24915\n",
            "Адвокат Зверя 23601\n",
            "Искажающие реальность-2 20534\n"
          ],
          "name": "stdout"
        }
      ]
    },
    {
      "cell_type": "code",
      "metadata": {
        "colab": {
          "base_uri": "https://localhost:8080/"
        },
        "id": "HE8BVzJyYZzg",
        "outputId": "0fa6e6f6-fd05-4b2b-a125-020c904f1053"
      },
      "source": [
        "# У каких книг жанра X количество просмотров превышает Y?\n",
        "qv2= graph.query(\"\"\"\n",
        "  PREFIX rdf: <http://www.w3.org/1999/02/22-rdf-syntax-ns#>\n",
        "  PREFIX owl: <http://www.w3.org/2002/07/owl#>\n",
        "  PREFIX rdfs: <http://www.w3.org/2000/01/rdf-schema#>\n",
        "  PREFIX xsd: <http://www.w3.org/2001/XMLSchema#>\n",
        "  PREFIX path: <http://www.semanticweb.org/vasilii/ontologies/2021/3/book_onto#>\n",
        "  SELECT ?y ?v\n",
        "  WHERE {\n",
        "    ?b rdf:type path:Entertainment_book .\n",
        "    ?b path:hasGenre path:Boevik .\n",
        "    ?b path:hasViews ?v . \n",
        "    ?b path:hasNameBook ?y\n",
        "    FILTER (?v > 500000)\n",
        "  }\"\"\")\n",
        "for row in qv2:\n",
        "    print(\"%s %s\" % row)"
      ],
      "execution_count": null,
      "outputs": [
        {
          "output_type": "stream",
          "text": [
            "Новое Начало. Книга Вторая 502248\n",
            "Задача выжить 725034\n",
            "Новое Начало. Книга Первая 792966\n",
            "Серый кукловод. Часть 1 712620\n"
          ],
          "name": "stdout"
        }
      ]
    },
    {
      "cell_type": "code",
      "metadata": {
        "colab": {
          "base_uri": "https://localhost:8080/"
        },
        "id": "JJc-Ef7X1r2C",
        "outputId": "ac9db279-61ee-41b1-f138-521e6d9a2897"
      },
      "source": [
        "# Наиболее часто добавляемые книги в библиотеку жанра боевик?\n",
        "qv3= graph.query(\"\"\"\n",
        "  PREFIX rdf: <http://www.w3.org/1999/02/22-rdf-syntax-ns#>\n",
        "  PREFIX owl: <http://www.w3.org/2002/07/owl#>\n",
        "  PREFIX rdfs: <http://www.w3.org/2000/01/rdf-schema#>\n",
        "  PREFIX xsd: <http://www.w3.org/2001/XMLSchema#>\n",
        "  PREFIX path: <http://www.semanticweb.org/vasilii/ontologies/2021/3/book_onto#>\n",
        "  SELECT ?y ?f\n",
        "  WHERE {\n",
        "    ?b rdf:type path:Entertainment_book .\n",
        "    ?b path:hasGenre path:Boevik .\n",
        "    ?b path:hasFavorites ?f . \n",
        "    ?b path:hasNameBook ?y\n",
        "  }\n",
        "  ORDER BY DESC(?f)\n",
        "  LIMIT 10\n",
        "  \"\"\")\n",
        "for row in qv3:\n",
        "    print(\"%s %s\" % row)"
      ],
      "execution_count": null,
      "outputs": [
        {
          "output_type": "stream",
          "text": [
            "Поварёшка 13040\n",
            "Новое Начало. Книга Первая 11300\n",
            "Серый кукловод. Часть 1 9534\n",
            "Новое Начало. Книга Вторая 8835\n",
            "Новое Начало. Книга Третья 7507\n",
            "Колонизация 6469\n",
            "Механист 5622\n",
            "Задача выжить 4462\n",
            "Арсанты. Дети богов. 4067\n",
            "Падший 3629\n"
          ],
          "name": "stdout"
        }
      ]
    },
    {
      "cell_type": "code",
      "metadata": {
        "id": "J52DNmWhxDmU"
      },
      "source": [
        "# Какие книги статуса X чаще все добавляют в свою коллекцию?\n",
        "qv4= graph.query(\"\"\"\n",
        "  PREFIX rdf: <http://www.w3.org/1999/02/22-rdf-syntax-ns#>\n",
        "  PREFIX owl: <http://www.w3.org/2002/07/owl#>\n",
        "  PREFIX rdfs: <http://www.w3.org/2000/01/rdf-schema#>\n",
        "  PREFIX xsd: <http://www.w3.org/2001/XMLSchema#>\n",
        "  PREFIX path: <http://www.semanticweb.org/vasilii/ontologies/2021/3/book_onto#>\n",
        "  SELECT ?y ?f\n",
        "  WHERE {\n",
        "    ?b rdf:type path:Entertainment_book .\n",
        "    ?b rdf:type path:Good .\n",
        "    ?b path:hasFavorites ?f . \n",
        "    ?b path:hasNameBook ?y\n",
        "  } \n",
        "  ORDER BY DESC(?f)\n",
        "  LIMIT 10\n",
        "  \"\"\")\n",
        "\n",
        "for row in qv4:\n",
        "    print(\"%s %s\" % row)"
      ],
      "execution_count": null,
      "outputs": []
    },
    {
      "cell_type": "markdown",
      "metadata": {
        "id": "84s5J5TvxrGE"
      },
      "source": [
        "# Generate documentation"
      ]
    },
    {
      "cell_type": "code",
      "metadata": {
        "colab": {
          "base_uri": "https://localhost:8080/"
        },
        "id": "WBUop3k4uAr_",
        "outputId": "f27e93e9-7a17-4151-d2f7-a2b0a78df4aa"
      },
      "source": [
        "!pip install pylode"
      ],
      "execution_count": null,
      "outputs": [
        {
          "output_type": "stream",
          "text": [
            "Collecting pylode\n",
            "\u001b[?25l  Downloading https://files.pythonhosted.org/packages/4e/df/97be1bb7693bab6505004fe9fde0cabfaf9b38ec89f1eb60187cd34d88ff/pyLODE-2.9.2-py2.py3-none-any.whl (134kB)\n",
            "\u001b[K     |████████████████████████████████| 143kB 6.6MB/s \n",
            "\u001b[?25hCollecting rdflib-jsonld>=0.5.0\n",
            "\u001b[?25l  Downloading https://files.pythonhosted.org/packages/f5/17/45e137be0d93b70827fe5529c0400731344a978bc792193d7d9152e6dbe4/rdflib-jsonld-0.5.0.tar.gz (55kB)\n",
            "\u001b[K     |████████████████████████████████| 61kB 5.2MB/s \n",
            "\u001b[?25hRequirement already satisfied: markdown in /usr/local/lib/python3.7/dist-packages (from pylode) (3.3.4)\n",
            "Requirement already satisfied: jinja2 in /usr/local/lib/python3.7/dist-packages (from pylode) (2.11.3)\n",
            "Requirement already satisfied: requests in /usr/local/lib/python3.7/dist-packages (from pylode) (2.23.0)\n",
            "Requirement already satisfied: rdflib>=5.0.0 in /usr/local/lib/python3.7/dist-packages (from pylode) (5.0.0)\n",
            "Requirement already satisfied: importlib-metadata; python_version < \"3.8\" in /usr/local/lib/python3.7/dist-packages (from markdown->pylode) (4.0.1)\n",
            "Requirement already satisfied: MarkupSafe>=0.23 in /usr/local/lib/python3.7/dist-packages (from jinja2->pylode) (2.0.0)\n",
            "Requirement already satisfied: idna<3,>=2.5 in /usr/local/lib/python3.7/dist-packages (from requests->pylode) (2.10)\n",
            "Requirement already satisfied: urllib3!=1.25.0,!=1.25.1,<1.26,>=1.21.1 in /usr/local/lib/python3.7/dist-packages (from requests->pylode) (1.24.3)\n",
            "Requirement already satisfied: chardet<4,>=3.0.2 in /usr/local/lib/python3.7/dist-packages (from requests->pylode) (3.0.4)\n",
            "Requirement already satisfied: certifi>=2017.4.17 in /usr/local/lib/python3.7/dist-packages (from requests->pylode) (2020.12.5)\n",
            "Requirement already satisfied: isodate in /usr/local/lib/python3.7/dist-packages (from rdflib>=5.0.0->pylode) (0.6.0)\n",
            "Requirement already satisfied: six in /usr/local/lib/python3.7/dist-packages (from rdflib>=5.0.0->pylode) (1.15.0)\n",
            "Requirement already satisfied: pyparsing in /usr/local/lib/python3.7/dist-packages (from rdflib>=5.0.0->pylode) (2.4.7)\n",
            "Requirement already satisfied: typing-extensions>=3.6.4; python_version < \"3.8\" in /usr/local/lib/python3.7/dist-packages (from importlib-metadata; python_version < \"3.8\"->markdown->pylode) (3.7.4.3)\n",
            "Requirement already satisfied: zipp>=0.5 in /usr/local/lib/python3.7/dist-packages (from importlib-metadata; python_version < \"3.8\"->markdown->pylode) (3.4.1)\n",
            "Building wheels for collected packages: rdflib-jsonld\n",
            "  Building wheel for rdflib-jsonld (setup.py) ... \u001b[?25l\u001b[?25hdone\n",
            "  Created wheel for rdflib-jsonld: filename=rdflib_jsonld-0.5.0-py2.py3-none-any.whl size=15348 sha256=8cd8bb18537239d789fc3976303ba5f37829a719eeaf12f0d3ce40884f98e3a6\n",
            "  Stored in directory: /root/.cache/pip/wheels/8d/e4/7f/9ebcb3e400c694e645c3adba40ef3e9bda78384ac3b9b0d13d\n",
            "Successfully built rdflib-jsonld\n",
            "Installing collected packages: rdflib-jsonld, pylode\n",
            "Successfully installed pylode-2.9.2 rdflib-jsonld-0.5.0\n"
          ],
          "name": "stdout"
        }
      ]
    },
    {
      "cell_type": "code",
      "metadata": {
        "id": "TMF7y4biNBs8"
      },
      "source": [
        "import pylode\n",
        "\n",
        "html = pylode.MakeDocco(input_data_file='book_onto3.owl', outputformat=\"html\").document()\n",
        "\n",
        "f = open('doc.html', 'w')\n",
        "f.write(html)\n",
        "f.close()"
      ],
      "execution_count": null,
      "outputs": []
    },
    {
      "cell_type": "markdown",
      "metadata": {
        "id": "3SrivQ7wZv38"
      },
      "source": [
        "# VOID"
      ]
    },
    {
      "cell_type": "code",
      "metadata": {
        "colab": {
          "base_uri": "https://localhost:8080/"
        },
        "id": "Z2C9xsHtu4GR",
        "outputId": "57961b7c-ff2e-497f-a249-cfc8ff1c181f"
      },
      "source": [
        "from rdflib.void import generateVoID\n",
        "\n",
        "prefix = dict(graph.namespaces())['']\n",
        "\n",
        "graph.add((prefix, DCTERMS.title, Literal('Selection of books')))\n",
        "graph.add((prefix, DCTERMS.publisher, Literal('Kuryshev Vasilii')))\n",
        "\n",
        "void_graph, _ = generateVoID(graph)\n",
        "print(void_graph.serialize(format='turtle').decode('utf-8'))"
      ],
      "execution_count": null,
      "outputs": [
        {
          "output_type": "stream",
          "text": [
            "@prefix ns1: <http://rdfs.org/ns/void#> .\n",
            "@prefix rdf: <http://www.w3.org/1999/02/22-rdf-syntax-ns#> .\n",
            "@prefix rdfs: <http://www.w3.org/2000/01/rdf-schema#> .\n",
            "@prefix xsd: <http://www.w3.org/2001/XMLSchema#> .\n",
            "\n",
            "<http://example.org/Dataset> a ns1:Dataset ;\n",
            "    ns1:classPartition <http://example.org/Dataset_class0>,\n",
            "        <http://example.org/Dataset_class1>,\n",
            "        <http://example.org/Dataset_class10>,\n",
            "        <http://example.org/Dataset_class11>,\n",
            "        <http://example.org/Dataset_class12>,\n",
            "        <http://example.org/Dataset_class13>,\n",
            "        <http://example.org/Dataset_class14>,\n",
            "        <http://example.org/Dataset_class15>,\n",
            "        <http://example.org/Dataset_class16>,\n",
            "        <http://example.org/Dataset_class17>,\n",
            "        <http://example.org/Dataset_class18>,\n",
            "        <http://example.org/Dataset_class19>,\n",
            "        <http://example.org/Dataset_class2>,\n",
            "        <http://example.org/Dataset_class20>,\n",
            "        <http://example.org/Dataset_class21>,\n",
            "        <http://example.org/Dataset_class22>,\n",
            "        <http://example.org/Dataset_class23>,\n",
            "        <http://example.org/Dataset_class24>,\n",
            "        <http://example.org/Dataset_class3>,\n",
            "        <http://example.org/Dataset_class4>,\n",
            "        <http://example.org/Dataset_class5>,\n",
            "        <http://example.org/Dataset_class6>,\n",
            "        <http://example.org/Dataset_class7>,\n",
            "        <http://example.org/Dataset_class8>,\n",
            "        <http://example.org/Dataset_class9> ;\n",
            "    ns1:classes 25 ;\n",
            "    ns1:distinctObjects 18690 ;\n",
            "    ns1:distinctSubjects 5639 ;\n",
            "    ns1:properties 34 ;\n",
            "    ns1:propertyPartition <http://example.org/Dataset_property0>,\n",
            "        <http://example.org/Dataset_property1>,\n",
            "        <http://example.org/Dataset_property10>,\n",
            "        <http://example.org/Dataset_property11>,\n",
            "        <http://example.org/Dataset_property12>,\n",
            "        <http://example.org/Dataset_property13>,\n",
            "        <http://example.org/Dataset_property14>,\n",
            "        <http://example.org/Dataset_property15>,\n",
            "        <http://example.org/Dataset_property16>,\n",
            "        <http://example.org/Dataset_property17>,\n",
            "        <http://example.org/Dataset_property18>,\n",
            "        <http://example.org/Dataset_property19>,\n",
            "        <http://example.org/Dataset_property2>,\n",
            "        <http://example.org/Dataset_property20>,\n",
            "        <http://example.org/Dataset_property21>,\n",
            "        <http://example.org/Dataset_property22>,\n",
            "        <http://example.org/Dataset_property23>,\n",
            "        <http://example.org/Dataset_property24>,\n",
            "        <http://example.org/Dataset_property25>,\n",
            "        <http://example.org/Dataset_property26>,\n",
            "        <http://example.org/Dataset_property27>,\n",
            "        <http://example.org/Dataset_property28>,\n",
            "        <http://example.org/Dataset_property29>,\n",
            "        <http://example.org/Dataset_property3>,\n",
            "        <http://example.org/Dataset_property30>,\n",
            "        <http://example.org/Dataset_property31>,\n",
            "        <http://example.org/Dataset_property32>,\n",
            "        <http://example.org/Dataset_property33>,\n",
            "        <http://example.org/Dataset_property4>,\n",
            "        <http://example.org/Dataset_property5>,\n",
            "        <http://example.org/Dataset_property6>,\n",
            "        <http://example.org/Dataset_property7>,\n",
            "        <http://example.org/Dataset_property8>,\n",
            "        <http://example.org/Dataset_property9> ;\n",
            "    ns1:triples 42744 .\n",
            "\n",
            "<http://example.org/Dataset_class0> a ns1:Dataset ;\n",
            "    ns1:class <http://www.semanticweb.org/vasilii/ontologies/2021/3/book_onto#Tags> ;\n",
            "    ns1:classes 1 ;\n",
            "    ns1:distinctObjects 4447 ;\n",
            "    ns1:distinctSubjects 2151 ;\n",
            "    ns1:entities 2151 ;\n",
            "    ns1:properties 3 ;\n",
            "    ns1:triples 10820 .\n",
            "\n",
            "<http://example.org/Dataset_class1> a ns1:Dataset ;\n",
            "    ns1:class <http://www.semanticweb.org/vasilii/ontologies/2021/3/book_onto#Author> ;\n",
            "    ns1:classes 1 ;\n",
            "    ns1:distinctObjects 4656 ;\n",
            "    ns1:distinctSubjects 1224 ;\n",
            "    ns1:entities 1224 ;\n",
            "    ns1:properties 4 ;\n",
            "    ns1:triples 5962 .\n",
            "\n",
            "<http://example.org/Dataset_class10> a ns1:Dataset ;\n",
            "    ns1:class <http://www.w3.org/2002/07/owl#Restriction> ;\n",
            "    ns1:classes 1 ;\n",
            "    ns1:distinctObjects 5 ;\n",
            "    ns1:distinctSubjects 3 ;\n",
            "    ns1:entities 3 ;\n",
            "    ns1:properties 3 ;\n",
            "    ns1:triples 9 .\n",
            "\n",
            "<http://example.org/Dataset_class11> a ns1:Dataset ;\n",
            "    ns1:class <http://www.semanticweb.org/vasilii/ontologies/2021/3/book_onto#Fentezi> ;\n",
            "    ns1:classes 1 ;\n",
            "    ns1:distinctObjects 1346 ;\n",
            "    ns1:distinctSubjects 180 ;\n",
            "    ns1:entities 180 ;\n",
            "    ns1:properties 9 ;\n",
            "    ns1:triples 2291 .\n",
            "\n",
            "<http://example.org/Dataset_class12> a ns1:Dataset ;\n",
            "    ns1:class <http://www.semanticweb.org/vasilii/ontologies/2021/3/book_onto#Lyubovnye_romany> ;\n",
            "    ns1:classes 1 ;\n",
            "    ns1:distinctObjects 1424 ;\n",
            "    ns1:distinctSubjects 180 ;\n",
            "    ns1:entities 180 ;\n",
            "    ns1:properties 9 ;\n",
            "    ns1:triples 2442 .\n",
            "\n",
            "<http://example.org/Dataset_class13> a ns1:Dataset ;\n",
            "    ns1:class <http://www.semanticweb.org/vasilii/ontologies/2021/3/book_onto#Proza> ;\n",
            "    ns1:classes 1 ;\n",
            "    ns1:distinctObjects 1429 ;\n",
            "    ns1:distinctSubjects 180 ;\n",
            "    ns1:entities 180 ;\n",
            "    ns1:properties 9 ;\n",
            "    ns1:triples 2594 .\n",
            "\n",
            "<http://example.org/Dataset_class14> a ns1:Dataset ;\n",
            "    ns1:class <http://www.semanticweb.org/vasilii/ontologies/2021/3/book_onto#Litrpg> ;\n",
            "    ns1:classes 1 ;\n",
            "    ns1:distinctObjects 1235 ;\n",
            "    ns1:distinctSubjects 180 ;\n",
            "    ns1:entities 180 ;\n",
            "    ns1:properties 9 ;\n",
            "    ns1:triples 2210 .\n",
            "\n",
            "<http://example.org/Dataset_class15> a ns1:Dataset ;\n",
            "    ns1:class <http://www.semanticweb.org/vasilii/ontologies/2021/3/book_onto#Detektivy> ;\n",
            "    ns1:classes 1 ;\n",
            "    ns1:distinctObjects 1235 ;\n",
            "    ns1:distinctSubjects 180 ;\n",
            "    ns1:entities 180 ;\n",
            "    ns1:properties 9 ;\n",
            "    ns1:triples 2040 .\n",
            "\n",
            "<http://example.org/Dataset_class16> a ns1:Dataset ;\n",
            "    ns1:class <http://www.semanticweb.org/vasilii/ontologies/2021/3/book_onto#Popadancy> ;\n",
            "    ns1:classes 1 ;\n",
            "    ns1:distinctObjects 1334 ;\n",
            "    ns1:distinctSubjects 180 ;\n",
            "    ns1:entities 180 ;\n",
            "    ns1:properties 9 ;\n",
            "    ns1:triples 2240 .\n",
            "\n",
            "<http://example.org/Dataset_class17> a ns1:Dataset ;\n",
            "    ns1:class <http://www.semanticweb.org/vasilii/ontologies/2021/3/book_onto#Trillery> ;\n",
            "    ns1:classes 1 ;\n",
            "    ns1:distinctObjects 849 ;\n",
            "    ns1:distinctSubjects 180 ;\n",
            "    ns1:entities 180 ;\n",
            "    ns1:properties 9 ;\n",
            "    ns1:triples 2016 .\n",
            "\n",
            "<http://example.org/Dataset_class18> a ns1:Dataset ;\n",
            "    ns1:class <http://www.semanticweb.org/vasilii/ontologies/2021/3/book_onto#Istoricheskiy_roman> ;\n",
            "    ns1:classes 1 ;\n",
            "    ns1:distinctObjects 1089 ;\n",
            "    ns1:distinctSubjects 178 ;\n",
            "    ns1:entities 178 ;\n",
            "    ns1:properties 9 ;\n",
            "    ns1:triples 2011 .\n",
            "\n",
            "<http://example.org/Dataset_class19> a ns1:Dataset ;\n",
            "    ns1:class <http://www.w3.org/2002/07/owl#ObjectProperty> ;\n",
            "    ns1:classes 1 ;\n",
            "    ns1:distinctObjects 7 ;\n",
            "    ns1:distinctSubjects 4 ;\n",
            "    ns1:entities 4 ;\n",
            "    ns1:properties 4 ;\n",
            "    ns1:triples 16 .\n",
            "\n",
            "<http://example.org/Dataset_class2> a ns1:Dataset ;\n",
            "    ns1:class <http://www.semanticweb.org/vasilii/ontologies/2021/3/book_onto#Status> ;\n",
            "    ns1:classes 1 ;\n",
            "    ns1:distinctObjects 11734 ;\n",
            "    ns1:distinctSubjects 2207 ;\n",
            "    ns1:entities 2207 ;\n",
            "    ns1:properties 9 ;\n",
            "    ns1:triples 25789 .\n",
            "\n",
            "<http://example.org/Dataset_class20> a ns1:Dataset ;\n",
            "    ns1:class <http://www.w3.org/2002/07/owl#Class> ;\n",
            "    ns1:classes 1 ;\n",
            "    ns1:distinctObjects 34 ;\n",
            "    ns1:distinctSubjects 25 ;\n",
            "    ns1:entities 25 ;\n",
            "    ns1:properties 6 ;\n",
            "    ns1:triples 75 .\n",
            "\n",
            "<http://example.org/Dataset_class21> a ns1:Dataset ;\n",
            "    ns1:class <http://www.semanticweb.org/vasilii/ontologies/2021/3/book_onto#Raznoe> ;\n",
            "    ns1:classes 1 ;\n",
            "    ns1:distinctObjects 1236 ;\n",
            "    ns1:distinctSubjects 180 ;\n",
            "    ns1:entities 180 ;\n",
            "    ns1:properties 9 ;\n",
            "    ns1:triples 2077 .\n",
            "\n",
            "<http://example.org/Dataset_class22> a ns1:Dataset ;\n",
            "    ns1:class rdfs:Datatype ;\n",
            "    ns1:classes 1 ;\n",
            "    ns1:distinctObjects 5 ;\n",
            "    ns1:distinctSubjects 3 ;\n",
            "    ns1:entities 3 ;\n",
            "    ns1:properties 3 ;\n",
            "    ns1:triples 9 .\n",
            "\n",
            "<http://example.org/Dataset_class23> a ns1:Dataset ;\n",
            "    ns1:class <http://www.w3.org/2002/07/owl#DatatypeProperty> ;\n",
            "    ns1:classes 1 ;\n",
            "    ns1:distinctObjects 9 ;\n",
            "    ns1:distinctSubjects 11 ;\n",
            "    ns1:entities 11 ;\n",
            "    ns1:properties 4 ;\n",
            "    ns1:triples 48 .\n",
            "\n",
            "<http://example.org/Dataset_class24> a ns1:Dataset ;\n",
            "    ns1:class <http://www.w3.org/2002/07/owl#Ontology> ;\n",
            "    ns1:classes 1 ;\n",
            "    ns1:distinctObjects 1 ;\n",
            "    ns1:distinctSubjects 1 ;\n",
            "    ns1:entities 1 ;\n",
            "    ns1:properties 1 ;\n",
            "    ns1:triples 1 .\n",
            "\n",
            "<http://example.org/Dataset_class3> a ns1:Dataset ;\n",
            "    ns1:class <http://www.semanticweb.org/vasilii/ontologies/2021/3/book_onto#Entertainment_book> ;\n",
            "    ns1:classes 1 ;\n",
            "    ns1:distinctObjects 11734 ;\n",
            "    ns1:distinctSubjects 2207 ;\n",
            "    ns1:entities 2207 ;\n",
            "    ns1:properties 9 ;\n",
            "    ns1:triples 25789 .\n",
            "\n",
            "<http://example.org/Dataset_class4> a ns1:Dataset ;\n",
            "    ns1:class <http://www.semanticweb.org/vasilii/ontologies/2021/3/book_onto#Jenskaya_proza> ;\n",
            "    ns1:classes 1 ;\n",
            "    ns1:distinctObjects 1409 ;\n",
            "    ns1:distinctSubjects 180 ;\n",
            "    ns1:entities 180 ;\n",
            "    ns1:properties 9 ;\n",
            "    ns1:triples 2549 .\n",
            "\n",
            "<http://example.org/Dataset_class5> a ns1:Dataset ;\n",
            "    ns1:class <http://www.semanticweb.org/vasilii/ontologies/2021/3/book_onto#Fantastika> ;\n",
            "    ns1:classes 1 ;\n",
            "    ns1:distinctObjects 1259 ;\n",
            "    ns1:distinctSubjects 180 ;\n",
            "    ns1:entities 180 ;\n",
            "    ns1:properties 9 ;\n",
            "    ns1:triples 2272 .\n",
            "\n",
            "<http://example.org/Dataset_class6> a ns1:Dataset ;\n",
            "    ns1:class <http://www.semanticweb.org/vasilii/ontologies/2021/3/book_onto#Mistikaujasy> ;\n",
            "    ns1:classes 1 ;\n",
            "    ns1:distinctObjects 1066 ;\n",
            "    ns1:distinctSubjects 177 ;\n",
            "    ns1:entities 177 ;\n",
            "    ns1:properties 9 ;\n",
            "    ns1:triples 1969 .\n",
            "\n",
            "<http://example.org/Dataset_class7> a ns1:Dataset ;\n",
            "    ns1:class <http://www.semanticweb.org/vasilii/ontologies/2021/3/book_onto#Fanfik> ;\n",
            "    ns1:classes 1 ;\n",
            "    ns1:distinctObjects 1081 ;\n",
            "    ns1:distinctSubjects 179 ;\n",
            "    ns1:entities 179 ;\n",
            "    ns1:properties 9 ;\n",
            "    ns1:triples 1979 .\n",
            "\n",
            "<http://example.org/Dataset_class8> a ns1:Dataset ;\n",
            "    ns1:class <http://www.semanticweb.org/vasilii/ontologies/2021/3/book_onto#Molodejnaya_proza> ;\n",
            "    ns1:classes 1 ;\n",
            "    ns1:distinctObjects 1325 ;\n",
            "    ns1:distinctSubjects 180 ;\n",
            "    ns1:entities 180 ;\n",
            "    ns1:properties 9 ;\n",
            "    ns1:triples 2253 .\n",
            "\n",
            "<http://example.org/Dataset_class9> a ns1:Dataset ;\n",
            "    ns1:class <http://www.semanticweb.org/vasilii/ontologies/2021/3/book_onto#Boevik> ;\n",
            "    ns1:classes 1 ;\n",
            "    ns1:distinctObjects 978 ;\n",
            "    ns1:distinctSubjects 174 ;\n",
            "    ns1:entities 174 ;\n",
            "    ns1:properties 9 ;\n",
            "    ns1:triples 1992 .\n",
            "\n",
            "<http://example.org/Dataset_property0> a ns1:Dataset ;\n",
            "    ns1:classes 1 ;\n",
            "    ns1:distinctObjects 2239 ;\n",
            "    ns1:distinctSubjects 2151 ;\n",
            "    ns1:entities 2151 ;\n",
            "    ns1:properties 1 ;\n",
            "    ns1:property <http://www.semanticweb.org/vasilii/ontologies/2021/3/book_onto#hasNameTag> ;\n",
            "    ns1:triples 2239 .\n",
            "\n",
            "<http://example.org/Dataset_property1> a ns1:Dataset ;\n",
            "    ns1:classes 1 ;\n",
            "    ns1:distinctObjects 1224 ;\n",
            "    ns1:distinctSubjects 1224 ;\n",
            "    ns1:entities 1224 ;\n",
            "    ns1:properties 1 ;\n",
            "    ns1:property <http://www.semanticweb.org/vasilii/ontologies/2021/3/book_onto#hasNameAuthor> ;\n",
            "    ns1:triples 1224 .\n",
            "\n",
            "<http://example.org/Dataset_property10> a ns1:Dataset ;\n",
            "    ns1:classes 17 ;\n",
            "    ns1:distinctObjects 2398 ;\n",
            "    ns1:distinctSubjects 2207 ;\n",
            "    ns1:entities 2207 ;\n",
            "    ns1:properties 1 ;\n",
            "    ns1:property <http://www.semanticweb.org/vasilii/ontologies/2021/3/book_onto#hasViews> ;\n",
            "    ns1:triples 2447 .\n",
            "\n",
            "<http://example.org/Dataset_property11> a ns1:Dataset ;\n",
            "    ns1:classes 1 ;\n",
            "    ns1:distinctObjects 3 ;\n",
            "    ns1:distinctSubjects 3 ;\n",
            "    ns1:entities 3 ;\n",
            "    ns1:properties 1 ;\n",
            "    ns1:property <http://www.w3.org/2002/07/owl#someValuesFrom> ;\n",
            "    ns1:triples 3 .\n",
            "\n",
            "<http://example.org/Dataset_property12> a ns1:Dataset ;\n",
            "    ns1:classes 2 ;\n",
            "    ns1:distinctObjects 6 ;\n",
            "    ns1:distinctSubjects 16 ;\n",
            "    ns1:entities 15 ;\n",
            "    ns1:properties 1 ;\n",
            "    ns1:property rdfs:range ;\n",
            "    ns1:triples 16 .\n",
            "\n",
            "<http://example.org/Dataset_property13> a ns1:Dataset ;\n",
            "    ns1:classes 1 ;\n",
            "    ns1:distinctObjects 6 ;\n",
            "    ns1:distinctSubjects 6 ;\n",
            "    ns1:entities 6 ;\n",
            "    ns1:properties 1 ;\n",
            "    ns1:property rdfs:label ;\n",
            "    ns1:triples 6 .\n",
            "\n",
            "<http://example.org/Dataset_property14> a ns1:Dataset ;\n",
            "    ns1:classes 0 ;\n",
            "    ns1:distinctObjects 1 ;\n",
            "    ns1:distinctSubjects 1 ;\n",
            "    ns1:entities 0 ;\n",
            "    ns1:properties 1 ;\n",
            "    ns1:property xsd:maxExclusive ;\n",
            "    ns1:triples 1 .\n",
            "\n",
            "<http://example.org/Dataset_property15> a ns1:Dataset ;\n",
            "    ns1:classes 0 ;\n",
            "    ns1:distinctObjects 1 ;\n",
            "    ns1:distinctSubjects 1 ;\n",
            "    ns1:entities 0 ;\n",
            "    ns1:properties 1 ;\n",
            "    ns1:property xsd:maxInclusive ;\n",
            "    ns1:triples 1 .\n",
            "\n",
            "<http://example.org/Dataset_property16> a ns1:Dataset ;\n",
            "    ns1:classes 2 ;\n",
            "    ns1:distinctObjects 2 ;\n",
            "    ns1:distinctSubjects 12 ;\n",
            "    ns1:entities 12 ;\n",
            "    ns1:properties 1 ;\n",
            "    ns1:property rdfs:subPropertyOf ;\n",
            "    ns1:triples 12 .\n",
            "\n",
            "<http://example.org/Dataset_property17> a ns1:Dataset ;\n",
            "    ns1:classes 1 ;\n",
            "    ns1:distinctObjects 6 ;\n",
            "    ns1:distinctSubjects 6 ;\n",
            "    ns1:entities 6 ;\n",
            "    ns1:properties 1 ;\n",
            "    ns1:property rdfs:comment ;\n",
            "    ns1:triples 6 .\n",
            "\n",
            "<http://example.org/Dataset_property18> a ns1:Dataset ;\n",
            "    ns1:classes 0 ;\n",
            "    ns1:distinctObjects 2 ;\n",
            "    ns1:distinctSubjects 4 ;\n",
            "    ns1:entities 0 ;\n",
            "    ns1:properties 1 ;\n",
            "    ns1:property rdf:rest ;\n",
            "    ns1:triples 4 .\n",
            "\n",
            "<http://example.org/Dataset_property19> a ns1:Dataset ;\n",
            "    ns1:classes 1 ;\n",
            "    ns1:distinctObjects 3 ;\n",
            "    ns1:distinctSubjects 3 ;\n",
            "    ns1:entities 3 ;\n",
            "    ns1:properties 1 ;\n",
            "    ns1:property <http://www.w3.org/2002/07/owl#withRestrictions> ;\n",
            "    ns1:triples 3 .\n",
            "\n",
            "<http://example.org/Dataset_property2> a ns1:Dataset ;\n",
            "    ns1:classes 0 ;\n",
            "    ns1:distinctObjects 1 ;\n",
            "    ns1:distinctSubjects 1 ;\n",
            "    ns1:entities 0 ;\n",
            "    ns1:properties 1 ;\n",
            "    ns1:property xsd:minExclusive ;\n",
            "    ns1:triples 1 .\n",
            "\n",
            "<http://example.org/Dataset_property20> a ns1:Dataset ;\n",
            "    ns1:classes 0 ;\n",
            "    ns1:distinctObjects 1 ;\n",
            "    ns1:distinctSubjects 1 ;\n",
            "    ns1:entities 0 ;\n",
            "    ns1:properties 1 ;\n",
            "    ns1:property xsd:minInclusive ;\n",
            "    ns1:triples 1 .\n",
            "\n",
            "<http://example.org/Dataset_property21> a ns1:Dataset ;\n",
            "    ns1:classes 1 ;\n",
            "    ns1:distinctObjects 1 ;\n",
            "    ns1:distinctSubjects 3 ;\n",
            "    ns1:entities 3 ;\n",
            "    ns1:properties 1 ;\n",
            "    ns1:property <http://www.w3.org/2002/07/owl#onDatatype> ;\n",
            "    ns1:triples 3 .\n",
            "\n",
            "<http://example.org/Dataset_property22> a ns1:Dataset ;\n",
            "    ns1:classes 0 ;\n",
            "    ns1:distinctObjects 1 ;\n",
            "    ns1:distinctSubjects 1 ;\n",
            "    ns1:entities 0 ;\n",
            "    ns1:properties 1 ;\n",
            "    ns1:property <http://purl.org/dc/terms/publisher> ;\n",
            "    ns1:triples 1 .\n",
            "\n",
            "<http://example.org/Dataset_property23> a ns1:Dataset ;\n",
            "    ns1:classes 17 ;\n",
            "    ns1:distinctObjects 2220 ;\n",
            "    ns1:distinctSubjects 2207 ;\n",
            "    ns1:entities 2207 ;\n",
            "    ns1:properties 1 ;\n",
            "    ns1:property <http://www.semanticweb.org/vasilii/ontologies/2021/3/book_onto#hasURLBook> ;\n",
            "    ns1:triples 2220 .\n",
            "\n",
            "<http://example.org/Dataset_property24> a ns1:Dataset ;\n",
            "    ns1:classes 0 ;\n",
            "    ns1:distinctObjects 4 ;\n",
            "    ns1:distinctSubjects 4 ;\n",
            "    ns1:entities 4 ;\n",
            "    ns1:properties 1 ;\n",
            "    ns1:property rdf:first ;\n",
            "    ns1:triples 4 .\n",
            "\n",
            "<http://example.org/Dataset_property25> a ns1:Dataset ;\n",
            "    ns1:classes 25 ;\n",
            "    ns1:distinctObjects 25 ;\n",
            "    ns1:distinctSubjects 5629 ;\n",
            "    ns1:entities 5629 ;\n",
            "    ns1:properties 1 ;\n",
            "    ns1:property rdf:type ;\n",
            "    ns1:triples 10524 .\n",
            "\n",
            "<http://example.org/Dataset_property26> a ns1:Dataset ;\n",
            "    ns1:classes 1 ;\n",
            "    ns1:distinctObjects 3 ;\n",
            "    ns1:distinctSubjects 3 ;\n",
            "    ns1:entities 3 ;\n",
            "    ns1:properties 1 ;\n",
            "    ns1:property <http://www.w3.org/2002/07/owl#equivalentClass> ;\n",
            "    ns1:triples 3 .\n",
            "\n",
            "<http://example.org/Dataset_property27> a ns1:Dataset ;\n",
            "    ns1:classes 1 ;\n",
            "    ns1:distinctObjects 2207 ;\n",
            "    ns1:distinctSubjects 1224 ;\n",
            "    ns1:entities 1224 ;\n",
            "    ns1:properties 1 ;\n",
            "    ns1:property <http://www.semanticweb.org/vasilii/ontologies/2021/3/book_onto#hasAuthor> ;\n",
            "    ns1:triples 2290 .\n",
            "\n",
            "<http://example.org/Dataset_property28> a ns1:Dataset ;\n",
            "    ns1:classes 0 ;\n",
            "    ns1:distinctObjects 1 ;\n",
            "    ns1:distinctSubjects 1 ;\n",
            "    ns1:entities 1 ;\n",
            "    ns1:properties 1 ;\n",
            "    ns1:property <http://purl.org/dc/terms/title> ;\n",
            "    ns1:triples 1 .\n",
            "\n",
            "<http://example.org/Dataset_property29> a ns1:Dataset ;\n",
            "    ns1:classes 1 ;\n",
            "    ns1:distinctObjects 1 ;\n",
            "    ns1:distinctSubjects 3 ;\n",
            "    ns1:entities 3 ;\n",
            "    ns1:properties 1 ;\n",
            "    ns1:property <http://www.w3.org/2002/07/owl#onProperty> ;\n",
            "    ns1:triples 3 .\n",
            "\n",
            "<http://example.org/Dataset_property3> a ns1:Dataset ;\n",
            "    ns1:classes 17 ;\n",
            "    ns1:distinctObjects 1685 ;\n",
            "    ns1:distinctSubjects 2207 ;\n",
            "    ns1:entities 2207 ;\n",
            "    ns1:properties 1 ;\n",
            "    ns1:property <http://www.semanticweb.org/vasilii/ontologies/2021/3/book_onto#hasFavorites> ;\n",
            "    ns1:triples 2229 .\n",
            "\n",
            "<http://example.org/Dataset_property30> a ns1:Dataset ;\n",
            "    ns1:classes 1 ;\n",
            "    ns1:distinctObjects 2207 ;\n",
            "    ns1:distinctSubjects 2151 ;\n",
            "    ns1:entities 2151 ;\n",
            "    ns1:properties 1 ;\n",
            "    ns1:property <http://www.semanticweb.org/vasilii/ontologies/2021/3/book_onto#hasTags> ;\n",
            "    ns1:triples 6430 .\n",
            "\n",
            "<http://example.org/Dataset_property31> a ns1:Dataset ;\n",
            "    ns1:classes 2 ;\n",
            "    ns1:distinctObjects 6 ;\n",
            "    ns1:distinctSubjects 15 ;\n",
            "    ns1:entities 15 ;\n",
            "    ns1:properties 1 ;\n",
            "    ns1:property rdfs:domain ;\n",
            "    ns1:triples 22 .\n",
            "\n",
            "<http://example.org/Dataset_property32> a ns1:Dataset ;\n",
            "    ns1:classes 17 ;\n",
            "    ns1:distinctObjects 1440 ;\n",
            "    ns1:distinctSubjects 2207 ;\n",
            "    ns1:entities 2207 ;\n",
            "    ns1:properties 1 ;\n",
            "    ns1:property <http://www.semanticweb.org/vasilii/ontologies/2021/3/book_onto#hasRate> ;\n",
            "    ns1:triples 2225 .\n",
            "\n",
            "<http://example.org/Dataset_property33> a ns1:Dataset ;\n",
            "    ns1:classes 1 ;\n",
            "    ns1:distinctObjects 3 ;\n",
            "    ns1:distinctSubjects 20 ;\n",
            "    ns1:entities 20 ;\n",
            "    ns1:properties 1 ;\n",
            "    ns1:property rdfs:subClassOf ;\n",
            "    ns1:triples 20 .\n",
            "\n",
            "<http://example.org/Dataset_property4> a ns1:Dataset ;\n",
            "    ns1:classes 17 ;\n",
            "    ns1:distinctObjects 2450 ;\n",
            "    ns1:distinctSubjects 2207 ;\n",
            "    ns1:entities 2207 ;\n",
            "    ns1:properties 1 ;\n",
            "    ns1:property <http://www.semanticweb.org/vasilii/ontologies/2021/3/book_onto#hasDescription> ;\n",
            "    ns1:triples 2450 .\n",
            "\n",
            "<http://example.org/Dataset_property5> a ns1:Dataset ;\n",
            "    ns1:classes 17 ;\n",
            "    ns1:distinctObjects 494 ;\n",
            "    ns1:distinctSubjects 2207 ;\n",
            "    ns1:entities 2207 ;\n",
            "    ns1:properties 1 ;\n",
            "    ns1:property <http://www.semanticweb.org/vasilii/ontologies/2021/3/book_onto#hasNumberOfPages> ;\n",
            "    ns1:triples 2220 .\n",
            "\n",
            "<http://example.org/Dataset_property6> a ns1:Dataset ;\n",
            "    ns1:classes 1 ;\n",
            "    ns1:distinctObjects 1224 ;\n",
            "    ns1:distinctSubjects 1224 ;\n",
            "    ns1:entities 1224 ;\n",
            "    ns1:properties 1 ;\n",
            "    ns1:property <http://www.semanticweb.org/vasilii/ontologies/2021/3/book_onto#hasURLAuthor> ;\n",
            "    ns1:triples 1224 .\n",
            "\n",
            "<http://example.org/Dataset_property7> a ns1:Dataset ;\n",
            "    ns1:classes 1 ;\n",
            "    ns1:distinctObjects 15 ;\n",
            "    ns1:distinctSubjects 15 ;\n",
            "    ns1:entities 15 ;\n",
            "    ns1:properties 1 ;\n",
            "    ns1:property <http://www.semanticweb.org/vasilii/ontologies/2021/3/book_onto#hasNameGenre> ;\n",
            "    ns1:triples 15 .\n",
            "\n",
            "<http://example.org/Dataset_property8> a ns1:Dataset ;\n",
            "    ns1:classes 17 ;\n",
            "    ns1:distinctObjects 2208 ;\n",
            "    ns1:distinctSubjects 2207 ;\n",
            "    ns1:entities 2207 ;\n",
            "    ns1:properties 1 ;\n",
            "    ns1:property <http://www.semanticweb.org/vasilii/ontologies/2021/3/book_onto#hasNameBook> ;\n",
            "    ns1:triples 2208 .\n",
            "\n",
            "<http://example.org/Dataset_property9> a ns1:Dataset ;\n",
            "    ns1:classes 17 ;\n",
            "    ns1:distinctObjects 15 ;\n",
            "    ns1:distinctSubjects 2207 ;\n",
            "    ns1:entities 2207 ;\n",
            "    ns1:properties 1 ;\n",
            "    ns1:property <http://www.semanticweb.org/vasilii/ontologies/2021/3/book_onto#hasGenre> ;\n",
            "    ns1:triples 2688 .\n",
            "\n",
            "\n"
          ],
          "name": "stdout"
        }
      ]
    },
    {
      "cell_type": "markdown",
      "metadata": {
        "id": "k7DdSO0FbukG"
      },
      "source": [
        "# Reasoner"
      ]
    },
    {
      "cell_type": "code",
      "metadata": {
        "colab": {
          "base_uri": "https://localhost:8080/"
        },
        "id": "DwJvJwuiXdAM",
        "outputId": "84955c87-68d8-4ee8-98e7-9252e61e1163"
      },
      "source": [
        "import os\n",
        "!apt-get install -y openjdk-8-jdk-headless -qq > /dev/null\n",
        "os.environ[\"JAVA_HOME\"] = '/usr/lib/jvm/java-8-openjdk-amd64'\n",
        "!java -version"
      ],
      "execution_count": null,
      "outputs": [
        {
          "output_type": "stream",
          "text": [
            "openjdk version \"11.0.11\" 2021-04-20\n",
            "OpenJDK Runtime Environment (build 11.0.11+9-Ubuntu-0ubuntu2.18.04)\n",
            "OpenJDK 64-Bit Server VM (build 11.0.11+9-Ubuntu-0ubuntu2.18.04, mixed mode, sharing)\n"
          ],
          "name": "stdout"
        }
      ]
    },
    {
      "cell_type": "code",
      "metadata": {
        "colab": {
          "base_uri": "https://localhost:8080/"
        },
        "id": "RXLWEdGZgznJ",
        "outputId": "23ea09ab-d58f-4ad4-deda-f09c1d9fb1fa"
      },
      "source": [
        "!pip install owlready2"
      ],
      "execution_count": null,
      "outputs": [
        {
          "output_type": "stream",
          "text": [
            "Collecting owlready2\n",
            "\u001b[?25l  Downloading https://files.pythonhosted.org/packages/a5/be/8202aa87b939a758acb997ab74a37951e5ca23adf44e68faa6386479e002/Owlready2-0.31.tar.gz (23.7MB)\n",
            "\u001b[K     |████████████████████████████████| 23.7MB 6.7MB/s \n",
            "\u001b[?25hBuilding wheels for collected packages: owlready2\n",
            "  Building wheel for owlready2 (setup.py) ... \u001b[?25l\u001b[?25hdone\n",
            "  Created wheel for owlready2: filename=Owlready2-0.31-cp37-cp37m-linux_x86_64.whl size=20409731 sha256=8e08d40cfa16595a249daa6011412684d1037da7baf302c744e3e5a12fc46728\n",
            "  Stored in directory: /root/.cache/pip/wheels/9d/17/e4/54fb8381c51746a0d686b06ef3e3f607789defd8e1580bcb1b\n",
            "Successfully built owlready2\n",
            "Installing collected packages: owlready2\n",
            "Successfully installed owlready2-0.31\n"
          ],
          "name": "stdout"
        }
      ]
    },
    {
      "cell_type": "code",
      "metadata": {
        "colab": {
          "base_uri": "https://localhost:8080/",
          "height": 412
        },
        "id": "OdYT2TClbqLw",
        "outputId": "4cae147d-e967-484f-e4a2-d6b50f289564"
      },
      "source": [
        "from owlready2 import *\n",
        "\n",
        "onto = get_ontology('/content/book_ontology.rdf').load()\n",
        "with onto:\n",
        "  sync_reasoner()\n",
        "  onto.save('book_ontology_reasoner.rdf', format='rdfxml')\n"
      ],
      "execution_count": null,
      "outputs": [
        {
          "output_type": "stream",
          "text": [
            "* Owlready2 * Running HermiT...\n",
            "    java -Xmx2000M -cp /usr/local/lib/python3.7/dist-packages/owlready2/hermit:/usr/local/lib/python3.7/dist-packages/owlready2/hermit/HermiT.jar org.semanticweb.HermiT.cli.CommandLine -c -O -D -I file:////tmp/tmp9b1xqbki\n"
          ],
          "name": "stderr"
        },
        {
          "output_type": "error",
          "ename": "KeyboardInterrupt",
          "evalue": "ignored",
          "traceback": [
            "\u001b[0;31m---------------------------------------------------------------------------\u001b[0m",
            "\u001b[0;31mKeyboardInterrupt\u001b[0m                         Traceback (most recent call last)",
            "\u001b[0;32m<ipython-input-38-57e8f87098fb>\u001b[0m in \u001b[0;36m<module>\u001b[0;34m()\u001b[0m\n\u001b[1;32m      3\u001b[0m \u001b[0monto\u001b[0m \u001b[0;34m=\u001b[0m \u001b[0mget_ontology\u001b[0m\u001b[0;34m(\u001b[0m\u001b[0;34m'/content/book_ontology.rdf'\u001b[0m\u001b[0;34m)\u001b[0m\u001b[0;34m.\u001b[0m\u001b[0mload\u001b[0m\u001b[0;34m(\u001b[0m\u001b[0;34m)\u001b[0m\u001b[0;34m\u001b[0m\u001b[0;34m\u001b[0m\u001b[0m\n\u001b[1;32m      4\u001b[0m \u001b[0;32mwith\u001b[0m \u001b[0monto\u001b[0m\u001b[0;34m:\u001b[0m\u001b[0;34m\u001b[0m\u001b[0;34m\u001b[0m\u001b[0m\n\u001b[0;32m----> 5\u001b[0;31m   \u001b[0msync_reasoner\u001b[0m\u001b[0;34m(\u001b[0m\u001b[0;34m)\u001b[0m\u001b[0;34m\u001b[0m\u001b[0;34m\u001b[0m\u001b[0m\n\u001b[0m\u001b[1;32m      6\u001b[0m   \u001b[0monto\u001b[0m\u001b[0;34m.\u001b[0m\u001b[0msave\u001b[0m\u001b[0;34m(\u001b[0m\u001b[0;34m'book_ontology_reasoner.rdf'\u001b[0m\u001b[0;34m,\u001b[0m \u001b[0mformat\u001b[0m\u001b[0;34m=\u001b[0m\u001b[0;34m'rdfxml'\u001b[0m\u001b[0;34m)\u001b[0m\u001b[0;34m\u001b[0m\u001b[0;34m\u001b[0m\u001b[0m\n",
            "\u001b[0;32m/usr/local/lib/python3.7/dist-packages/owlready2/reasoning.py\u001b[0m in \u001b[0;36msync_reasoner_hermit\u001b[0;34m(x, infer_property_values, debug, keep_tmp_file)\u001b[0m\n\u001b[1;32m    139\u001b[0m \u001b[0;34m\u001b[0m\u001b[0m\n\u001b[1;32m    140\u001b[0m     \u001b[0;32mtry\u001b[0m\u001b[0;34m:\u001b[0m\u001b[0;34m\u001b[0m\u001b[0;34m\u001b[0m\u001b[0m\n\u001b[0;32m--> 141\u001b[0;31m       \u001b[0moutput\u001b[0m \u001b[0;34m=\u001b[0m \u001b[0msubprocess\u001b[0m\u001b[0;34m.\u001b[0m\u001b[0mcheck_output\u001b[0m\u001b[0;34m(\u001b[0m\u001b[0mcommand\u001b[0m\u001b[0;34m,\u001b[0m \u001b[0mstderr\u001b[0m \u001b[0;34m=\u001b[0m \u001b[0msubprocess\u001b[0m\u001b[0;34m.\u001b[0m\u001b[0mSTDOUT\u001b[0m\u001b[0;34m,\u001b[0m \u001b[0;34m**\u001b[0m\u001b[0m_subprocess_kargs\u001b[0m\u001b[0;34m)\u001b[0m\u001b[0;34m\u001b[0m\u001b[0;34m\u001b[0m\u001b[0m\n\u001b[0m\u001b[1;32m    142\u001b[0m     \u001b[0;32mexcept\u001b[0m \u001b[0msubprocess\u001b[0m\u001b[0;34m.\u001b[0m\u001b[0mCalledProcessError\u001b[0m \u001b[0;32mas\u001b[0m \u001b[0me\u001b[0m\u001b[0;34m:\u001b[0m\u001b[0;34m\u001b[0m\u001b[0;34m\u001b[0m\u001b[0m\n\u001b[1;32m    143\u001b[0m       \u001b[0;32mif\u001b[0m \u001b[0;34m(\u001b[0m\u001b[0me\u001b[0m\u001b[0;34m.\u001b[0m\u001b[0mreturncode\u001b[0m \u001b[0;34m==\u001b[0m \u001b[0;36m1\u001b[0m\u001b[0;34m)\u001b[0m \u001b[0;32mand\u001b[0m \u001b[0;34m(\u001b[0m\u001b[0;34mb\"Inconsistent ontology\"\u001b[0m \u001b[0;32min\u001b[0m \u001b[0;34m(\u001b[0m\u001b[0me\u001b[0m\u001b[0;34m.\u001b[0m\u001b[0moutput\u001b[0m \u001b[0;32mor\u001b[0m \u001b[0;34mb\"\"\u001b[0m\u001b[0;34m)\u001b[0m\u001b[0;34m)\u001b[0m\u001b[0;34m:\u001b[0m\u001b[0;34m\u001b[0m\u001b[0;34m\u001b[0m\u001b[0m\n",
            "\u001b[0;32m/usr/lib/python3.7/subprocess.py\u001b[0m in \u001b[0;36mcheck_output\u001b[0;34m(timeout, *popenargs, **kwargs)\u001b[0m\n\u001b[1;32m    409\u001b[0m \u001b[0;34m\u001b[0m\u001b[0m\n\u001b[1;32m    410\u001b[0m     return run(*popenargs, stdout=PIPE, timeout=timeout, check=True,\n\u001b[0;32m--> 411\u001b[0;31m                **kwargs).stdout\n\u001b[0m\u001b[1;32m    412\u001b[0m \u001b[0;34m\u001b[0m\u001b[0m\n\u001b[1;32m    413\u001b[0m \u001b[0;34m\u001b[0m\u001b[0m\n",
            "\u001b[0;32m/usr/lib/python3.7/subprocess.py\u001b[0m in \u001b[0;36mrun\u001b[0;34m(input, capture_output, timeout, check, *popenargs, **kwargs)\u001b[0m\n\u001b[1;32m    488\u001b[0m     \u001b[0;32mwith\u001b[0m \u001b[0mPopen\u001b[0m\u001b[0;34m(\u001b[0m\u001b[0;34m*\u001b[0m\u001b[0mpopenargs\u001b[0m\u001b[0;34m,\u001b[0m \u001b[0;34m**\u001b[0m\u001b[0mkwargs\u001b[0m\u001b[0;34m)\u001b[0m \u001b[0;32mas\u001b[0m \u001b[0mprocess\u001b[0m\u001b[0;34m:\u001b[0m\u001b[0;34m\u001b[0m\u001b[0;34m\u001b[0m\u001b[0m\n\u001b[1;32m    489\u001b[0m         \u001b[0;32mtry\u001b[0m\u001b[0;34m:\u001b[0m\u001b[0;34m\u001b[0m\u001b[0;34m\u001b[0m\u001b[0m\n\u001b[0;32m--> 490\u001b[0;31m             \u001b[0mstdout\u001b[0m\u001b[0;34m,\u001b[0m \u001b[0mstderr\u001b[0m \u001b[0;34m=\u001b[0m \u001b[0mprocess\u001b[0m\u001b[0;34m.\u001b[0m\u001b[0mcommunicate\u001b[0m\u001b[0;34m(\u001b[0m\u001b[0minput\u001b[0m\u001b[0;34m,\u001b[0m \u001b[0mtimeout\u001b[0m\u001b[0;34m=\u001b[0m\u001b[0mtimeout\u001b[0m\u001b[0;34m)\u001b[0m\u001b[0;34m\u001b[0m\u001b[0;34m\u001b[0m\u001b[0m\n\u001b[0m\u001b[1;32m    491\u001b[0m         \u001b[0;32mexcept\u001b[0m \u001b[0mTimeoutExpired\u001b[0m \u001b[0;32mas\u001b[0m \u001b[0mexc\u001b[0m\u001b[0;34m:\u001b[0m\u001b[0;34m\u001b[0m\u001b[0;34m\u001b[0m\u001b[0m\n\u001b[1;32m    492\u001b[0m             \u001b[0mprocess\u001b[0m\u001b[0;34m.\u001b[0m\u001b[0mkill\u001b[0m\u001b[0;34m(\u001b[0m\u001b[0;34m)\u001b[0m\u001b[0;34m\u001b[0m\u001b[0;34m\u001b[0m\u001b[0m\n",
            "\u001b[0;32m/usr/lib/python3.7/subprocess.py\u001b[0m in \u001b[0;36mcommunicate\u001b[0;34m(self, input, timeout)\u001b[0m\n\u001b[1;32m    949\u001b[0m                 \u001b[0mself\u001b[0m\u001b[0;34m.\u001b[0m\u001b[0m_stdin_write\u001b[0m\u001b[0;34m(\u001b[0m\u001b[0minput\u001b[0m\u001b[0;34m)\u001b[0m\u001b[0;34m\u001b[0m\u001b[0;34m\u001b[0m\u001b[0m\n\u001b[1;32m    950\u001b[0m             \u001b[0;32melif\u001b[0m \u001b[0mself\u001b[0m\u001b[0;34m.\u001b[0m\u001b[0mstdout\u001b[0m\u001b[0;34m:\u001b[0m\u001b[0;34m\u001b[0m\u001b[0;34m\u001b[0m\u001b[0m\n\u001b[0;32m--> 951\u001b[0;31m                 \u001b[0mstdout\u001b[0m \u001b[0;34m=\u001b[0m \u001b[0mself\u001b[0m\u001b[0;34m.\u001b[0m\u001b[0mstdout\u001b[0m\u001b[0;34m.\u001b[0m\u001b[0mread\u001b[0m\u001b[0;34m(\u001b[0m\u001b[0;34m)\u001b[0m\u001b[0;34m\u001b[0m\u001b[0;34m\u001b[0m\u001b[0m\n\u001b[0m\u001b[1;32m    952\u001b[0m                 \u001b[0mself\u001b[0m\u001b[0;34m.\u001b[0m\u001b[0mstdout\u001b[0m\u001b[0;34m.\u001b[0m\u001b[0mclose\u001b[0m\u001b[0;34m(\u001b[0m\u001b[0;34m)\u001b[0m\u001b[0;34m\u001b[0m\u001b[0;34m\u001b[0m\u001b[0m\n\u001b[1;32m    953\u001b[0m             \u001b[0;32melif\u001b[0m \u001b[0mself\u001b[0m\u001b[0;34m.\u001b[0m\u001b[0mstderr\u001b[0m\u001b[0;34m:\u001b[0m\u001b[0;34m\u001b[0m\u001b[0;34m\u001b[0m\u001b[0m\n",
            "\u001b[0;31mKeyboardInterrupt\u001b[0m: "
          ]
        }
      ]
    },
    {
      "cell_type": "code",
      "metadata": {
        "colab": {
          "base_uri": "https://localhost:8080/"
        },
        "id": "HcH7SO-RY3fj",
        "outputId": "a1020ecb-ea1f-46d1-8087-209af8bf24be"
      },
      "source": [
        "graph = Graph()\n",
        "graph.parse(\"book_ontology-19.rdf\", format=\"application/rdf+xml\")"
      ],
      "execution_count": null,
      "outputs": [
        {
          "output_type": "execute_result",
          "data": {
            "text/plain": [
              "<Graph identifier=Nd3133b022e67445a956d12d283067c4f (<class 'rdflib.graph.Graph'>)>"
            ]
          },
          "metadata": {
            "tags": []
          },
          "execution_count": 43
        }
      ]
    },
    {
      "cell_type": "code",
      "metadata": {
        "colab": {
          "base_uri": "https://localhost:8080/"
        },
        "id": "xfaxd8H4ZREE",
        "outputId": "be0471dd-acf7-4565-fb03-1dc727e99fec"
      },
      "source": [
        "qv4= graph.query(\"\"\"\n",
        "  PREFIX rdf: <http://www.w3.org/1999/02/22-rdf-syntax-ns#>\n",
        "  PREFIX owl: <http://www.w3.org/2002/07/owl#>\n",
        "  PREFIX rdfs: <http://www.w3.org/2000/01/rdf-schema#>\n",
        "  PREFIX xsd: <http://www.w3.org/2001/XMLSchema#>\n",
        "  PREFIX path: <http://www.semanticweb.org/vasilii/ontologies/2021/3/book_onto#>\n",
        "  SELECT ?y ?f\n",
        "  WHERE {\n",
        "    ?b rdf:type path:Entertainment_book .\n",
        "    ?b path:hasNameBook ?y\n",
        "  } \n",
        "  ORDER BY DESC(?f)\n",
        "  LIMIT 10\n",
        "  \"\"\")\n",
        "\n",
        "for row in qv4:\n",
        "    print(\"%s %s\" % row)"
      ],
      "execution_count": null,
      "outputs": [
        {
          "output_type": "stream",
          "text": [
            "(не)любимая ведьма ректора-дракона None\n",
            "Пространство любви None\n",
            "Седьмое Солнце: игры с вниманием None\n",
            "Беатрис располагает None\n",
            "Просто Вода. None\n",
            "Выпускной None\n",
            "Война кланов. None\n",
            "Особенности разведения небожителей None\n",
            "Приди, и снова вернись None\n",
            "Жёсткий секс None\n"
          ],
          "name": "stdout"
        }
      ]
    },
    {
      "cell_type": "code",
      "metadata": {
        "colab": {
          "base_uri": "https://localhost:8080/"
        },
        "id": "qXxuVV_mYQ1O",
        "outputId": "504c7cbc-dce1-461a-bdb1-dc3e9818f952"
      },
      "source": [
        "qv1= graph.query(\"\"\"\n",
        "  PREFIX owl: <http://www.w3.org/2002/07/owl#>\n",
        "PREFIX rdfs: <http://www.w3.org/2000/01/rdf-schema#>\n",
        " \n",
        "SELECT DISTINCT ?subject ?label ?supertype\n",
        "WHERE {\n",
        "    { ?subject a owl:Class . } UNION { ?individual a ?subject . } .\n",
        "    OPTIONAL { ?subject rdfs:subClassOf ?supertype } .\n",
        "    OPTIONAL { ?subject rdfs:label ?label }\n",
        "} ORDER BY ?subject\n",
        "\"\"\")\n",
        "list(qv1)\n",
        "# qv1[0]\n",
        "# for row in qv1:\n",
        "    # print(\"%s %s\" % row)"
      ],
      "execution_count": null,
      "outputs": [
        {
          "output_type": "execute_result",
          "data": {
            "text/plain": [
              "[(rdflib.term.URIRef('http://www.semanticweb.org/vasilii/ontologies/2021/3/book_onto#Author'),\n",
              "  rdflib.term.Literal('Author', lang='en'),\n",
              "  None),\n",
              " (rdflib.term.URIRef('http://www.semanticweb.org/vasilii/ontologies/2021/3/book_onto#Bad'),\n",
              "  None,\n",
              "  rdflib.term.URIRef('http://www.semanticweb.org/vasilii/ontologies/2021/3/book_onto#Status')),\n",
              " (rdflib.term.URIRef('http://www.semanticweb.org/vasilii/ontologies/2021/3/book_onto#Boevik'),\n",
              "  None,\n",
              "  rdflib.term.URIRef('http://www.semanticweb.org/vasilii/ontologies/2021/3/book_onto#Genre')),\n",
              " (rdflib.term.URIRef('http://www.semanticweb.org/vasilii/ontologies/2021/3/book_onto#Book'),\n",
              "  rdflib.term.Literal('Book', lang='en'),\n",
              "  None),\n",
              " (rdflib.term.URIRef('http://www.semanticweb.org/vasilii/ontologies/2021/3/book_onto#Detektivy'),\n",
              "  None,\n",
              "  rdflib.term.URIRef('http://www.semanticweb.org/vasilii/ontologies/2021/3/book_onto#Genre')),\n",
              " (rdflib.term.URIRef('http://www.semanticweb.org/vasilii/ontologies/2021/3/book_onto#Educational_book'),\n",
              "  rdflib.term.Literal('Education book', lang='en'),\n",
              "  rdflib.term.URIRef('http://www.semanticweb.org/vasilii/ontologies/2021/3/book_onto#Book')),\n",
              " (rdflib.term.URIRef('http://www.semanticweb.org/vasilii/ontologies/2021/3/book_onto#Entertainment_book'),\n",
              "  rdflib.term.Literal('Entertaiment book', lang='en'),\n",
              "  rdflib.term.URIRef('http://www.semanticweb.org/vasilii/ontologies/2021/3/book_onto#Book')),\n",
              " (rdflib.term.URIRef('http://www.semanticweb.org/vasilii/ontologies/2021/3/book_onto#Fanfik'),\n",
              "  None,\n",
              "  rdflib.term.URIRef('http://www.semanticweb.org/vasilii/ontologies/2021/3/book_onto#Genre')),\n",
              " (rdflib.term.URIRef('http://www.semanticweb.org/vasilii/ontologies/2021/3/book_onto#Fantastika'),\n",
              "  None,\n",
              "  rdflib.term.URIRef('http://www.semanticweb.org/vasilii/ontologies/2021/3/book_onto#Genre')),\n",
              " (rdflib.term.URIRef('http://www.semanticweb.org/vasilii/ontologies/2021/3/book_onto#Fentezi'),\n",
              "  None,\n",
              "  rdflib.term.URIRef('http://www.semanticweb.org/vasilii/ontologies/2021/3/book_onto#Genre')),\n",
              " (rdflib.term.URIRef('http://www.semanticweb.org/vasilii/ontologies/2021/3/book_onto#Genre'),\n",
              "  rdflib.term.Literal('Genre', lang='en'),\n",
              "  None),\n",
              " (rdflib.term.URIRef('http://www.semanticweb.org/vasilii/ontologies/2021/3/book_onto#Good'),\n",
              "  None,\n",
              "  rdflib.term.URIRef('http://www.semanticweb.org/vasilii/ontologies/2021/3/book_onto#Status')),\n",
              " (rdflib.term.URIRef('http://www.semanticweb.org/vasilii/ontologies/2021/3/book_onto#Istoricheskiy_roman'),\n",
              "  None,\n",
              "  rdflib.term.URIRef('http://www.semanticweb.org/vasilii/ontologies/2021/3/book_onto#Genre')),\n",
              " (rdflib.term.URIRef('http://www.semanticweb.org/vasilii/ontologies/2021/3/book_onto#Jenskaya_proza'),\n",
              "  None,\n",
              "  rdflib.term.URIRef('http://www.semanticweb.org/vasilii/ontologies/2021/3/book_onto#Genre')),\n",
              " (rdflib.term.URIRef('http://www.semanticweb.org/vasilii/ontologies/2021/3/book_onto#Litrpg'),\n",
              "  None,\n",
              "  rdflib.term.URIRef('http://www.semanticweb.org/vasilii/ontologies/2021/3/book_onto#Genre')),\n",
              " (rdflib.term.URIRef('http://www.semanticweb.org/vasilii/ontologies/2021/3/book_onto#Lyubovnye_romany'),\n",
              "  None,\n",
              "  rdflib.term.URIRef('http://www.semanticweb.org/vasilii/ontologies/2021/3/book_onto#Genre')),\n",
              " (rdflib.term.URIRef('http://www.semanticweb.org/vasilii/ontologies/2021/3/book_onto#Mistikaujasy'),\n",
              "  None,\n",
              "  rdflib.term.URIRef('http://www.semanticweb.org/vasilii/ontologies/2021/3/book_onto#Genre')),\n",
              " (rdflib.term.URIRef('http://www.semanticweb.org/vasilii/ontologies/2021/3/book_onto#Molodejnaya_proza'),\n",
              "  None,\n",
              "  rdflib.term.URIRef('http://www.semanticweb.org/vasilii/ontologies/2021/3/book_onto#Genre')),\n",
              " (rdflib.term.URIRef('http://www.semanticweb.org/vasilii/ontologies/2021/3/book_onto#Popadancy'),\n",
              "  None,\n",
              "  rdflib.term.URIRef('http://www.semanticweb.org/vasilii/ontologies/2021/3/book_onto#Genre')),\n",
              " (rdflib.term.URIRef('http://www.semanticweb.org/vasilii/ontologies/2021/3/book_onto#Proza'),\n",
              "  None,\n",
              "  rdflib.term.URIRef('http://www.semanticweb.org/vasilii/ontologies/2021/3/book_onto#Raznoe')),\n",
              " (rdflib.term.URIRef('http://www.semanticweb.org/vasilii/ontologies/2021/3/book_onto#Raznoe'),\n",
              "  None,\n",
              "  rdflib.term.URIRef('http://www.semanticweb.org/vasilii/ontologies/2021/3/book_onto#Genre')),\n",
              " (rdflib.term.URIRef('http://www.semanticweb.org/vasilii/ontologies/2021/3/book_onto#Satisfactory'),\n",
              "  None,\n",
              "  rdflib.term.URIRef('http://www.semanticweb.org/vasilii/ontologies/2021/3/book_onto#Status')),\n",
              " (rdflib.term.URIRef('http://www.semanticweb.org/vasilii/ontologies/2021/3/book_onto#Status'),\n",
              "  None,\n",
              "  None),\n",
              " (rdflib.term.URIRef('http://www.semanticweb.org/vasilii/ontologies/2021/3/book_onto#Tags'),\n",
              "  rdflib.term.Literal('Tags', lang='en'),\n",
              "  None),\n",
              " (rdflib.term.URIRef('http://www.semanticweb.org/vasilii/ontologies/2021/3/book_onto#Trillery'),\n",
              "  None,\n",
              "  rdflib.term.URIRef('http://www.semanticweb.org/vasilii/ontologies/2021/3/book_onto#Genre')),\n",
              " (rdflib.term.URIRef('http://www.w3.org/2002/07/owl#Class'), None, None),\n",
              " (rdflib.term.URIRef('http://www.w3.org/2002/07/owl#DatatypeProperty'),\n",
              "  None,\n",
              "  None),\n",
              " (rdflib.term.URIRef('http://www.w3.org/2002/07/owl#NamedIndividual'),\n",
              "  None,\n",
              "  None),\n",
              " (rdflib.term.URIRef('http://www.w3.org/2002/07/owl#ObjectProperty'),\n",
              "  None,\n",
              "  None),\n",
              " (rdflib.term.URIRef('http://www.w3.org/2002/07/owl#Ontology'), None, None)]"
            ]
          },
          "metadata": {
            "tags": []
          },
          "execution_count": 6
        }
      ]
    },
    {
      "cell_type": "code",
      "metadata": {
        "id": "uyff0Bxg-DLP",
        "colab": {
          "base_uri": "https://localhost:8080/"
        },
        "outputId": "3436a2de-e2b2-4336-a139-ad701c15443f"
      },
      "source": [
        "qv1= graph.query(\"\"\"\n",
        "  PREFIX owl: <http://www.w3.org/2002/07/owl#>\n",
        "  PREFIX rdfs: <http://www.w3.org/2000/01/rdf-schema#>\n",
        "  \n",
        "  SELECT DISTINCT ?p\n",
        "  WHERE {\n",
        "    ?p a owl:DatatypeProperty . \n",
        "  }\n",
        "\"\"\")\n",
        "\n",
        "\n",
        "list(qv1)"
      ],
      "execution_count": null,
      "outputs": [
        {
          "output_type": "execute_result",
          "data": {
            "text/plain": [
              "[(rdflib.term.URIRef('http://www.semanticweb.org/vasilii/ontologies/2021/3/book_onto#hasURL')),\n",
              " (rdflib.term.URIRef('http://www.semanticweb.org/vasilii/ontologies/2021/3/book_onto#hasDescription')),\n",
              " (rdflib.term.URIRef('http://www.semanticweb.org/vasilii/ontologies/2021/3/book_onto#hasViews')),\n",
              " (rdflib.term.URIRef('http://www.semanticweb.org/vasilii/ontologies/2021/3/book_onto#hasNumberOfPages')),\n",
              " (rdflib.term.URIRef('http://www.semanticweb.org/vasilii/ontologies/2021/3/book_onto#hasRate')),\n",
              " (rdflib.term.URIRef('http://www.semanticweb.org/vasilii/ontologies/2021/3/book_onto#hasName')),\n",
              " (rdflib.term.URIRef('http://www.semanticweb.org/vasilii/ontologies/2021/3/book_onto#hasFavorites'))]"
            ]
          },
          "metadata": {
            "tags": []
          },
          "execution_count": 22
        }
      ]
    },
    {
      "cell_type": "code",
      "metadata": {
        "id": "mSrELeSc4iSW"
      },
      "source": [
        ""
      ],
      "execution_count": null,
      "outputs": []
    }
  ]
}